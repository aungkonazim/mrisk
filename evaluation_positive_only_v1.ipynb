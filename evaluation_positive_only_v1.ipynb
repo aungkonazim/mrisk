{
 "cells": [
  {
   "cell_type": "code",
   "execution_count": 1,
   "metadata": {},
   "outputs": [
    {
     "name": "stdout",
     "output_type": "stream",
     "text": [
      "(27959, 50)\n",
      "(27959, 50)\n"
     ]
    }
   ],
   "source": [
    "import numpy as np\n",
    "import pandas as pd\n",
    "# %matplotlib notebook\n",
    "import pickle\n",
    "import os\n",
    "from scipy.signal import savgol_filter\n",
    "import matplotlib.pyplot as plt\n",
    "from scipy.interpolate import interp1d\n",
    "from collections import Counter\n",
    "from sklearn import metrics\n",
    "from datetime import datetime\n",
    "from utils.utils import *\n",
    "from joblib import Parallel, delayed\n",
    "from copy import deepcopy\n",
    "import math\n",
    "\n",
    "def return_important_vars(episode_presence,n_lag=15,n_cluster = 2,obs = 30):\n",
    "    data_file = './data/episode_encoded_lagged_data_with_episode/episode_encoded_'+'lagged_'+str(n_lag)+'_obs_{}'.format(obs)+'_windows_with_episode_cluster_check_{}'.format(n_cluster)\n",
    "    if episode_presence==0:\n",
    "        episode_label = 'only'\n",
    "    elif episode_presence==1:\n",
    "        episode_label = 'with'\n",
    "    elif episode_presence==2:\n",
    "        episode_label = 'no'\n",
    "    filename = './data/output_final_all/result_'+str(episode_label)+'_episode_lag_{}_obs_{}_triplet_loss_cluster_{}.p'.format(n_lag,obs,n_cluster)        \n",
    "    data_eval = pickle.load(open(filename,'rb'))\n",
    "    file1 = './data/mRisk/mRisk_Lapse_postquit.csv'\n",
    "    puff_data = pd.read_csv(file1)\n",
    "    data_feature_label = pickle.load(open(data_file,'rb'))\n",
    "    data_cluster = pickle.load(open(data_file,'rb'))\n",
    "    temp = data_cluster.groupby(['user','cluster_label']).count().index.values\n",
    "    users = np.array([a[0] for a in temp])\n",
    "    labels = np.array([a[1] for a in temp])\n",
    "    cluster_dict = {}\n",
    "    for i,a in enumerate(users):\n",
    "        cluster_dict[a] = labels[i]\n",
    "    y_time,y_pred,y_test,y_pid,bias_dict,val_results = data_eval[0],np.array(data_eval[1]),data_eval[2],data_eval[3],data_eval[4],data_eval[5]\n",
    "    y_time,y_pred,y_test,y_pid,pars = np.array(y_time),np.array(y_pred).reshape(len(y_test),-1),np.array(y_test),np.array(y_pid),np.unique(y_pid)\n",
    "    lapse_captured_dict = {}\n",
    "    total_lapsers = 0\n",
    "    result_phenotypes_final = {}\n",
    "    return y_pred, y_test, y_time, y_pid, lapse_captured_dict, result_phenotypes_final, cluster_dict, puff_data, data_feature_label, total_lapsers, pars, bias_dict\n",
    "\n",
    "n_lag = 15\n",
    "n_cluster = 4\n",
    "obs = 30\n",
    "label = 'DRES'\n",
    "all_dfs = []\n",
    "from sklearn.preprocessing import MinMaxScaler\n",
    "for episode_presence in [0,2]:\n",
    "    y_pred, y_test, y_time, y_pid, lapse_captured_dict, result_phenotypes_final, cluster_dict, puff_data, data_feature_label, total_lapsers, pars, bias_dict = return_important_vars(episode_presence=episode_presence,n_lag=n_lag)\n",
    "    if episode_presence==0:\n",
    "        label = 'DDHI'\n",
    "    elif episode_presence==1:\n",
    "        label = 'DDHI (Only Episode)'\n",
    "    elif episode_presence==2:\n",
    "        label = 'DRES'\n",
    "    y_pred_final = []\n",
    "    print(y_pred.shape)\n",
    "    for user in np.unique(y_pid):\n",
    "        a = np.where(y_pid==user)[0]\n",
    "        y_pred_pid = y_pred[a]\n",
    "        biases = np.array(bias_dict[user])\n",
    "        # np.percentile(y_pred_pid[:,ii],80)\n",
    "        # if label=='DRES':\n",
    "        # y_pred_pid = MinMaxScaler().fit_transform(y_pred_pid)\n",
    "        for ii in range(y_pred_pid.shape[1]):\n",
    "            y_pred_pid[:,ii] = np.array(y_pred_pid[:,ii]>=np.percentile(y_pred_pid[:,ii],65),dtype=int)\n",
    "        y_pred_pid = np.mean(y_pred_pid,axis=1) \n",
    "        y_pred_final.extend(list(y_pred_pid))\n",
    "    df = pd.DataFrame({'Original':y_test,'Predicted':y_pred_final,'User':y_pid,'Time':y_time})\n",
    "    df['Model'] = [label]*df.shape[0]\n",
    "    all_dfs.append(df)\n",
    "\n",
    "df_final = pd.concat(all_dfs)\n",
    "# df_final.Predicted.plot(kind='hist')\n",
    "def get_lapse_times(puff_data,par):\n",
    "    return np.array([np.datetime64(datetime.fromtimestamp(lapse_time/1000)) for lapse_time in puff_data[puff_data['Participant']==int(par)]['Lapse'].values])\n",
    "\n",
    "\n",
    "def get_positive_only_prediction(df):\n",
    "    df = df.sort_values('Time').reset_index(drop=True)\n",
    "    lapse_times = get_lapse_times(puff_data,df['User'].values[0])\n",
    "    if len(lapse_times)==0:\n",
    "        return pd.DataFrame([],columns=df.columns)\n",
    "    df['Lapse'] = [-1]*df.shape[0]\n",
    "    indexes = []\n",
    "    for i,row in df.iterrows():\n",
    "        for j,lapse in enumerate(lapse_times):\n",
    "            if row['Time']<=lapse and abs((row['Time']-lapse).total_seconds()/60)<=60:\n",
    "                indexes.append(i)\n",
    "                df['Lapse'].at[i] = j\n",
    "    return df.loc[indexes]\n",
    "\n",
    "df_all_final = df_final.groupby(['User','Model'],as_index=False).apply(get_positive_only_prediction)\n",
    "\n",
    "final_df = []\n",
    "final_df_burden = []\n",
    "for bias in np.arange(0.02,1,.01):\n",
    "    def get_results(df):\n",
    "        if df.shape[0]<5:\n",
    "            return pd.DataFrame([],columns=['y_test','y_pred','user','Model'])\n",
    "        model_name = df['Model'].values[0]\n",
    "        user = df['User'].values[0]\n",
    "        if np.max(df['Predicted'])>=bias:\n",
    "            y_pred = 1\n",
    "        else:\n",
    "            y_pred = 0\n",
    "        return pd.DataFrame({'y_test':[1],'y_pred':[y_pred],'user':[user],'Model':[model_name]})\n",
    "\n",
    "    results = df_all_final.groupby(['User','Model','Lapse'],as_index=False).apply(get_results).reset_index(drop=True)\n",
    "    from sklearn.metrics import accuracy_score\n",
    "    results['y_test'] = np.int64(results['y_test'])\n",
    "    results['y_pred'] = np.int64(results['y_pred']) \n",
    "    results_scores = results.groupby('Model',as_index=False).apply(lambda a:pd.Series({'Accuracy':accuracy_score(a['y_test'],a['y_pred'])}))\n",
    "    results_scores['Bias'] = bias\n",
    "    final_df.append(results_scores)\n",
    "    temp_data = []\n",
    "    for model in ['DDHI','DRES']:\n",
    "        ratio_ = 100*df_final[df_final.Model.isin([model])&(df_final.Predicted>bias)].shape[0]/df_final[df_final.Model.isin([model])].shape[0]\n",
    "        temp_data.append([model,bias,ratio_])\n",
    "    final_df_burden.append(pd.DataFrame(temp_data,columns=['Model','Bias','Accuracy']))\n",
    "df_burden = pd.concat(final_df_burden)\n",
    "final_df_result = pd.concat(final_df)"
   ]
  },
  {
   "cell_type": "markdown",
   "metadata": {},
   "source": []
  },
  {
   "cell_type": "code",
   "execution_count": null,
   "metadata": {},
   "outputs": [],
   "source": [
    "df1 = final_df_result.groupby(['Model','Bias'],as_index=False).mean()"
   ]
  },
  {
   "cell_type": "code",
   "execution_count": null,
   "metadata": {},
   "outputs": [],
   "source": [
    "df1[(df1.Accuracy>.72)&(df1.Accuracy<.84)&(df1.Model!='DDHI')].sort_values('Bias')"
   ]
  },
  {
   "cell_type": "code",
   "execution_count": null,
   "metadata": {},
   "outputs": [],
   "source": [
    "results_scores"
   ]
  },
  {
   "cell_type": "code",
   "execution_count": null,
   "metadata": {},
   "outputs": [],
   "source": [
    "\n",
    "\n",
    "\n",
    "import seaborn as sns\n",
    "plt.figure(figsize=(10,8))\n",
    "sns.ecdfplot(data=  df_final.reset_index(drop=True), x=\"Predicted\",hue='Model')"
   ]
  },
  {
   "cell_type": "code",
   "execution_count": null,
   "metadata": {},
   "outputs": [],
   "source": [
    "import seaborn as sns\n",
    "plt.rcParams.update({'font.size':15})\n",
    "plt.figure(figsize=(8,5))\n",
    "sns.lineplot(x='Bias',y='Accuracy',hue='Model',data=final_df_result[final_df_result.Model!='DHI'].reset_index(drop=True))\n",
    "plt.vlines([.620],0,.8,color='tab:blue',linestyle='--',label=r'$B_L, DDHI$')\n",
    "plt.vlines([.5],0,.8,color='orange',linestyle='--',label=r'$B_L, DRES$')\n",
    "plt.text(.45,.45,r'$B_L = 0.5$',color='orange',rotation=90)\n",
    "plt.text(.57,.32,r'$B_L = 0.62$',color='tab:blue',rotation=90)\n",
    "# plt.arrow(x=.499, y=.4, dx=.08, dy=0, width=.01,label='Improvement in ') \n",
    "# plt.vlines([.5],0,1,color='g',linestyle='--',label='Decision Threshold')\n",
    "plt.hlines([.8],0,.620,color='k',linestyle='-.',label='Accuracy = 0.8')\n",
    "plt.ylim([0,1.1])\n",
    "plt.xlim([0,1.1])\n",
    "plt.legend(loc='lower left',frameon=False)\n",
    "plt.xlabel('High Risk Decision Threshold, '+r'$B_L$')\n",
    "plt.ylabel('Lapse Event \\nDetection Accuracy')\n",
    "plt.tight_layout()\n",
    "# plt.savefig('./data/images/detection_accuracy.png')\n",
    "plt.show()"
   ]
  },
  {
   "cell_type": "code",
   "execution_count": null,
   "metadata": {},
   "outputs": [],
   "source": [
    "import seaborn as sns\n",
    "plt.figure(figsize=(8,5))\n",
    "sns.lineplot(x='Bias',y='Accuracy',hue='Model',data=df_burden.reset_index(drop=True))\n",
    "plt.vlines([0.62],0,28.88,color='tab:blue',linestyle='--')\n",
    "plt.vlines([0.5],0,44.014,color='orange',linestyle='--')\n",
    "plt.text(.45,2,r'$B_L = 0.5$',color='orange',rotation=90)\n",
    "plt.text(.57,2,r'$B_L = 0.62$',color='tab:blue',rotation=90)\n",
    "\n",
    "plt.hlines([28.88,44.014],[0,0],[.62,.5],color='k',linestyle='--')\n",
    "plt.text(.1,45,'Perc. = {}%'.format(44.01),color='orange')\n",
    "plt.text(.1,30,'Perc. = {}%'.format(28.88),color='tab:blue')\n",
    "# plt.arrow(x=.2, y=28.88, dx=0, dy=12, width=.01,head_width=0.02,head_length=0.02,color='g',length_includes_head=True)\n",
    "# plt.text(.21,30.5,'Improvement \\nfor DDHI (~12%)',color='g') \n",
    "plt.ylim([0,110])\n",
    "plt.xlim([0,1.1])\n",
    "plt.legend()\n",
    "plt.xlabel('High Risk Decision Threshold, '+r'$B_L$')\n",
    "plt.ylabel('Percentage of Assessment Windows \\nlabelled High Risk')\n",
    "plt.tight_layout()\n",
    "# plt.savefig('./data/images/burden.png')\n",
    "plt.show()"
   ]
  },
  {
   "cell_type": "code",
   "execution_count": null,
   "metadata": {},
   "outputs": [],
   "source": [
    "import seaborn as sns\n",
    "plt.rcParams.update({'font.size':17})\n",
    "plt.figure(figsize=(8,5))\n",
    "sns.kdeplot(x='Predicted',hue='Model',data=df_final.reset_index(drop=True),multiple='layer',common_norm=False,fill=False)\n",
    "plt.xlabel('mRisk Lapse Likelihood')\n",
    "# plt.ylabel('Frequency')\n",
    "# plt.tight_layout()\n",
    "# plt.savefig('./data/images/histogram_of_risk_likelihood.png')\n",
    "plt.show()"
   ]
  },
  {
   "cell_type": "code",
   "execution_count": 2,
   "metadata": {},
   "outputs": [
    {
     "name": "stderr",
     "output_type": "stream",
     "text": [
      "/tmp/ipykernel_14378/2520536407.py:2: SettingWithCopyWarning: \n",
      "A value is trying to be set on a copy of a slice from a DataFrame.\n",
      "Try using .loc[row_indexer,col_indexer] = value instead\n",
      "\n",
      "See the caveats in the documentation: https://pandas.pydata.org/pandas-docs/stable/user_guide/indexing.html#returning-a-view-versus-a-copy\n",
      "  df_final1['day'] = df_final1['Time'].apply(lambda a:str(a)[:10])\n"
     ]
    }
   ],
   "source": [
    "df_final1 = df_final[df_final.Model=='DDHI']\n",
    "df_final1['day'] = df_final1['Time'].apply(lambda a:str(a)[:10])"
   ]
  },
  {
   "cell_type": "code",
   "execution_count": 7,
   "metadata": {},
   "outputs": [
    {
     "data": {
      "text/html": [
       "<div>\n",
       "<style scoped>\n",
       "    .dataframe tbody tr th:only-of-type {\n",
       "        vertical-align: middle;\n",
       "    }\n",
       "\n",
       "    .dataframe tbody tr th {\n",
       "        vertical-align: top;\n",
       "    }\n",
       "\n",
       "    .dataframe thead th {\n",
       "        text-align: right;\n",
       "    }\n",
       "</style>\n",
       "<table border=\"1\" class=\"dataframe\">\n",
       "  <thead>\n",
       "    <tr style=\"text-align: right;\">\n",
       "      <th></th>\n",
       "      <th>Original</th>\n",
       "      <th>Predicted</th>\n",
       "      <th>User</th>\n",
       "      <th>Time</th>\n",
       "      <th>Model</th>\n",
       "      <th>day</th>\n",
       "    </tr>\n",
       "  </thead>\n",
       "  <tbody>\n",
       "    <tr>\n",
       "      <th>0</th>\n",
       "      <td>0.0</td>\n",
       "      <td>0.268253</td>\n",
       "      <td>3002</td>\n",
       "      <td>2017-06-09 11:14:15.864</td>\n",
       "      <td>DDHI</td>\n",
       "      <td>2017-06-09</td>\n",
       "    </tr>\n",
       "    <tr>\n",
       "      <th>1</th>\n",
       "      <td>0.0</td>\n",
       "      <td>0.285728</td>\n",
       "      <td>3002</td>\n",
       "      <td>2017-06-09 11:16:15.864</td>\n",
       "      <td>DDHI</td>\n",
       "      <td>2017-06-09</td>\n",
       "    </tr>\n",
       "    <tr>\n",
       "      <th>2</th>\n",
       "      <td>0.0</td>\n",
       "      <td>0.318047</td>\n",
       "      <td>3002</td>\n",
       "      <td>2017-06-09 11:18:15.864</td>\n",
       "      <td>DDHI</td>\n",
       "      <td>2017-06-09</td>\n",
       "    </tr>\n",
       "    <tr>\n",
       "      <th>3</th>\n",
       "      <td>0.0</td>\n",
       "      <td>0.312225</td>\n",
       "      <td>3002</td>\n",
       "      <td>2017-06-09 11:20:15.864</td>\n",
       "      <td>DDHI</td>\n",
       "      <td>2017-06-09</td>\n",
       "    </tr>\n",
       "    <tr>\n",
       "      <th>4</th>\n",
       "      <td>0.0</td>\n",
       "      <td>0.281347</td>\n",
       "      <td>3002</td>\n",
       "      <td>2017-06-09 11:22:15.864</td>\n",
       "      <td>DDHI</td>\n",
       "      <td>2017-06-09</td>\n",
       "    </tr>\n",
       "    <tr>\n",
       "      <th>...</th>\n",
       "      <td>...</td>\n",
       "      <td>...</td>\n",
       "      <td>...</td>\n",
       "      <td>...</td>\n",
       "      <td>...</td>\n",
       "      <td>...</td>\n",
       "    </tr>\n",
       "    <tr>\n",
       "      <th>27954</th>\n",
       "      <td>1.0</td>\n",
       "      <td>0.585477</td>\n",
       "      <td>3168</td>\n",
       "      <td>2019-03-25 18:13:19.464</td>\n",
       "      <td>DDHI</td>\n",
       "      <td>2019-03-25</td>\n",
       "    </tr>\n",
       "    <tr>\n",
       "      <th>27955</th>\n",
       "      <td>1.0</td>\n",
       "      <td>0.590446</td>\n",
       "      <td>3168</td>\n",
       "      <td>2019-03-25 18:15:19.464</td>\n",
       "      <td>DDHI</td>\n",
       "      <td>2019-03-25</td>\n",
       "    </tr>\n",
       "    <tr>\n",
       "      <th>27956</th>\n",
       "      <td>1.0</td>\n",
       "      <td>0.649141</td>\n",
       "      <td>3168</td>\n",
       "      <td>2019-03-25 18:17:19.464</td>\n",
       "      <td>DDHI</td>\n",
       "      <td>2019-03-25</td>\n",
       "    </tr>\n",
       "    <tr>\n",
       "      <th>27957</th>\n",
       "      <td>1.0</td>\n",
       "      <td>0.678112</td>\n",
       "      <td>3168</td>\n",
       "      <td>2019-03-25 18:19:19.464</td>\n",
       "      <td>DDHI</td>\n",
       "      <td>2019-03-25</td>\n",
       "    </tr>\n",
       "    <tr>\n",
       "      <th>27958</th>\n",
       "      <td>1.0</td>\n",
       "      <td>0.679756</td>\n",
       "      <td>3168</td>\n",
       "      <td>2019-03-25 18:21:19.464</td>\n",
       "      <td>DDHI</td>\n",
       "      <td>2019-03-25</td>\n",
       "    </tr>\n",
       "  </tbody>\n",
       "</table>\n",
       "<p>27959 rows × 6 columns</p>\n",
       "</div>"
      ],
      "text/plain": [
       "       Original  Predicted  User                    Time Model         day\n",
       "0           0.0   0.268253  3002 2017-06-09 11:14:15.864  DDHI  2017-06-09\n",
       "1           0.0   0.285728  3002 2017-06-09 11:16:15.864  DDHI  2017-06-09\n",
       "2           0.0   0.318047  3002 2017-06-09 11:18:15.864  DDHI  2017-06-09\n",
       "3           0.0   0.312225  3002 2017-06-09 11:20:15.864  DDHI  2017-06-09\n",
       "4           0.0   0.281347  3002 2017-06-09 11:22:15.864  DDHI  2017-06-09\n",
       "...         ...        ...   ...                     ...   ...         ...\n",
       "27954       1.0   0.585477  3168 2019-03-25 18:13:19.464  DDHI  2019-03-25\n",
       "27955       1.0   0.590446  3168 2019-03-25 18:15:19.464  DDHI  2019-03-25\n",
       "27956       1.0   0.649141  3168 2019-03-25 18:17:19.464  DDHI  2019-03-25\n",
       "27957       1.0   0.678112  3168 2019-03-25 18:19:19.464  DDHI  2019-03-25\n",
       "27958       1.0   0.679756  3168 2019-03-25 18:21:19.464  DDHI  2019-03-25\n",
       "\n",
       "[27959 rows x 6 columns]"
      ]
     },
     "execution_count": 7,
     "metadata": {},
     "output_type": "execute_result"
    }
   ],
   "source": [
    "df_final1"
   ]
  },
  {
   "cell_type": "code",
   "execution_count": 73,
   "metadata": {},
   "outputs": [
    {
     "name": "stdout",
     "output_type": "stream",
     "text": [
      "4510.3153\n"
     ]
    },
    {
     "name": "stderr",
     "output_type": "stream",
     "text": [
      "/tmp/ipykernel_14378/438566061.py:18: DeprecationWarning: an integer is required (got type Series).  Implicit conversion to integers using __int__ is deprecated, and may be removed in a future version of Python.\n",
      "  lapse_time = np.datetime64(datetime.fromtimestamp(lapse_time/1000))\n",
      "/tmp/ipykernel_14378/438566061.py:33: MatplotlibDeprecationWarning: Case-insensitive properties were deprecated in 3.3 and support will be removed two minor releases later\n",
      "  plt.vlines(x_int,0,1,color='k',Label='Intervention Times')\n"
     ]
    },
    {
     "data": {
      "image/png": "[encoded data removed]",
      "text/plain": [
       "<Figure size 1080x360 with 1 Axes>"
      ]
     },
     "metadata": {
      "needs_background": "light"
     },
     "output_type": "display_data"
    },
    {
     "name": "stderr",
     "output_type": "stream",
     "text": [
      "/tmp/ipykernel_14378/438566061.py:18: DeprecationWarning: an integer is required (got type Series).  Implicit conversion to integers using __int__ is deprecated, and may be removed in a future version of Python.\n",
      "  lapse_time = np.datetime64(datetime.fromtimestamp(lapse_time/1000))\n"
     ]
    },
    {
     "name": "stdout",
     "output_type": "stream",
     "text": [
      "22.12145\n"
     ]
    },
    {
     "name": "stderr",
     "output_type": "stream",
     "text": [
      "/tmp/ipykernel_14378/438566061.py:33: MatplotlibDeprecationWarning: Case-insensitive properties were deprecated in 3.3 and support will be removed two minor releases later\n",
      "  plt.vlines(x_int,0,1,color='k',Label='Intervention Times')\n"
     ]
    },
    {
     "data": {
      "image/png": "[encoded data removed]",
      "text/plain": [
       "<Figure size 1080x360 with 1 Axes>"
      ]
     },
     "metadata": {
      "needs_background": "light"
     },
     "output_type": "display_data"
    }
   ],
   "source": [
    "# inc = ['3002', '3004', '3005', '3006', '3007', '3009', '3013', '3014', '3015', '3022', '3024', '3025', '3029', '3031', '3033',\n",
    "#  '3036', '3038', '3041', '3045', '3048', '3050', '3053', '3076', '3077', '3079', '3086', '3088', '3091', '3095', '3099',\n",
    "#  '3101', '3102', '3122', '3125', '3126', '3128', '3133', '3135', '3137', '3138', '3139', '3143', '3145', '3148', '3152',\n",
    "#  '3153', '3158', '3160', '3164', '3165', '3166', '3168']\n",
    "plt.rcParams.update({'font.size':17})\n",
    "bias = .62\n",
    "from datetime import timedelta\n",
    "ig = 60\n",
    "def smooth(y, box_pts):\n",
    "    box = np.ones(box_pts)/box_pts\n",
    "    y_smooth = np.convolve(y, box, mode='same')\n",
    "    return y_smooth\n",
    "inc = df_final1.User.unique()\n",
    "for par in ['3004']:\n",
    "    temp1 = df_final1[df_final1.User==par]\n",
    "    for day in temp1.day.unique():\n",
    "        lapse_time = puff_data[puff_data.Participant==3004]['Lapse']\n",
    "        lapse_time = np.datetime64(datetime.fromtimestamp(lapse_time/1000))\n",
    "        temp = temp1[temp1.day==day].sort_values('Time').reset_index(drop=True)\n",
    "        x = temp['Time'].values\n",
    "        y = MinMaxScaler().fit_transform(smooth(temp['Predicted'].values,5).reshape(-1,1)).reshape(-1)\n",
    "        x_int = []\n",
    "        y_int = []\n",
    "        for i,row in enumerate(x):\n",
    "            if y[i]<bias:\n",
    "                continue\n",
    "            if len(x_int)==0:\n",
    "                x_int.append(row)\n",
    "            elif (row-x_int[-1])/np.timedelta64(1, 'm') >=ig:\n",
    "                x_int.append(row)\n",
    "        plt.figure(figsize=(15,5))\n",
    "        plt.plot(x,y,'*--',c='tab:blue')\n",
    "        plt.vlines(x_int,0,1,color='k',Label='Intervention Times')\n",
    "        plt.vlines([lapse_time-np.timedelta64(0,'m')],0,1,color='red')\n",
    "        plt.text(lapse_time-np.timedelta64(0,'m'),.5,'Lapse Time',rotation=90,color='red')\n",
    "        print((lapse_time-x_int[-1])/np.timedelta64(1,'m'))\n",
    "        plt.xticks(x[np.arange(0,len(x),10)],np.array([str(a)[11:16] for a in x])[np.arange(0,len(x),10)],rotation=90)\n",
    "        # plt.title(par+'-'+day)\n",
    "        plt.xlabel('Time')\n",
    "        plt.ylabel('Lapse Likelihood, DDHI')\n",
    "        plt.legend()\n",
    "        plt.show()"
   ]
  },
  {
   "cell_type": "code",
   "execution_count": 55,
   "metadata": {},
   "outputs": [
    {
     "data": {
      "text/plain": [
       "'08:36'"
      ]
     },
     "execution_count": 55,
     "metadata": {},
     "output_type": "execute_result"
    }
   ],
   "source": [
    "str(x_int[0])[11:16]"
   ]
  },
  {
   "cell_type": "code",
   "execution_count": null,
   "metadata": {},
   "outputs": [],
   "source": [
    "import seaborn as sns\n",
    "plt.rcParams.update({'font.size':15})\n",
    "plt.figure(figsize=(7,5))\n",
    "sns.histplot(y_pred_final,bins=10)\n",
    "plt.xlabel('mRisk Lapse Likelihood (DDHI)')\n",
    "plt.ylabel('Frequency')\n",
    "plt.tight_layout()\n",
    "plt.savefig('./data/images/histogram_of_risk_likelihood.png')\n",
    "plt.show()"
   ]
  },
  {
   "cell_type": "code",
   "execution_count": null,
   "metadata": {},
   "outputs": [],
   "source": [
    "df.loc[df.shape[0]-1]"
   ]
  },
  {
   "cell_type": "code",
   "execution_count": null,
   "metadata": {},
   "outputs": [],
   "source": [
    "df[-1:]"
   ]
  },
  {
   "cell_type": "code",
   "execution_count": null,
   "metadata": {},
   "outputs": [],
   "source": []
  }
 ],
 "metadata": {
  "interpreter": {
   "hash": "51b244ab9aca612e739a0539ae1af887c58db9e180d786deb0ab1761def69c1f"
  },
  "kernelspec": {
   "display_name": "Python 3.8.5 64-bit ('test1': conda)",
   "language": "python",
   "name": "python3"
  },
  "language_info": {
   "codemirror_mode": {
    "name": "ipython",
    "version": 3
   },
   "file_extension": ".py",
   "mimetype": "text/x-python",
   "name": "python",
   "nbconvert_exporter": "python",
   "pygments_lexer": "ipython3",
   "version": "3.9.7"
  },
  "orig_nbformat": 4
 },
 "nbformat": 4,
 "nbformat_minor": 2
}
