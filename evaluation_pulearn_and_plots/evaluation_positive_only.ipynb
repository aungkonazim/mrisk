{
 "cells": [
  {
   "cell_type": "code",
   "execution_count": 258,
   "metadata": {},
   "outputs": [],
   "source": [
    "import numpy as np\n",
    "import pandas as pd\n",
    "# %matplotlib notebook\n",
    "import pickle\n",
    "import os\n",
    "from scipy.signal import savgol_filter\n",
    "import matplotlib.pyplot as plt\n",
    "from scipy.interpolate import interp1d\n",
    "from collections import Counter\n",
    "from sklearn import metrics\n",
    "from datetime import datetime\n",
    "from utils.utils import *\n",
    "from joblib import Parallel, delayed\n",
    "from copy import deepcopy\n",
    "import math\n",
    "\n",
    "\n",
    "def return_important_vars(episode_presence,n_lag):\n",
    "    if n_cluster==2:\n",
    "        data_file = './data/episode_encoded_lagged_data/episode_encoded_'+'lagged_{}_windows_standardized_phenotype_with_episode_cluster_check_2'.format(n_lag)\n",
    "    elif n_cluster==6:\n",
    "        data_file = './data/episode_encoded_lagged_data/episode_encoded_'+'lagged_{}_windows_standardized_phenotype_with_episode_cluster_check_6'.format(n_lag)\n",
    "    else:\n",
    "        data_file = './data/episode_encoded_lagged_data/episode_encoded_'+'lagged_{}_windows_standardized_phenotype_with_episode_cluster_check'.format(n_lag)\n",
    "    \n",
    "    if episode_presence in [0,3]:\n",
    "        if n_cluster==2:\n",
    "            filename = './data/output_final/result_only_episode_lag_{}_triplet_loss_cluster_2.p'.format(n_lag)\n",
    "        if n_cluster==6:\n",
    "            filename = './data/output_final/result_only_episode_lag_{}_triplet_loss_cluster_6.p'.format(n_lag)\n",
    "        else:\n",
    "            filename = './data/output_final/result_only_episode_lag_{}_triplet_loss.p'.format(n_lag)\n",
    "        \n",
    "    elif episode_presence in [1]:\n",
    "        # filename = './data/output_final/result_only_episode_lag_{}_triplet_loss_cluster_2.p'.format(n_lag)\n",
    "        filename = './data/output_final/result_no_episode_lag_{}_triplet_loss.p'.format(n_lag)\n",
    "    elif episode_presence in [2]:\n",
    "        filename = './data/output_final/result_only_episode_lag_{}_triplet_loss_cluster_6.p'.format(n_lag)\n",
    "        # result_with_episode_lag_{}_triplet_loss_v3.p'.format(n_lag)\n",
    "    # else:\n",
    "        # data_directory = './data/output/episode_encoded_lag_'\n",
    "        # filename = data_directory+str(n_lag)+'_episode_model_v9_new_validation_set_include_smoking_focal_loss_static_coeff_phenotype_lower_model_no_episode_v3.p'\n",
    "        \n",
    "    data_eval = pickle.load(open(filename,'rb'))\n",
    "    file1 = './data/mRisk/mRisk_Lapse_postquit.csv'\n",
    "    puff_data = pd.read_csv(file1)\n",
    "    data_feature_label = pickle.load(open(data_file,'rb'))\n",
    "    data_cluster = pickle.load(open(data_file,'rb'))\n",
    "    temp = data_cluster.groupby(['user','cluster_label']).count().index.values\n",
    "    users = np.array([a[0] for a in temp])\n",
    "    labels = np.array([a[1] for a in temp])\n",
    "    cluster_dict = {}\n",
    "    for i,a in enumerate(users):\n",
    "        cluster_dict[a] = labels[i]\n",
    "    y_time,y_pred,y_test,y_pid,bias_dict,val_results = data_eval[0],np.array(data_eval[1]),data_eval[2],data_eval[3],data_eval[4],data_eval[5]\n",
    "    y_time,y_pred,y_test,y_pid,pars = np.array(y_time),np.array(y_pred).reshape(len(y_test),-1),np.array(y_test),np.array(y_pid),np.unique(y_pid)\n",
    "    lapse_captured_dict = {}\n",
    "    total_lapsers = 0\n",
    "    result_phenotypes_final = {}\n",
    "    return y_pred, y_test, y_time, y_pid, lapse_captured_dict, result_phenotypes_final, cluster_dict, puff_data, data_feature_label, total_lapsers, pars, bias_dict\n",
    "\n",
    "n_lag = 15\n",
    "n_cluster = 2\n",
    "label = 'DRES'\n",
    "all_dfs = []\n",
    "from sklearn.preprocessing import MinMaxScaler\n",
    "for episode_presence in [0,1]:\n",
    "    y_pred, y_test, y_time, y_pid, lapse_captured_dict, result_phenotypes_final, cluster_dict, puff_data, data_feature_label, total_lapsers, pars, bias_dict = return_important_vars(episode_presence=episode_presence,n_lag=n_lag)\n",
    "    if episode_presence==0:\n",
    "        label = 'DDHI'\n",
    "    else:\n",
    "        label = 'DRES'\n",
    "    y_pred_final = []\n",
    "    for user in np.unique(y_pid):\n",
    "        a = np.where(y_pid==user)[0]\n",
    "        y_pred_pid = y_pred[a]\n",
    "        biases = np.array(bias_dict[user])\n",
    "        # if label=='DRES':\n",
    "            # y_pred_pid = MinMaxScaler().fit_transform(y_pred_pid)\n",
    "        for ii in range(y_pred_pid.shape[1]):\n",
    "            y_pred_pid[:,ii] = np.array(y_pred_pid[:,ii]>=np.percentile(y_pred_pid[:,ii],80),dtype=int)\n",
    "        y_pred_pid = np.mean(y_pred_pid,axis=1) \n",
    "        y_pred_final.extend(list(y_pred_pid))\n",
    "    df = pd.DataFrame({'Original':y_test,'Predicted':y_pred_final,'User':y_pid,'Time':y_time})\n",
    "    df['Model'] = [label]*df.shape[0]\n",
    "    all_dfs.append(df)\n",
    "\n",
    "df_final = pd.concat(all_dfs)\n",
    "def get_lapse_times(puff_data,par):\n",
    "    return np.array([np.datetime64(datetime.fromtimestamp(lapse_time/1000)) for lapse_time in puff_data[puff_data['Participant']==int(par)]['Lapse'].values])\n",
    "\n",
    "\n",
    "def get_positive_only_prediction(df):\n",
    "    df = df.sort_values('Time').reset_index(drop=True)\n",
    "    lapse_times = get_lapse_times(puff_data,df['User'].values[0])\n",
    "    if len(lapse_times)==0:\n",
    "        return pd.DataFrame([],columns=df.columns)\n",
    "    df['Lapse'] = [-1]*df.shape[0]\n",
    "    indexes = []\n",
    "    for i,row in df.iterrows():\n",
    "        for j,lapse in enumerate(lapse_times):\n",
    "            if row['Time']<=lapse and abs((row['Time']-lapse).total_seconds()/60)<=60:\n",
    "                indexes.append(i)\n",
    "                df['Lapse'].at[i] = j\n",
    "    return df.loc[indexes]\n",
    "\n",
    "df_all_final = df_final.groupby(['User','Model'],as_index=False).apply(get_positive_only_prediction)\n",
    "\n",
    "final_df = []\n",
    "for bias in np.arange(.2,1,.01):\n",
    "    def get_results(df):\n",
    "        # if df.shape[0]<5:\n",
    "        #     return pd.DataFrame([],columns=['y_test','y_pred','user','Model'])\n",
    "        model_name = df['Model'].values[0]\n",
    "        user = df['User'].values[0]\n",
    "        if np.max(df['Predicted'])>=bias:\n",
    "            y_pred = 1\n",
    "        else:\n",
    "            y_pred = 0\n",
    "        return pd.DataFrame({'y_test':[1],'y_pred':[y_pred],'user':[user],'Model':[model_name]})\n",
    "\n",
    "    results = df_all_final.groupby(['User','Model','Lapse'],as_index=False).apply(get_results).reset_index(drop=True)\n",
    "    from sklearn.metrics import accuracy_score\n",
    "    results_scores = results.groupby('Model',as_index=False).apply(lambda a:pd.Series({'Accuracy':accuracy_score(a['y_test'],a['y_pred'])}))\n",
    "    results_scores['Bias'] = bias\n",
    "    final_df.append(results_scores)"
   ]
  },
  {
   "cell_type": "code",
   "execution_count": 259,
   "metadata": {},
   "outputs": [],
   "source": [
    "final_df_result = pd.concat(final_df)"
   ]
  },
  {
   "cell_type": "code",
   "execution_count": 260,
   "metadata": {},
   "outputs": [
    {
     "data": {
      "image/png": "[encoded data removed]",
      "text/plain": [
       "<Figure size 504x360 with 1 Axes>"
      ]
     },
     "metadata": {
      "needs_background": "light"
     },
     "output_type": "display_data"
    }
   ],
   "source": [
    "plt.figure(figsize=(7,5))\n",
    "sns.lineplot(x='Bias',y='Accuracy',hue='Model',data=final_df_result[final_df_result.Model!='DHI'])\n",
    "plt.legend()\n",
    "plt.xlabel('Positive Decision Threshold')\n",
    "plt.ylabel('Lapse Event \\nDetection Accuracy')\n",
    "plt.tight_layout()\n",
    "plt.savefig('./data/images/detection_accuracy.png')\n",
    "plt.show()"
   ]
  },
  {
   "cell_type": "code",
   "execution_count": 262,
   "metadata": {},
   "outputs": [
    {
     "data": {
      "image/png": "[encoded data removed]",
      "text/plain": [
       "<Figure size 504x360 with 1 Axes>"
      ]
     },
     "metadata": {
      "needs_background": "light"
     },
     "output_type": "display_data"
    }
   ],
   "source": [
    "plt.rcParams.update({'font.size':15})\n",
    "plt.figure(figsize=(7,5))\n",
    "sns.histplot(x='Predicted',hue='Model',data=df_final[df_final.Model=='DDHI'],bins=10)\n",
    "plt.xlabel('mRisk Lapse Likelihood (DDHI)')\n",
    "plt.ylabel('Frequency')\n",
    "plt.tight_layout()\n",
    "plt.savefig('./data/images/histogram_of_risk_likelihood.png')\n",
    "plt.show()"
   ]
  },
  {
   "cell_type": "code",
   "execution_count": 101,
   "metadata": {},
   "outputs": [
    {
     "data": {
      "image/png": "[encoded data removed]",
      "text/plain": [
       "<Figure size 504x360 with 1 Axes>"
      ]
     },
     "metadata": {
      "needs_background": "light"
     },
     "output_type": "display_data"
    }
   ],
   "source": [
    "import seaborn as sns\n",
    "plt.rcParams.update({'font.size':15})\n",
    "plt.figure(figsize=(7,5))\n",
    "sns.histplot(y_pred_final,bins=10)\n",
    "plt.xlabel('mRisk Lapse Likelihood (DDHI)')\n",
    "plt.ylabel('Frequency')\n",
    "plt.tight_layout()\n",
    "plt.savefig('./data/images/histogram_of_risk_likelihood.png')\n",
    "plt.show()"
   ]
  },
  {
   "cell_type": "code",
   "execution_count": 112,
   "metadata": {},
   "outputs": [
    {
     "data": {
      "text/plain": [
       "Original             1\n",
       "Predicted    0.0150608\n",
       "User              3168\n",
       "Model             DRES\n",
       "Name: 24925, dtype: object"
      ]
     },
     "execution_count": 112,
     "metadata": {},
     "output_type": "execute_result"
    }
   ],
   "source": [
    "df.loc[df.shape[0]-1]"
   ]
  },
  {
   "cell_type": "code",
   "execution_count": 114,
   "metadata": {},
   "outputs": [
    {
     "data": {
      "text/html": [
       "<div>\n",
       "<style scoped>\n",
       "    .dataframe tbody tr th:only-of-type {\n",
       "        vertical-align: middle;\n",
       "    }\n",
       "\n",
       "    .dataframe tbody tr th {\n",
       "        vertical-align: top;\n",
       "    }\n",
       "\n",
       "    .dataframe thead th {\n",
       "        text-align: right;\n",
       "    }\n",
       "</style>\n",
       "<table border=\"1\" class=\"dataframe\">\n",
       "  <thead>\n",
       "    <tr style=\"text-align: right;\">\n",
       "      <th></th>\n",
       "      <th>Original</th>\n",
       "      <th>Predicted</th>\n",
       "      <th>User</th>\n",
       "      <th>Model</th>\n",
       "    </tr>\n",
       "  </thead>\n",
       "  <tbody>\n",
       "    <tr>\n",
       "      <th>24925</th>\n",
       "      <td>1.0</td>\n",
       "      <td>0.015061</td>\n",
       "      <td>3168</td>\n",
       "      <td>DRES</td>\n",
       "    </tr>\n",
       "  </tbody>\n",
       "</table>\n",
       "</div>"
      ],
      "text/plain": [
       "       Original  Predicted  User Model\n",
       "24925       1.0   0.015061  3168  DRES"
      ]
     },
     "execution_count": 114,
     "metadata": {},
     "output_type": "execute_result"
    }
   ],
   "source": [
    "df[-1:]"
   ]
  },
  {
   "cell_type": "code",
   "execution_count": null,
   "metadata": {},
   "outputs": [],
   "source": []
  }
 ],
 "metadata": {
  "interpreter": {
   "hash": "51b244ab9aca612e739a0539ae1af887c58db9e180d786deb0ab1761def69c1f"
  },
  "kernelspec": {
   "display_name": "Python 3.8.5 64-bit ('test1': conda)",
   "language": "python",
   "name": "python3"
  },
  "language_info": {
   "codemirror_mode": {
    "name": "ipython",
    "version": 3
   },
   "file_extension": ".py",
   "mimetype": "text/x-python",
   "name": "python",
   "nbconvert_exporter": "python",
   "pygments_lexer": "ipython3",
   "version": "3.8.5"
  },
  "orig_nbformat": 4
 },
 "nbformat": 4,
 "nbformat_minor": 2
}
