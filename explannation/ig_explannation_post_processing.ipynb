{
 "cells": [
  {
   "cell_type": "code",
   "execution_count": 5,
   "metadata": {},
   "outputs": [],
   "source": [
    "import numpy as np\n",
    "import pandas as pd\n",
    "import pickle\n",
    "import os\n",
    "import tensorflow as tf\n",
    "import alibi\n",
    "import matplotlib.pyplot as plt\n",
    "from alibi.explainers import IntegratedGradients\n",
    "# import matplotlib.pyplot as plt\n",
    "import shap\n",
    "\n",
    "all_features = []\n",
    "feature_name = ['p90','p95','p80','p5','p10','p20','range_90_to_80','range_20_to_10','range_90_to_10',\n",
    "                'range_80_to_20','median','iqr','skew']\n",
    "name = 'current_window_stress'\n",
    "all_features += [name+'_'+a for a in feature_name]\n",
    "# print(len(set(all_features)),len(all_features))\n",
    "name = 'current_window_stress_diff'\n",
    "all_features += [name+'_'+a for a in feature_name]\n",
    "name = 'daily_stress'\n",
    "all_features += [name+'_'+a for a in feature_name]\n",
    "all_features += ['percentage_of_stress', 'maximum_duration_of_current_stress_episode','average_duration_of_current_stress_episode',\n",
    "               'maximum_density_of_current_stress_episode', 'average_density_of_current_stress_episode', 'average_deviation_to_daily_mean_current',\n",
    "               'no_stress_till_now', 'time_since_last_stress', 'duration_of_last_stress_episode', 'average_duration_of_before_stress_episode',\n",
    "               'density_of_last_stress_episode', 'average_density_of_before_stress_episode', 'deviation_to_daily_mean_of_last_stress_episode',\n",
    "               'percentage_of_stress_before']\n",
    "all_features+= ['percentage_of_active_', 'maximum_duration_of_current_activity_episode', 'average_duration_of_current_window_episode',\n",
    "                 'no_activity_till_now', 'time_since_last_activity', 'duration_of_last_activity_episode', 'average_duration_of_before_activity_episode',\n",
    "                 'percentage_of_active_before']\n",
    "all_features += ['time_since_last_visit_smoking_spot','duration_of_stay_in_smoking_spot','fraction_of_minutes_spent_in_smoking_spots_out_of_observed']\n",
    "all_features += ['Gender','Age']\n",
    "all_features += ['is_smoking','spread','distance_to_nearest_spot',\n",
    "                'time_spent_in_transition','time_spent_in_smoking_spot']\n",
    "all_features += ['Time of day = {}'.format(a) for a in np.arange(24)]\n",
    "feature_names = all_features"
   ]
  },
  {
   "cell_type": "code",
   "execution_count": 6,
   "metadata": {},
   "outputs": [
    {
     "name": "stdout",
     "output_type": "stream",
     "text": [
      "4 Physical GPUs, 1 Logical GPU\n"
     ]
    },
    {
     "name": "stderr",
     "output_type": "stream",
     "text": [
      "It looks like you are passing a model with a scalar output and target is set to `None`.If your model is a regression model this will produce correct attributions. If your model is a classification model, targets for each datapoint must be defined. Not defining the target may lead to incorrect values for the attributions.Targets can be either the true classes or the classes predicted by the model.\n",
      "It looks like you are passing a model with a scalar output and target is set to `None`.If your model is a regression model this will produce correct attributions. If your model is a classification model, targets for each datapoint must be defined. Not defining the target may lead to incorrect values for the attributions.Targets can be either the true classes or the classes predicted by the model.\n"
     ]
    },
    {
     "name": "stdout",
     "output_type": "stream",
     "text": [
      "['average_duration_of_before_activity_episode'\n",
      " 'average_density_of_before_stress_episode'\n",
      " 'time_since_last_visit_smoking_spot' 'daily_stress_iqr'\n",
      " 'percentage_of_stress_before']\n"
     ]
    },
    {
     "name": "stderr",
     "output_type": "stream",
     "text": [
      "It looks like you are passing a model with a scalar output and target is set to `None`.If your model is a regression model this will produce correct attributions. If your model is a classification model, targets for each datapoint must be defined. Not defining the target may lead to incorrect values for the attributions.Targets can be either the true classes or the classes predicted by the model.\n"
     ]
    },
    {
     "name": "stdout",
     "output_type": "stream",
     "text": [
      "['daily_stress_range_80_to_20' 'time_since_last_activity'\n",
      " 'time_since_last_stress' 'average_duration_of_before_activity_episode'\n",
      " 'percentage_of_stress_before']\n"
     ]
    },
    {
     "name": "stderr",
     "output_type": "stream",
     "text": [
      "It looks like you are passing a model with a scalar output and target is set to `None`.If your model is a regression model this will produce correct attributions. If your model is a classification model, targets for each datapoint must be defined. Not defining the target may lead to incorrect values for the attributions.Targets can be either the true classes or the classes predicted by the model.\n"
     ]
    },
    {
     "name": "stdout",
     "output_type": "stream",
     "text": [
      "['maximum_duration_of_current_stress_episode'\n",
      " 'average_duration_of_before_activity_episode'\n",
      " 'daily_stress_range_20_to_10' 'percentage_of_stress_before'\n",
      " 'daily_stress_p5']\n"
     ]
    },
    {
     "name": "stderr",
     "output_type": "stream",
     "text": [
      "It looks like you are passing a model with a scalar output and target is set to `None`.If your model is a regression model this will produce correct attributions. If your model is a classification model, targets for each datapoint must be defined. Not defining the target may lead to incorrect values for the attributions.Targets can be either the true classes or the classes predicted by the model.\n"
     ]
    },
    {
     "name": "stdout",
     "output_type": "stream",
     "text": [
      "['average_duration_of_before_stress_episode' 'percentage_of_stress_before'\n",
      " 'daily_stress_range_20_to_10' 'daily_stress_p5'\n",
      " 'average_duration_of_before_activity_episode']\n"
     ]
    },
    {
     "name": "stderr",
     "output_type": "stream",
     "text": [
      "It looks like you are passing a model with a scalar output and target is set to `None`.If your model is a regression model this will produce correct attributions. If your model is a classification model, targets for each datapoint must be defined. Not defining the target may lead to incorrect values for the attributions.Targets can be either the true classes or the classes predicted by the model.\n"
     ]
    },
    {
     "name": "stdout",
     "output_type": "stream",
     "text": [
      "['daily_stress_p5' 'time_since_last_visit_smoking_spot'\n",
      " 'percentage_of_stress_before' 'daily_stress_p20'\n",
      " 'average_duration_of_before_activity_episode']\n"
     ]
    },
    {
     "name": "stderr",
     "output_type": "stream",
     "text": [
      "It looks like you are passing a model with a scalar output and target is set to `None`.If your model is a regression model this will produce correct attributions. If your model is a classification model, targets for each datapoint must be defined. Not defining the target may lead to incorrect values for the attributions.Targets can be either the true classes or the classes predicted by the model.\n"
     ]
    },
    {
     "name": "stdout",
     "output_type": "stream",
     "text": [
      "['average_duration_of_before_stress_episode'\n",
      " 'current_window_stress_diff_p5'\n",
      " 'fraction_of_minutes_spent_in_smoking_spots_out_of_observed'\n",
      " 'daily_stress_p5' 'percentage_of_stress_before']\n"
     ]
    },
    {
     "name": "stderr",
     "output_type": "stream",
     "text": [
      "It looks like you are passing a model with a scalar output and target is set to `None`.If your model is a regression model this will produce correct attributions. If your model is a classification model, targets for each datapoint must be defined. Not defining the target may lead to incorrect values for the attributions.Targets can be either the true classes or the classes predicted by the model.\n"
     ]
    },
    {
     "name": "stdout",
     "output_type": "stream",
     "text": [
      "['fraction_of_minutes_spent_in_smoking_spots_out_of_observed'\n",
      " 'daily_stress_skew' 'daily_stress_range_90_to_80' 'daily_stress_iqr'\n",
      " 'percentage_of_stress_before']\n"
     ]
    },
    {
     "name": "stderr",
     "output_type": "stream",
     "text": [
      "It looks like you are passing a model with a scalar output and target is set to `None`.If your model is a regression model this will produce correct attributions. If your model is a classification model, targets for each datapoint must be defined. Not defining the target may lead to incorrect values for the attributions.Targets can be either the true classes or the classes predicted by the model.\n"
     ]
    },
    {
     "name": "stdout",
     "output_type": "stream",
     "text": [
      "['daily_stress_p5' 'time_since_last_activity' 'daily_stress_skew'\n",
      " 'percentage_of_stress_before'\n",
      " 'average_duration_of_before_activity_episode']\n"
     ]
    },
    {
     "name": "stderr",
     "output_type": "stream",
     "text": [
      "It looks like you are passing a model with a scalar output and target is set to `None`.If your model is a regression model this will produce correct attributions. If your model is a classification model, targets for each datapoint must be defined. Not defining the target may lead to incorrect values for the attributions.Targets can be either the true classes or the classes predicted by the model.\n"
     ]
    },
    {
     "name": "stdout",
     "output_type": "stream",
     "text": [
      "['daily_stress_p5' 'time_since_last_stress' 'daily_stress_skew'\n",
      " 'percentage_of_stress_before'\n",
      " 'average_duration_of_before_activity_episode']\n"
     ]
    },
    {
     "name": "stderr",
     "output_type": "stream",
     "text": [
      "It looks like you are passing a model with a scalar output and target is set to `None`.If your model is a regression model this will produce correct attributions. If your model is a classification model, targets for each datapoint must be defined. Not defining the target may lead to incorrect values for the attributions.Targets can be either the true classes or the classes predicted by the model.\n"
     ]
    },
    {
     "name": "stdout",
     "output_type": "stream",
     "text": [
      "['Time of day = 18' 'percentage_of_stress_before'\n",
      " 'daily_stress_range_90_to_80' 'daily_stress_p5'\n",
      " 'average_duration_of_before_activity_episode']\n"
     ]
    },
    {
     "name": "stderr",
     "output_type": "stream",
     "text": [
      "It looks like you are passing a model with a scalar output and target is set to `None`.If your model is a regression model this will produce correct attributions. If your model is a classification model, targets for each datapoint must be defined. Not defining the target may lead to incorrect values for the attributions.Targets can be either the true classes or the classes predicted by the model.\n"
     ]
    },
    {
     "name": "stdout",
     "output_type": "stream",
     "text": [
      "['daily_stress_range_90_to_10' 'daily_stress_skew' 'daily_stress_p5'\n",
      " 'percentage_of_stress_before' 'daily_stress_range_20_to_10']\n"
     ]
    },
    {
     "name": "stderr",
     "output_type": "stream",
     "text": [
      "It looks like you are passing a model with a scalar output and target is set to `None`.If your model is a regression model this will produce correct attributions. If your model is a classification model, targets for each datapoint must be defined. Not defining the target may lead to incorrect values for the attributions.Targets can be either the true classes or the classes predicted by the model.\n"
     ]
    },
    {
     "name": "stdout",
     "output_type": "stream",
     "text": [
      "['percentage_of_active_before' 'Time of day = 16'\n",
      " 'percentage_of_stress_before' 'daily_stress_p5'\n",
      " 'average_duration_of_before_activity_episode']\n"
     ]
    },
    {
     "name": "stderr",
     "output_type": "stream",
     "text": [
      "It looks like you are passing a model with a scalar output and target is set to `None`.If your model is a regression model this will produce correct attributions. If your model is a classification model, targets for each datapoint must be defined. Not defining the target may lead to incorrect values for the attributions.Targets can be either the true classes or the classes predicted by the model.\n"
     ]
    },
    {
     "name": "stdout",
     "output_type": "stream",
     "text": [
      "['daily_stress_range_20_to_10' 'time_since_last_visit_smoking_spot'\n",
      " 'average_deviation_to_daily_mean_current' 'percentage_of_stress_before'\n",
      " 'average_duration_of_before_activity_episode']\n"
     ]
    },
    {
     "name": "stderr",
     "output_type": "stream",
     "text": [
      "It looks like you are passing a model with a scalar output and target is set to `None`.If your model is a regression model this will produce correct attributions. If your model is a classification model, targets for each datapoint must be defined. Not defining the target may lead to incorrect values for the attributions.Targets can be either the true classes or the classes predicted by the model.\n"
     ]
    },
    {
     "name": "stdout",
     "output_type": "stream",
     "text": [
      "['percentage_of_stress_before' 'daily_stress_p20' 'daily_stress_iqr'\n",
      " 'daily_stress_range_20_to_10' 'daily_stress_p5']\n"
     ]
    },
    {
     "name": "stderr",
     "output_type": "stream",
     "text": [
      "It looks like you are passing a model with a scalar output and target is set to `None`.If your model is a regression model this will produce correct attributions. If your model is a classification model, targets for each datapoint must be defined. Not defining the target may lead to incorrect values for the attributions.Targets can be either the true classes or the classes predicted by the model.\n"
     ]
    },
    {
     "name": "stdout",
     "output_type": "stream",
     "text": [
      "['daily_stress_range_80_to_20' 'average_deviation_to_daily_mean_current'\n",
      " 'daily_stress_skew' 'daily_stress_range_90_to_80'\n",
      " 'percentage_of_stress_before']\n"
     ]
    },
    {
     "name": "stderr",
     "output_type": "stream",
     "text": [
      "It looks like you are passing a model with a scalar output and target is set to `None`.If your model is a regression model this will produce correct attributions. If your model is a classification model, targets for each datapoint must be defined. Not defining the target may lead to incorrect values for the attributions.Targets can be either the true classes or the classes predicted by the model.\n"
     ]
    },
    {
     "name": "stdout",
     "output_type": "stream",
     "text": [
      "['daily_stress_p5'\n",
      " 'fraction_of_minutes_spent_in_smoking_spots_out_of_observed'\n",
      " 'time_since_last_activity' 'average_deviation_to_daily_mean_current'\n",
      " 'percentage_of_stress_before']\n"
     ]
    },
    {
     "name": "stderr",
     "output_type": "stream",
     "text": [
      "It looks like you are passing a model with a scalar output and target is set to `None`.If your model is a regression model this will produce correct attributions. If your model is a classification model, targets for each datapoint must be defined. Not defining the target may lead to incorrect values for the attributions.Targets can be either the true classes or the classes predicted by the model.\n"
     ]
    },
    {
     "name": "stdout",
     "output_type": "stream",
     "text": [
      "['maximum_duration_of_current_stress_episode'\n",
      " 'daily_stress_range_20_to_10' 'percentage_of_stress_before'\n",
      " 'daily_stress_p5' 'average_duration_of_before_activity_episode']\n"
     ]
    },
    {
     "name": "stderr",
     "output_type": "stream",
     "text": [
      "It looks like you are passing a model with a scalar output and target is set to `None`.If your model is a regression model this will produce correct attributions. If your model is a classification model, targets for each datapoint must be defined. Not defining the target may lead to incorrect values for the attributions.Targets can be either the true classes or the classes predicted by the model.\n"
     ]
    },
    {
     "name": "stdout",
     "output_type": "stream",
     "text": [
      "['time_spent_in_transition' 'daily_stress_p5'\n",
      " 'percentage_of_stress_before' 'daily_stress_range_20_to_10'\n",
      " 'average_duration_of_before_activity_episode']\n"
     ]
    },
    {
     "name": "stderr",
     "output_type": "stream",
     "text": [
      "It looks like you are passing a model with a scalar output and target is set to `None`.If your model is a regression model this will produce correct attributions. If your model is a classification model, targets for each datapoint must be defined. Not defining the target may lead to incorrect values for the attributions.Targets can be either the true classes or the classes predicted by the model.\n"
     ]
    },
    {
     "name": "stdout",
     "output_type": "stream",
     "text": [
      "['average_deviation_to_daily_mean_current' 'daily_stress_range_90_to_80'\n",
      " 'daily_stress_p5' 'time_since_last_activity' 'daily_stress_iqr']\n"
     ]
    },
    {
     "name": "stderr",
     "output_type": "stream",
     "text": [
      "It looks like you are passing a model with a scalar output and target is set to `None`.If your model is a regression model this will produce correct attributions. If your model is a classification model, targets for each datapoint must be defined. Not defining the target may lead to incorrect values for the attributions.Targets can be either the true classes or the classes predicted by the model.\n"
     ]
    },
    {
     "name": "stdout",
     "output_type": "stream",
     "text": [
      "['average_deviation_to_daily_mean_current' 'daily_stress_p5'\n",
      " 'Time of day = 17' 'daily_stress_iqr' 'percentage_of_stress_before']\n"
     ]
    },
    {
     "name": "stderr",
     "output_type": "stream",
     "text": [
      "It looks like you are passing a model with a scalar output and target is set to `None`.If your model is a regression model this will produce correct attributions. If your model is a classification model, targets for each datapoint must be defined. Not defining the target may lead to incorrect values for the attributions.Targets can be either the true classes or the classes predicted by the model.\n"
     ]
    },
    {
     "name": "stdout",
     "output_type": "stream",
     "text": [
      "['daily_stress_skew' 'percentage_of_stress_before'\n",
      " 'average_deviation_to_daily_mean_current'\n",
      " 'time_since_last_visit_smoking_spot'\n",
      " 'average_duration_of_before_activity_episode']\n"
     ]
    },
    {
     "name": "stderr",
     "output_type": "stream",
     "text": [
      "It looks like you are passing a model with a scalar output and target is set to `None`.If your model is a regression model this will produce correct attributions. If your model is a classification model, targets for each datapoint must be defined. Not defining the target may lead to incorrect values for the attributions.Targets can be either the true classes or the classes predicted by the model.\n"
     ]
    },
    {
     "name": "stdout",
     "output_type": "stream",
     "text": [
      "['average_deviation_to_daily_mean_current' 'Time of day = 17'\n",
      " 'fraction_of_minutes_spent_in_smoking_spots_out_of_observed'\n",
      " 'percentage_of_stress_before' 'daily_stress_p5']\n"
     ]
    },
    {
     "name": "stderr",
     "output_type": "stream",
     "text": [
      "It looks like you are passing a model with a scalar output and target is set to `None`.If your model is a regression model this will produce correct attributions. If your model is a classification model, targets for each datapoint must be defined. Not defining the target may lead to incorrect values for the attributions.Targets can be either the true classes or the classes predicted by the model.\n"
     ]
    },
    {
     "name": "stdout",
     "output_type": "stream",
     "text": [
      "['average_duration_of_current_stress_episode' 'daily_stress_p20'\n",
      " 'daily_stress_p5' 'daily_stress_range_20_to_10'\n",
      " 'average_duration_of_before_activity_episode']\n"
     ]
    },
    {
     "name": "stderr",
     "output_type": "stream",
     "text": [
      "It looks like you are passing a model with a scalar output and target is set to `None`.If your model is a regression model this will produce correct attributions. If your model is a classification model, targets for each datapoint must be defined. Not defining the target may lead to incorrect values for the attributions.Targets can be either the true classes or the classes predicted by the model.\n"
     ]
    },
    {
     "name": "stdout",
     "output_type": "stream",
     "text": [
      "['daily_stress_range_90_to_80'\n",
      " 'average_duration_of_before_activity_episode'\n",
      " 'time_since_last_visit_smoking_spot' 'daily_stress_skew'\n",
      " 'percentage_of_stress_before']\n"
     ]
    },
    {
     "name": "stderr",
     "output_type": "stream",
     "text": [
      "It looks like you are passing a model with a scalar output and target is set to `None`.If your model is a regression model this will produce correct attributions. If your model is a classification model, targets for each datapoint must be defined. Not defining the target may lead to incorrect values for the attributions.Targets can be either the true classes or the classes predicted by the model.\n"
     ]
    },
    {
     "name": "stdout",
     "output_type": "stream",
     "text": [
      "['average_density_of_before_stress_episode'\n",
      " 'fraction_of_minutes_spent_in_smoking_spots_out_of_observed'\n",
      " 'percentage_of_stress_before'\n",
      " 'average_duration_of_before_activity_episode'\n",
      " 'average_deviation_to_daily_mean_current']\n"
     ]
    },
    {
     "name": "stderr",
     "output_type": "stream",
     "text": [
      "It looks like you are passing a model with a scalar output and target is set to `None`.If your model is a regression model this will produce correct attributions. If your model is a classification model, targets for each datapoint must be defined. Not defining the target may lead to incorrect values for the attributions.Targets can be either the true classes or the classes predicted by the model.\n"
     ]
    },
    {
     "name": "stdout",
     "output_type": "stream",
     "text": [
      "['fraction_of_minutes_spent_in_smoking_spots_out_of_observed'\n",
      " 'average_duration_of_before_activity_episode'\n",
      " 'duration_of_stay_in_smoking_spot' 'time_since_last_visit_smoking_spot'\n",
      " 'percentage_of_stress_before']\n"
     ]
    },
    {
     "name": "stderr",
     "output_type": "stream",
     "text": [
      "It looks like you are passing a model with a scalar output and target is set to `None`.If your model is a regression model this will produce correct attributions. If your model is a classification model, targets for each datapoint must be defined. Not defining the target may lead to incorrect values for the attributions.Targets can be either the true classes or the classes predicted by the model.\n"
     ]
    },
    {
     "name": "stdout",
     "output_type": "stream",
     "text": [
      "['time_since_last_stress' 'daily_stress_p5'\n",
      " 'average_duration_of_before_activity_episode'\n",
      " 'average_deviation_to_daily_mean_current' 'percentage_of_stress_before']\n"
     ]
    },
    {
     "name": "stderr",
     "output_type": "stream",
     "text": [
      "It looks like you are passing a model with a scalar output and target is set to `None`.If your model is a regression model this will produce correct attributions. If your model is a classification model, targets for each datapoint must be defined. Not defining the target may lead to incorrect values for the attributions.Targets can be either the true classes or the classes predicted by the model.\n"
     ]
    },
    {
     "name": "stdout",
     "output_type": "stream",
     "text": [
      "['average_deviation_to_daily_mean_current' 'daily_stress_range_90_to_80'\n",
      " 'daily_stress_p5' 'percentage_of_stress_before'\n",
      " 'average_duration_of_before_activity_episode']\n"
     ]
    },
    {
     "name": "stderr",
     "output_type": "stream",
     "text": [
      "It looks like you are passing a model with a scalar output and target is set to `None`.If your model is a regression model this will produce correct attributions. If your model is a classification model, targets for each datapoint must be defined. Not defining the target may lead to incorrect values for the attributions.Targets can be either the true classes or the classes predicted by the model.\n"
     ]
    },
    {
     "name": "stdout",
     "output_type": "stream",
     "text": [
      "['average_duration_of_before_activity_episode'\n",
      " 'daily_stress_range_90_to_80' 'daily_stress_p5'\n",
      " 'average_deviation_to_daily_mean_current' 'percentage_of_stress_before']\n",
      "['daily_stress_range_80_to_20' 'daily_stress_iqr' 'daily_stress_p5'\n",
      " 'average_duration_of_before_activity_episode'\n",
      " 'percentage_of_stress_before']\n"
     ]
    },
    {
     "name": "stderr",
     "output_type": "stream",
     "text": [
      "It looks like you are passing a model with a scalar output and target is set to `None`.If your model is a regression model this will produce correct attributions. If your model is a classification model, targets for each datapoint must be defined. Not defining the target may lead to incorrect values for the attributions.Targets can be either the true classes or the classes predicted by the model.\n",
      "It looks like you are passing a model with a scalar output and target is set to `None`.If your model is a regression model this will produce correct attributions. If your model is a classification model, targets for each datapoint must be defined. Not defining the target may lead to incorrect values for the attributions.Targets can be either the true classes or the classes predicted by the model.\n"
     ]
    },
    {
     "name": "stdout",
     "output_type": "stream",
     "text": [
      "['density_of_last_stress_episode' 'daily_stress_p5' 'daily_stress_p80'\n",
      " 'time_since_last_stress' 'daily_stress_skew']\n"
     ]
    },
    {
     "name": "stderr",
     "output_type": "stream",
     "text": [
      "It looks like you are passing a model with a scalar output and target is set to `None`.If your model is a regression model this will produce correct attributions. If your model is a classification model, targets for each datapoint must be defined. Not defining the target may lead to incorrect values for the attributions.Targets can be either the true classes or the classes predicted by the model.\n"
     ]
    },
    {
     "name": "stdout",
     "output_type": "stream",
     "text": [
      "['deviation_to_daily_mean_of_last_stress_episode'\n",
      " 'duration_of_last_activity_episode' 'Time of day = 19'\n",
      " 'current_window_stress_diff_range_80_to_20' 'current_window_stress_p10']\n"
     ]
    },
    {
     "name": "stderr",
     "output_type": "stream",
     "text": [
      "It looks like you are passing a model with a scalar output and target is set to `None`.If your model is a regression model this will produce correct attributions. If your model is a classification model, targets for each datapoint must be defined. Not defining the target may lead to incorrect values for the attributions.Targets can be either the true classes or the classes predicted by the model.\n"
     ]
    },
    {
     "name": "stdout",
     "output_type": "stream",
     "text": [
      "['daily_stress_p90' 'daily_stress_p5' 'time_since_last_visit_smoking_spot'\n",
      " 'Time of day = 16' 'time_since_last_stress']\n"
     ]
    },
    {
     "name": "stderr",
     "output_type": "stream",
     "text": [
      "It looks like you are passing a model with a scalar output and target is set to `None`.If your model is a regression model this will produce correct attributions. If your model is a classification model, targets for each datapoint must be defined. Not defining the target may lead to incorrect values for the attributions.Targets can be either the true classes or the classes predicted by the model.\n"
     ]
    },
    {
     "name": "stdout",
     "output_type": "stream",
     "text": [
      "['deviation_to_daily_mean_of_last_stress_episode'\n",
      " 'current_window_stress_p20' 'percentage_of_stress_before'\n",
      " 'daily_stress_p20' 'percentage_of_active_before']\n"
     ]
    },
    {
     "name": "stderr",
     "output_type": "stream",
     "text": [
      "It looks like you are passing a model with a scalar output and target is set to `None`.If your model is a regression model this will produce correct attributions. If your model is a classification model, targets for each datapoint must be defined. Not defining the target may lead to incorrect values for the attributions.Targets can be either the true classes or the classes predicted by the model.\n"
     ]
    },
    {
     "name": "stdout",
     "output_type": "stream",
     "text": [
      "['time_since_last_stress' 'daily_stress_p5' 'daily_stress_range_80_to_20'\n",
      " 'daily_stress_skew' 'daily_stress_p80']\n"
     ]
    },
    {
     "name": "stderr",
     "output_type": "stream",
     "text": [
      "It looks like you are passing a model with a scalar output and target is set to `None`.If your model is a regression model this will produce correct attributions. If your model is a classification model, targets for each datapoint must be defined. Not defining the target may lead to incorrect values for the attributions.Targets can be either the true classes or the classes predicted by the model.\n"
     ]
    },
    {
     "name": "stdout",
     "output_type": "stream",
     "text": [
      "['Time of day = 17' 'average_deviation_to_daily_mean_current'\n",
      " 'daily_stress_p80' 'average_duration_of_before_activity_episode'\n",
      " 'time_since_last_stress']\n"
     ]
    },
    {
     "name": "stderr",
     "output_type": "stream",
     "text": [
      "It looks like you are passing a model with a scalar output and target is set to `None`.If your model is a regression model this will produce correct attributions. If your model is a classification model, targets for each datapoint must be defined. Not defining the target may lead to incorrect values for the attributions.Targets can be either the true classes or the classes predicted by the model.\n"
     ]
    },
    {
     "name": "stdout",
     "output_type": "stream",
     "text": [
      "['average_duration_of_before_activity_episode' 'time_since_last_stress'\n",
      " 'daily_stress_p80' 'daily_stress_skew' 'daily_stress_p5']\n"
     ]
    },
    {
     "name": "stderr",
     "output_type": "stream",
     "text": [
      "It looks like you are passing a model with a scalar output and target is set to `None`.If your model is a regression model this will produce correct attributions. If your model is a classification model, targets for each datapoint must be defined. Not defining the target may lead to incorrect values for the attributions.Targets can be either the true classes or the classes predicted by the model.\n"
     ]
    },
    {
     "name": "stdout",
     "output_type": "stream",
     "text": [
      "['daily_stress_p80' 'time_since_last_stress' 'daily_stress_p90'\n",
      " 'daily_stress_p5' 'daily_stress_skew']\n"
     ]
    },
    {
     "name": "stderr",
     "output_type": "stream",
     "text": [
      "It looks like you are passing a model with a scalar output and target is set to `None`.If your model is a regression model this will produce correct attributions. If your model is a classification model, targets for each datapoint must be defined. Not defining the target may lead to incorrect values for the attributions.Targets can be either the true classes or the classes predicted by the model.\n"
     ]
    },
    {
     "name": "stdout",
     "output_type": "stream",
     "text": [
      "['current_window_stress_range_90_to_10' 'daily_stress_iqr'\n",
      " 'current_window_stress_p20' 'daily_stress_median'\n",
      " 'current_window_stress_p5']\n"
     ]
    },
    {
     "name": "stderr",
     "output_type": "stream",
     "text": [
      "It looks like you are passing a model with a scalar output and target is set to `None`.If your model is a regression model this will produce correct attributions. If your model is a classification model, targets for each datapoint must be defined. Not defining the target may lead to incorrect values for the attributions.Targets can be either the true classes or the classes predicted by the model.\n"
     ]
    },
    {
     "name": "stdout",
     "output_type": "stream",
     "text": [
      "['daily_stress_skew' 'Time of day = 17' 'time_since_last_stress'\n",
      " 'daily_stress_p5' 'daily_stress_p80']\n"
     ]
    },
    {
     "name": "stderr",
     "output_type": "stream",
     "text": [
      "It looks like you are passing a model with a scalar output and target is set to `None`.If your model is a regression model this will produce correct attributions. If your model is a classification model, targets for each datapoint must be defined. Not defining the target may lead to incorrect values for the attributions.Targets can be either the true classes or the classes predicted by the model.\n"
     ]
    },
    {
     "name": "stdout",
     "output_type": "stream",
     "text": [
      "['time_since_last_stress' 'Time of day = 21' 'daily_stress_p80'\n",
      " 'daily_stress_skew' 'daily_stress_p5']\n"
     ]
    },
    {
     "name": "stderr",
     "output_type": "stream",
     "text": [
      "It looks like you are passing a model with a scalar output and target is set to `None`.If your model is a regression model this will produce correct attributions. If your model is a classification model, targets for each datapoint must be defined. Not defining the target may lead to incorrect values for the attributions.Targets can be either the true classes or the classes predicted by the model.\n"
     ]
    },
    {
     "name": "stdout",
     "output_type": "stream",
     "text": [
      "['daily_stress_median' 'time_since_last_stress'\n",
      " 'average_duration_of_before_activity_episode' 'daily_stress_skew'\n",
      " 'daily_stress_p5']\n"
     ]
    },
    {
     "name": "stderr",
     "output_type": "stream",
     "text": [
      "It looks like you are passing a model with a scalar output and target is set to `None`.If your model is a regression model this will produce correct attributions. If your model is a classification model, targets for each datapoint must be defined. Not defining the target may lead to incorrect values for the attributions.Targets can be either the true classes or the classes predicted by the model.\n"
     ]
    },
    {
     "name": "stdout",
     "output_type": "stream",
     "text": [
      "['daily_stress_p80' 'daily_stress_p90' 'daily_stress_p5'\n",
      " 'time_since_last_stress' 'daily_stress_skew']\n"
     ]
    },
    {
     "name": "stderr",
     "output_type": "stream",
     "text": [
      "It looks like you are passing a model with a scalar output and target is set to `None`.If your model is a regression model this will produce correct attributions. If your model is a classification model, targets for each datapoint must be defined. Not defining the target may lead to incorrect values for the attributions.Targets can be either the true classes or the classes predicted by the model.\n"
     ]
    },
    {
     "name": "stdout",
     "output_type": "stream",
     "text": [
      "['duration_of_last_stress_episode' 'time_since_last_visit_smoking_spot'\n",
      " 'Time of day = 17' 'time_since_last_stress' 'daily_stress_p5']\n"
     ]
    },
    {
     "name": "stderr",
     "output_type": "stream",
     "text": [
      "It looks like you are passing a model with a scalar output and target is set to `None`.If your model is a regression model this will produce correct attributions. If your model is a classification model, targets for each datapoint must be defined. Not defining the target may lead to incorrect values for the attributions.Targets can be either the true classes or the classes predicted by the model.\n"
     ]
    },
    {
     "name": "stdout",
     "output_type": "stream",
     "text": [
      "['time_since_last_stress' 'daily_stress_p80' 'daily_stress_median'\n",
      " 'daily_stress_p5' 'daily_stress_skew']\n"
     ]
    },
    {
     "name": "stderr",
     "output_type": "stream",
     "text": [
      "It looks like you are passing a model with a scalar output and target is set to `None`.If your model is a regression model this will produce correct attributions. If your model is a classification model, targets for each datapoint must be defined. Not defining the target may lead to incorrect values for the attributions.Targets can be either the true classes or the classes predicted by the model.\n"
     ]
    },
    {
     "name": "stdout",
     "output_type": "stream",
     "text": [
      "['daily_stress_p90' 'daily_stress_p95'\n",
      " 'average_duration_of_before_activity_episode' 'daily_stress_skew'\n",
      " 'daily_stress_p5']\n"
     ]
    },
    {
     "name": "stderr",
     "output_type": "stream",
     "text": [
      "It looks like you are passing a model with a scalar output and target is set to `None`.If your model is a regression model this will produce correct attributions. If your model is a classification model, targets for each datapoint must be defined. Not defining the target may lead to incorrect values for the attributions.Targets can be either the true classes or the classes predicted by the model.\n"
     ]
    },
    {
     "name": "stdout",
     "output_type": "stream",
     "text": [
      "['average_density_of_current_stress_episode'\n",
      " 'duration_of_stay_in_smoking_spot'\n",
      " 'average_duration_of_before_stress_episode' 'percentage_of_active_before'\n",
      " 'daily_stress_p5']\n"
     ]
    },
    {
     "name": "stderr",
     "output_type": "stream",
     "text": [
      "It looks like you are passing a model with a scalar output and target is set to `None`.If your model is a regression model this will produce correct attributions. If your model is a classification model, targets for each datapoint must be defined. Not defining the target may lead to incorrect values for the attributions.Targets can be either the true classes or the classes predicted by the model.\n"
     ]
    },
    {
     "name": "stdout",
     "output_type": "stream",
     "text": [
      "['is_smoking' 'percentage_of_stress_before'\n",
      " 'average_duration_of_before_activity_episode'\n",
      " 'time_since_last_visit_smoking_spot' 'daily_stress_skew']\n"
     ]
    },
    {
     "name": "stderr",
     "output_type": "stream",
     "text": [
      "It looks like you are passing a model with a scalar output and target is set to `None`.If your model is a regression model this will produce correct attributions. If your model is a classification model, targets for each datapoint must be defined. Not defining the target may lead to incorrect values for the attributions.Targets can be either the true classes or the classes predicted by the model.\n"
     ]
    },
    {
     "name": "stdout",
     "output_type": "stream",
     "text": [
      "['fraction_of_minutes_spent_in_smoking_spots_out_of_observed'\n",
      " 'daily_stress_median' 'time_since_last_stress' 'daily_stress_skew'\n",
      " 'daily_stress_p5']\n"
     ]
    },
    {
     "name": "stderr",
     "output_type": "stream",
     "text": [
      "It looks like you are passing a model with a scalar output and target is set to `None`.If your model is a regression model this will produce correct attributions. If your model is a classification model, targets for each datapoint must be defined. Not defining the target may lead to incorrect values for the attributions.Targets can be either the true classes or the classes predicted by the model.\n"
     ]
    },
    {
     "name": "stdout",
     "output_type": "stream",
     "text": [
      "['daily_stress_p80' 'daily_stress_skew'\n",
      " 'duration_of_last_activity_episode' 'time_since_last_stress'\n",
      " 'daily_stress_p5']\n"
     ]
    },
    {
     "name": "stderr",
     "output_type": "stream",
     "text": [
      "It looks like you are passing a model with a scalar output and target is set to `None`.If your model is a regression model this will produce correct attributions. If your model is a classification model, targets for each datapoint must be defined. Not defining the target may lead to incorrect values for the attributions.Targets can be either the true classes or the classes predicted by the model.\n"
     ]
    },
    {
     "name": "stdout",
     "output_type": "stream",
     "text": [
      "['time_since_last_stress'\n",
      " 'fraction_of_minutes_spent_in_smoking_spots_out_of_observed'\n",
      " 'daily_stress_skew' 'daily_stress_p5' 'daily_stress_median']\n"
     ]
    },
    {
     "name": "stderr",
     "output_type": "stream",
     "text": [
      "It looks like you are passing a model with a scalar output and target is set to `None`.If your model is a regression model this will produce correct attributions. If your model is a classification model, targets for each datapoint must be defined. Not defining the target may lead to incorrect values for the attributions.Targets can be either the true classes or the classes predicted by the model.\n"
     ]
    },
    {
     "name": "stdout",
     "output_type": "stream",
     "text": [
      "['daily_stress_skew' 'is_smoking' 'Time of day = 21' 'daily_stress_p5'\n",
      " 'duration_of_last_activity_episode']\n"
     ]
    },
    {
     "name": "stderr",
     "output_type": "stream",
     "text": [
      "It looks like you are passing a model with a scalar output and target is set to `None`.If your model is a regression model this will produce correct attributions. If your model is a classification model, targets for each datapoint must be defined. Not defining the target may lead to incorrect values for the attributions.Targets can be either the true classes or the classes predicted by the model.\n"
     ]
    },
    {
     "name": "stdout",
     "output_type": "stream",
     "text": [
      "['daily_stress_skew' 'Time of day = 19' 'is_smoking' 'daily_stress_p5'\n",
      " 'time_since_last_stress']\n"
     ]
    },
    {
     "name": "stderr",
     "output_type": "stream",
     "text": [
      "It looks like you are passing a model with a scalar output and target is set to `None`.If your model is a regression model this will produce correct attributions. If your model is a classification model, targets for each datapoint must be defined. Not defining the target may lead to incorrect values for the attributions.Targets can be either the true classes or the classes predicted by the model.\n"
     ]
    },
    {
     "name": "stdout",
     "output_type": "stream",
     "text": [
      "['daily_stress_p5' 'average_duration_of_before_activity_episode'\n",
      " 'average_duration_of_current_stress_episode' 'time_since_last_stress'\n",
      " 'Time of day = 13']\n"
     ]
    },
    {
     "name": "stderr",
     "output_type": "stream",
     "text": [
      "It looks like you are passing a model with a scalar output and target is set to `None`.If your model is a regression model this will produce correct attributions. If your model is a classification model, targets for each datapoint must be defined. Not defining the target may lead to incorrect values for the attributions.Targets can be either the true classes or the classes predicted by the model.\n"
     ]
    },
    {
     "name": "stdout",
     "output_type": "stream",
     "text": [
      "['average_duration_of_before_stress_episode' 'time_spent_in_transition'\n",
      " 'current_window_stress_p20' 'time_since_last_stress' 'is_smoking']\n"
     ]
    },
    {
     "name": "stderr",
     "output_type": "stream",
     "text": [
      "It looks like you are passing a model with a scalar output and target is set to `None`.If your model is a regression model this will produce correct attributions. If your model is a classification model, targets for each datapoint must be defined. Not defining the target may lead to incorrect values for the attributions.Targets can be either the true classes or the classes predicted by the model.\n"
     ]
    },
    {
     "name": "stdout",
     "output_type": "stream",
     "text": [
      "['time_since_last_activity' 'Time of day = 19' 'is_smoking'\n",
      " 'average_duration_of_before_activity_episode' 'time_since_last_stress']\n"
     ]
    },
    {
     "name": "stderr",
     "output_type": "stream",
     "text": [
      "It looks like you are passing a model with a scalar output and target is set to `None`.If your model is a regression model this will produce correct attributions. If your model is a classification model, targets for each datapoint must be defined. Not defining the target may lead to incorrect values for the attributions.Targets can be either the true classes or the classes predicted by the model.\n"
     ]
    },
    {
     "name": "stdout",
     "output_type": "stream",
     "text": [
      "['fraction_of_minutes_spent_in_smoking_spots_out_of_observed'\n",
      " 'daily_stress_p80' 'daily_stress_p5' 'time_since_last_stress'\n",
      " 'daily_stress_skew']\n"
     ]
    },
    {
     "name": "stderr",
     "output_type": "stream",
     "text": [
      "It looks like you are passing a model with a scalar output and target is set to `None`.If your model is a regression model this will produce correct attributions. If your model is a classification model, targets for each datapoint must be defined. Not defining the target may lead to incorrect values for the attributions.Targets can be either the true classes or the classes predicted by the model.\n"
     ]
    },
    {
     "name": "stdout",
     "output_type": "stream",
     "text": [
      "['time_since_last_visit_smoking_spot'\n",
      " 'average_duration_of_before_activity_episode' 'daily_stress_skew'\n",
      " 'daily_stress_median' 'daily_stress_p5']\n"
     ]
    },
    {
     "name": "stderr",
     "output_type": "stream",
     "text": [
      "It looks like you are passing a model with a scalar output and target is set to `None`.If your model is a regression model this will produce correct attributions. If your model is a classification model, targets for each datapoint must be defined. Not defining the target may lead to incorrect values for the attributions.Targets can be either the true classes or the classes predicted by the model.\n"
     ]
    },
    {
     "name": "stdout",
     "output_type": "stream",
     "text": [
      "['daily_stress_p90' 'daily_stress_skew'\n",
      " 'average_deviation_to_daily_mean_current' 'daily_stress_p80'\n",
      " 'daily_stress_p5']\n",
      "['percentage_of_active_' 'daily_stress_p5' 'time_since_last_stress'\n",
      " 'daily_stress_p80' 'daily_stress_skew']\n"
     ]
    },
    {
     "name": "stderr",
     "output_type": "stream",
     "text": [
      "It looks like you are passing a model with a scalar output and target is set to `None`.If your model is a regression model this will produce correct attributions. If your model is a classification model, targets for each datapoint must be defined. Not defining the target may lead to incorrect values for the attributions.Targets can be either the true classes or the classes predicted by the model.\n",
      "It looks like you are passing a model with a scalar output and target is set to `None`.If your model is a regression model this will produce correct attributions. If your model is a classification model, targets for each datapoint must be defined. Not defining the target may lead to incorrect values for the attributions.Targets can be either the true classes or the classes predicted by the model.\n"
     ]
    },
    {
     "name": "stdout",
     "output_type": "stream",
     "text": [
      "['daily_stress_p90' 'daily_stress_p80'\n",
      " 'average_deviation_to_daily_mean_current'\n",
      " 'duration_of_stay_in_smoking_spot' 'percentage_of_stress_before']\n"
     ]
    },
    {
     "name": "stderr",
     "output_type": "stream",
     "text": [
      "It looks like you are passing a model with a scalar output and target is set to `None`.If your model is a regression model this will produce correct attributions. If your model is a classification model, targets for each datapoint must be defined. Not defining the target may lead to incorrect values for the attributions.Targets can be either the true classes or the classes predicted by the model.\n"
     ]
    },
    {
     "name": "stdout",
     "output_type": "stream",
     "text": [
      "['daily_stress_range_90_to_80' 'Time of day = 16'\n",
      " 'average_duration_of_before_activity_episode' 'time_since_last_stress'\n",
      " 'duration_of_stay_in_smoking_spot']\n"
     ]
    },
    {
     "name": "stderr",
     "output_type": "stream",
     "text": [
      "It looks like you are passing a model with a scalar output and target is set to `None`.If your model is a regression model this will produce correct attributions. If your model is a classification model, targets for each datapoint must be defined. Not defining the target may lead to incorrect values for the attributions.Targets can be either the true classes or the classes predicted by the model.\n"
     ]
    },
    {
     "name": "stdout",
     "output_type": "stream",
     "text": [
      "['duration_of_stay_in_smoking_spot'\n",
      " 'deviation_to_daily_mean_of_last_stress_episode'\n",
      " 'time_since_last_visit_smoking_spot' 'daily_stress_p80'\n",
      " 'duration_of_last_stress_episode']\n"
     ]
    },
    {
     "name": "stderr",
     "output_type": "stream",
     "text": [
      "It looks like you are passing a model with a scalar output and target is set to `None`.If your model is a regression model this will produce correct attributions. If your model is a classification model, targets for each datapoint must be defined. Not defining the target may lead to incorrect values for the attributions.Targets can be either the true classes or the classes predicted by the model.\n"
     ]
    },
    {
     "name": "stdout",
     "output_type": "stream",
     "text": [
      "['percentage_of_stress_before' 'daily_stress_p95'\n",
      " 'maximum_density_of_current_stress_episode'\n",
      " 'average_duration_of_before_activity_episode'\n",
      " 'duration_of_stay_in_smoking_spot']\n"
     ]
    },
    {
     "name": "stderr",
     "output_type": "stream",
     "text": [
      "It looks like you are passing a model with a scalar output and target is set to `None`.If your model is a regression model this will produce correct attributions. If your model is a classification model, targets for each datapoint must be defined. Not defining the target may lead to incorrect values for the attributions.Targets can be either the true classes or the classes predicted by the model.\n"
     ]
    },
    {
     "name": "stdout",
     "output_type": "stream",
     "text": [
      "['average_density_of_current_stress_episode' 'daily_stress_range_90_to_10'\n",
      " 'Time of day = 15' 'percentage_of_active_before' 'percentage_of_stress']\n"
     ]
    },
    {
     "name": "stderr",
     "output_type": "stream",
     "text": [
      "It looks like you are passing a model with a scalar output and target is set to `None`.If your model is a regression model this will produce correct attributions. If your model is a classification model, targets for each datapoint must be defined. Not defining the target may lead to incorrect values for the attributions.Targets can be either the true classes or the classes predicted by the model.\n"
     ]
    },
    {
     "name": "stdout",
     "output_type": "stream",
     "text": [
      "['time_since_last_visit_smoking_spot' 'distance_to_nearest_spot'\n",
      " 'is_smoking' 'percentage_of_stress_before'\n",
      " 'duration_of_stay_in_smoking_spot']\n"
     ]
    },
    {
     "name": "stderr",
     "output_type": "stream",
     "text": [
      "It looks like you are passing a model with a scalar output and target is set to `None`.If your model is a regression model this will produce correct attributions. If your model is a classification model, targets for each datapoint must be defined. Not defining the target may lead to incorrect values for the attributions.Targets can be either the true classes or the classes predicted by the model.\n"
     ]
    },
    {
     "name": "stdout",
     "output_type": "stream",
     "text": [
      "['percentage_of_active_before' 'Time of day = 15'\n",
      " 'distance_to_nearest_spot' 'time_since_last_stress'\n",
      " 'current_window_stress_diff_range_20_to_10']\n"
     ]
    },
    {
     "name": "stderr",
     "output_type": "stream",
     "text": [
      "It looks like you are passing a model with a scalar output and target is set to `None`.If your model is a regression model this will produce correct attributions. If your model is a classification model, targets for each datapoint must be defined. Not defining the target may lead to incorrect values for the attributions.Targets can be either the true classes or the classes predicted by the model.\n"
     ]
    },
    {
     "name": "stdout",
     "output_type": "stream",
     "text": [
      "['distance_to_nearest_spot' 'daily_stress_range_80_to_20'\n",
      " 'percentage_of_stress_before' 'duration_of_stay_in_smoking_spot'\n",
      " 'time_since_last_visit_smoking_spot']\n"
     ]
    },
    {
     "name": "stderr",
     "output_type": "stream",
     "text": [
      "It looks like you are passing a model with a scalar output and target is set to `None`.If your model is a regression model this will produce correct attributions. If your model is a classification model, targets for each datapoint must be defined. Not defining the target may lead to incorrect values for the attributions.Targets can be either the true classes or the classes predicted by the model.\n"
     ]
    },
    {
     "name": "stdout",
     "output_type": "stream",
     "text": [
      "['Time of day = 10' 'time_since_last_stress' 'Time of day = 15'\n",
      " 'duration_of_stay_in_smoking_spot' 'time_since_last_visit_smoking_spot']\n"
     ]
    },
    {
     "name": "stderr",
     "output_type": "stream",
     "text": [
      "It looks like you are passing a model with a scalar output and target is set to `None`.If your model is a regression model this will produce correct attributions. If your model is a classification model, targets for each datapoint must be defined. Not defining the target may lead to incorrect values for the attributions.Targets can be either the true classes or the classes predicted by the model.\n"
     ]
    },
    {
     "name": "stdout",
     "output_type": "stream",
     "text": [
      "['Time of day = 15' 'daily_stress_p5' 'time_spent_in_smoking_spot'\n",
      " 'average_density_of_before_stress_episode'\n",
      " 'duration_of_stay_in_smoking_spot']\n"
     ]
    },
    {
     "name": "stderr",
     "output_type": "stream",
     "text": [
      "It looks like you are passing a model with a scalar output and target is set to `None`.If your model is a regression model this will produce correct attributions. If your model is a classification model, targets for each datapoint must be defined. Not defining the target may lead to incorrect values for the attributions.Targets can be either the true classes or the classes predicted by the model.\n"
     ]
    },
    {
     "name": "stdout",
     "output_type": "stream",
     "text": [
      "['daily_stress_p80' 'time_since_last_stress' 'distance_to_nearest_spot'\n",
      " 'daily_stress_range_80_to_20' 'duration_of_stay_in_smoking_spot']\n"
     ]
    },
    {
     "name": "stderr",
     "output_type": "stream",
     "text": [
      "It looks like you are passing a model with a scalar output and target is set to `None`.If your model is a regression model this will produce correct attributions. If your model is a classification model, targets for each datapoint must be defined. Not defining the target may lead to incorrect values for the attributions.Targets can be either the true classes or the classes predicted by the model.\n"
     ]
    },
    {
     "name": "stdout",
     "output_type": "stream",
     "text": [
      "['time_since_last_visit_smoking_spot' 'daily_stress_p95' 'Time of day = 7'\n",
      " 'duration_of_stay_in_smoking_spot'\n",
      " 'average_duration_of_before_activity_episode']\n"
     ]
    },
    {
     "name": "stderr",
     "output_type": "stream",
     "text": [
      "It looks like you are passing a model with a scalar output and target is set to `None`.If your model is a regression model this will produce correct attributions. If your model is a classification model, targets for each datapoint must be defined. Not defining the target may lead to incorrect values for the attributions.Targets can be either the true classes or the classes predicted by the model.\n"
     ]
    },
    {
     "name": "stdout",
     "output_type": "stream",
     "text": [
      "['average_density_of_before_stress_episode'\n",
      " 'average_duration_of_before_activity_episode'\n",
      " 'duration_of_stay_in_smoking_spot' 'percentage_of_stress_before'\n",
      " 'daily_stress_range_80_to_20']\n"
     ]
    },
    {
     "name": "stderr",
     "output_type": "stream",
     "text": [
      "It looks like you are passing a model with a scalar output and target is set to `None`.If your model is a regression model this will produce correct attributions. If your model is a classification model, targets for each datapoint must be defined. Not defining the target may lead to incorrect values for the attributions.Targets can be either the true classes or the classes predicted by the model.\n"
     ]
    },
    {
     "name": "stdout",
     "output_type": "stream",
     "text": [
      "['current_window_stress_median' 'time_since_last_activity'\n",
      " 'percentage_of_active_before' 'daily_stress_skew' 'Time of day = 15']\n"
     ]
    },
    {
     "name": "stderr",
     "output_type": "stream",
     "text": [
      "It looks like you are passing a model with a scalar output and target is set to `None`.If your model is a regression model this will produce correct attributions. If your model is a classification model, targets for each datapoint must be defined. Not defining the target may lead to incorrect values for the attributions.Targets can be either the true classes or the classes predicted by the model.\n"
     ]
    },
    {
     "name": "stdout",
     "output_type": "stream",
     "text": [
      "['average_density_of_before_stress_episode' 'percentage_of_stress_before'\n",
      " 'time_since_last_stress' 'distance_to_nearest_spot'\n",
      " 'duration_of_stay_in_smoking_spot']\n"
     ]
    },
    {
     "name": "stderr",
     "output_type": "stream",
     "text": [
      "It looks like you are passing a model with a scalar output and target is set to `None`.If your model is a regression model this will produce correct attributions. If your model is a classification model, targets for each datapoint must be defined. Not defining the target may lead to incorrect values for the attributions.Targets can be either the true classes or the classes predicted by the model.\n"
     ]
    },
    {
     "name": "stdout",
     "output_type": "stream",
     "text": [
      "['maximum_density_of_current_stress_episode' 'time_since_last_stress'\n",
      " 'distance_to_nearest_spot' 'average_density_of_before_stress_episode'\n",
      " 'duration_of_stay_in_smoking_spot']\n"
     ]
    },
    {
     "name": "stderr",
     "output_type": "stream",
     "text": [
      "It looks like you are passing a model with a scalar output and target is set to `None`.If your model is a regression model this will produce correct attributions. If your model is a classification model, targets for each datapoint must be defined. Not defining the target may lead to incorrect values for the attributions.Targets can be either the true classes or the classes predicted by the model.\n"
     ]
    },
    {
     "name": "stdout",
     "output_type": "stream",
     "text": [
      "['maximum_density_of_current_stress_episode'\n",
      " 'time_since_last_visit_smoking_spot' 'daily_stress_range_90_to_10'\n",
      " 'daily_stress_range_90_to_80' 'daily_stress_iqr']\n"
     ]
    },
    {
     "name": "stderr",
     "output_type": "stream",
     "text": [
      "It looks like you are passing a model with a scalar output and target is set to `None`.If your model is a regression model this will produce correct attributions. If your model is a classification model, targets for each datapoint must be defined. Not defining the target may lead to incorrect values for the attributions.Targets can be either the true classes or the classes predicted by the model.\n"
     ]
    },
    {
     "name": "stdout",
     "output_type": "stream",
     "text": [
      "['average_density_of_before_stress_episode' 'spread'\n",
      " 'duration_of_stay_in_smoking_spot' 'percentage_of_stress_before'\n",
      " 'distance_to_nearest_spot']\n"
     ]
    },
    {
     "name": "stderr",
     "output_type": "stream",
     "text": [
      "It looks like you are passing a model with a scalar output and target is set to `None`.If your model is a regression model this will produce correct attributions. If your model is a classification model, targets for each datapoint must be defined. Not defining the target may lead to incorrect values for the attributions.Targets can be either the true classes or the classes predicted by the model.\n"
     ]
    },
    {
     "name": "stdout",
     "output_type": "stream",
     "text": [
      "['time_since_last_activity' 'daily_stress_range_90_to_10'\n",
      " 'current_window_stress_diff_iqr'\n",
      " 'deviation_to_daily_mean_of_last_stress_episode' 'Time of day = 17']\n"
     ]
    },
    {
     "name": "stderr",
     "output_type": "stream",
     "text": [
      "It looks like you are passing a model with a scalar output and target is set to `None`.If your model is a regression model this will produce correct attributions. If your model is a classification model, targets for each datapoint must be defined. Not defining the target may lead to incorrect values for the attributions.Targets can be either the true classes or the classes predicted by the model.\n"
     ]
    },
    {
     "name": "stdout",
     "output_type": "stream",
     "text": [
      "['duration_of_stay_in_smoking_spot' 'percentage_of_stress_before'\n",
      " 'time_spent_in_smoking_spot' 'time_since_last_visit_smoking_spot'\n",
      " 'average_duration_of_before_activity_episode']\n"
     ]
    },
    {
     "name": "stderr",
     "output_type": "stream",
     "text": [
      "It looks like you are passing a model with a scalar output and target is set to `None`.If your model is a regression model this will produce correct attributions. If your model is a classification model, targets for each datapoint must be defined. Not defining the target may lead to incorrect values for the attributions.Targets can be either the true classes or the classes predicted by the model.\n"
     ]
    },
    {
     "name": "stdout",
     "output_type": "stream",
     "text": [
      "['time_since_last_stress' 'distance_to_nearest_spot'\n",
      " 'percentage_of_stress_before' 'time_since_last_visit_smoking_spot'\n",
      " 'duration_of_stay_in_smoking_spot']\n"
     ]
    },
    {
     "name": "stderr",
     "output_type": "stream",
     "text": [
      "It looks like you are passing a model with a scalar output and target is set to `None`.If your model is a regression model this will produce correct attributions. If your model is a classification model, targets for each datapoint must be defined. Not defining the target may lead to incorrect values for the attributions.Targets can be either the true classes or the classes predicted by the model.\n"
     ]
    },
    {
     "name": "stdout",
     "output_type": "stream",
     "text": [
      "['time_since_last_visit_smoking_spot'\n",
      " 'maximum_density_of_current_stress_episode' 'distance_to_nearest_spot'\n",
      " 'percentage_of_stress_before' 'duration_of_stay_in_smoking_spot']\n"
     ]
    },
    {
     "name": "stderr",
     "output_type": "stream",
     "text": [
      "It looks like you are passing a model with a scalar output and target is set to `None`.If your model is a regression model this will produce correct attributions. If your model is a classification model, targets for each datapoint must be defined. Not defining the target may lead to incorrect values for the attributions.Targets can be either the true classes or the classes predicted by the model.\n"
     ]
    },
    {
     "name": "stdout",
     "output_type": "stream",
     "text": [
      "['daily_stress_p90' 'daily_stress_median' 'current_window_stress_diff_p5'\n",
      " 'daily_stress_p20' 'average_duration_of_before_stress_episode']\n"
     ]
    },
    {
     "name": "stderr",
     "output_type": "stream",
     "text": [
      "It looks like you are passing a model with a scalar output and target is set to `None`.If your model is a regression model this will produce correct attributions. If your model is a classification model, targets for each datapoint must be defined. Not defining the target may lead to incorrect values for the attributions.Targets can be either the true classes or the classes predicted by the model.\n"
     ]
    },
    {
     "name": "stdout",
     "output_type": "stream",
     "text": [
      "['daily_stress_iqr' 'Time of day = 13' 'distance_to_nearest_spot'\n",
      " 'average_duration_of_before_activity_episode' 'Time of day = 15']\n"
     ]
    },
    {
     "name": "stderr",
     "output_type": "stream",
     "text": [
      "It looks like you are passing a model with a scalar output and target is set to `None`.If your model is a regression model this will produce correct attributions. If your model is a classification model, targets for each datapoint must be defined. Not defining the target may lead to incorrect values for the attributions.Targets can be either the true classes or the classes predicted by the model.\n"
     ]
    },
    {
     "name": "stdout",
     "output_type": "stream",
     "text": [
      "['daily_stress_range_20_to_10' 'current_window_stress_p80'\n",
      " 'current_window_stress_iqr' 'average_duration_of_current_stress_episode'\n",
      " 'time_since_last_visit_smoking_spot']\n"
     ]
    },
    {
     "name": "stderr",
     "output_type": "stream",
     "text": [
      "It looks like you are passing a model with a scalar output and target is set to `None`.If your model is a regression model this will produce correct attributions. If your model is a classification model, targets for each datapoint must be defined. Not defining the target may lead to incorrect values for the attributions.Targets can be either the true classes or the classes predicted by the model.\n"
     ]
    },
    {
     "name": "stdout",
     "output_type": "stream",
     "text": [
      "['current_window_stress_range_80_to_20' 'percentage_of_stress_before'\n",
      " 'fraction_of_minutes_spent_in_smoking_spots_out_of_observed'\n",
      " 'percentage_of_stress' 'current_window_stress_diff_p5']\n"
     ]
    },
    {
     "name": "stderr",
     "output_type": "stream",
     "text": [
      "It looks like you are passing a model with a scalar output and target is set to `None`.If your model is a regression model this will produce correct attributions. If your model is a classification model, targets for each datapoint must be defined. Not defining the target may lead to incorrect values for the attributions.Targets can be either the true classes or the classes predicted by the model.\n"
     ]
    },
    {
     "name": "stdout",
     "output_type": "stream",
     "text": [
      "['average_density_of_before_stress_episode'\n",
      " 'current_window_stress_diff_range_90_to_80' 'distance_to_nearest_spot'\n",
      " 'daily_stress_p90' 'duration_of_stay_in_smoking_spot']\n"
     ]
    },
    {
     "name": "stderr",
     "output_type": "stream",
     "text": [
      "It looks like you are passing a model with a scalar output and target is set to `None`.If your model is a regression model this will produce correct attributions. If your model is a classification model, targets for each datapoint must be defined. Not defining the target may lead to incorrect values for the attributions.Targets can be either the true classes or the classes predicted by the model.\n"
     ]
    },
    {
     "name": "stdout",
     "output_type": "stream",
     "text": [
      "['distance_to_nearest_spot' 'daily_stress_range_90_to_80'\n",
      " 'percentage_of_stress_before' 'duration_of_stay_in_smoking_spot'\n",
      " 'time_since_last_visit_smoking_spot']\n"
     ]
    },
    {
     "name": "stderr",
     "output_type": "stream",
     "text": [
      "It looks like you are passing a model with a scalar output and target is set to `None`.If your model is a regression model this will produce correct attributions. If your model is a classification model, targets for each datapoint must be defined. Not defining the target may lead to incorrect values for the attributions.Targets can be either the true classes or the classes predicted by the model.\n"
     ]
    },
    {
     "name": "stdout",
     "output_type": "stream",
     "text": [
      "['time_since_last_activity' 'distance_to_nearest_spot'\n",
      " 'deviation_to_daily_mean_of_last_stress_episode'\n",
      " 'percentage_of_stress_before' 'Time of day = 15']\n",
      "['daily_stress_p80' 'daily_stress_range_90_to_80'\n",
      " 'fraction_of_minutes_spent_in_smoking_spots_out_of_observed'\n",
      " 'duration_of_stay_in_smoking_spot' 'daily_stress_skew']\n"
     ]
    }
   ],
   "source": [
    "def set_gpu():\n",
    "    gpus = tf.config.experimental.list_physical_devices('GPU')\n",
    "    if gpus:\n",
    "    # Restrict TensorFlow to only use the first GPU\n",
    "        try:\n",
    "            tf.config.experimental.set_visible_devices(gpus[gpu_id], 'GPU')\n",
    "            logical_gpus = tf.config.experimental.list_logical_devices('GPU')\n",
    "            print(len(gpus), \"Physical GPUs,\", len(logical_gpus), \"Logical GPU\")\n",
    "        except RuntimeError as e:\n",
    "            # Visible devices must be set before GPUs have been initialized\n",
    "            print(e)\n",
    "gpu_id = 0\n",
    "set_gpu()\n",
    "path = './explannation_models/'\n",
    "df_all = []\n",
    "path+=os.listdir(path)[0]+'/'\n",
    "import uuid\n",
    "for iter in os.listdir(path):\n",
    "    model_files = os.listdir(path+iter)\n",
    "    data_dict,X_test,y_test = pickle.load(open(path+iter+'/data.p','rb'))\n",
    "    all_models = []\n",
    "    for weight_path in list(data_dict.keys()):\n",
    "        with open(path+iter+'/model.json','r') as json_file:\n",
    "            model = tf.keras.models.model_from_json(json_file.read())\n",
    "        model.load_weights(weight_path)\n",
    "        # for i, layer in enumerate(model.layers):\n",
    "        #     layer._name = 'layer_' + str(uuid.uuid4())\n",
    "        model._name=str(uuid.uuid4())\n",
    "        ig  = IntegratedGradients(model,\n",
    "                          method=\"gausslegendre\",\n",
    "                          n_steps=50,\n",
    "                          internal_batch_size=100)\n",
    "        explanation = ig.explain(X_test,\n",
    "                                baselines=None,\n",
    "                                target=None)\n",
    "\n",
    "        attributions = explanation.attributions\n",
    "        # shap.summary_plot([attributions[y_test==1].mean(axis=1)],X_test[y_test==1].mean(axis=1),feature_names=feature_names)\n",
    "        # shap.summary_plot([attributions.mean(axis=1)],X_test.mean(axis=1),feature_names=feature_names)\n",
    "        feature_importance = np.abs(attributions.sum(axis=1)).mean(axis=0)\n",
    "        df = pd.DataFrame({'importance':feature_importance,\n",
    "                           'name':feature_names,\n",
    "                           'weight':[weight_path]*len(feature_importance),\n",
    "                           'iter':[iter]*len(feature_importance)})\n",
    "        print(df.sort_values('importance').reset_index(drop=True)[-5:]['name'].values)\n",
    "        df_all.append(df)\n",
    "        pickle.dump(pd.concat(df_all),open('./data/ig_dataframe1.p','wb'))\n",
    "        # all_models.append(model)\n",
    "    # input_ = all_models[0].input\n",
    "    # model_outputs = [model(input_) for model in all_models]\n",
    "    # output = tf.keras.layers.Average()(model_outputs)\n",
    "    # ensemble_model = tf.keras.Model(inputs=input_, outputs=output)\n"
   ]
  },
  {
   "cell_type": "code",
   "execution_count": null,
   "metadata": {},
   "outputs": [],
   "source": [
    "# \n",
    "# plt.hist(model.predict(X_test)[y_test==0])\n",
    "feature_importance.shape"
   ]
  },
  {
   "cell_type": "code",
   "execution_count": null,
   "metadata": {},
   "outputs": [],
   "source": [
    "\n",
    "ig  = IntegratedGradients(model,\n",
    "                          method=\"gausslegendre\",\n",
    "                          n_steps=50,\n",
    "                          internal_batch_size=100)\n",
    "explanation = ig.explain(X_test,\n",
    "                         baselines=None,\n",
    "                         target=None)\n",
    "\n",
    "attributions = explanation.attributions"
   ]
  },
  {
   "cell_type": "code",
   "execution_count": null,
   "metadata": {},
   "outputs": [],
   "source": [
    "# import matplotlib.pyplot as plt\n",
    "import shap\n",
    "\n",
    "all_features = []\n",
    "feature_name = ['p90','p95','p80','p5','p10','p20','range_90_to_80','range_20_to_10','range_90_to_10',\n",
    "                'range_80_to_20','median','iqr','skew']\n",
    "name = 'current_window_stress'\n",
    "all_features += [name+'_'+a for a in feature_name]\n",
    "# print(len(set(all_features)),len(all_features))\n",
    "name = 'current_window_stress_diff'\n",
    "all_features += [name+'_'+a for a in feature_name]\n",
    "name = 'daily_stress'\n",
    "all_features += [name+'_'+a for a in feature_name]\n",
    "all_features += ['percentage_of_stress', 'maximum_duration_of_current_stress_episode','average_duration_of_current_stress_episode',\n",
    "               'maximum_density_of_current_stress_episode', 'average_density_of_current_stress_episode', 'average_deviation_to_daily_mean_current',\n",
    "               'no_stress_till_now', 'time_since_last_stress', 'duration_of_last_stress_episode', 'average_duration_of_before_stress_episode',\n",
    "               'density_of_last_stress_episode', 'average_density_of_before_stress_episode', 'deviation_to_daily_mean_of_last_stress_episode',\n",
    "               'percentage_of_stress_before']\n",
    "all_features+= ['percentage_of_active_', 'maximum_duration_of_current_activity_episode', 'average_duration_of_current_window_episode',\n",
    "                 'no_activity_till_now', 'time_since_last_activity', 'duration_of_last_activity_episode', 'average_duration_of_before_activity_episode',\n",
    "                 'percentage_of_active_before']\n",
    "all_features += ['time_since_last_visit_smoking_spot','duration_of_stay_in_smoking_spot','fraction_of_minutes_spent_in_smoking_spots_out_of_observed']\n",
    "all_features += ['Gender','Age']\n",
    "all_features += ['is_smoking','spread','distance_to_nearest_spot',\n",
    "                'time_spent_in_transition','time_spent_in_smoking_spot']\n",
    "all_features += ['Time of day = {}'.format(a) for a in np.arange(24)]\n",
    "feature_names = all_features"
   ]
  },
  {
   "cell_type": "code",
   "execution_count": null,
   "metadata": {},
   "outputs": [],
   "source": [
    "shap.summary_plot([attributions.mean(axis=1)],X_test.mean(axis=1),feature_names=feature_names)"
   ]
  },
  {
   "cell_type": "code",
   "execution_count": null,
   "metadata": {},
   "outputs": [],
   "source": [
    "# plt.hist(y_pred[y_test==1])\n",
    "# plt.hist(y_pred[y_test==0])"
   ]
  },
  {
   "cell_type": "code",
   "execution_count": null,
   "metadata": {},
   "outputs": [],
   "source": [
    "attributions.shape"
   ]
  },
  {
   "cell_type": "code",
   "execution_count": null,
   "metadata": {},
   "outputs": [],
   "source": []
  }
 ],
 "metadata": {
  "interpreter": {
   "hash": "51b244ab9aca612e739a0539ae1af887c58db9e180d786deb0ab1761def69c1f"
  },
  "kernelspec": {
   "display_name": "Python 3.8.5 ('test1')",
   "language": "python",
   "name": "python3"
  },
  "language_info": {
   "codemirror_mode": {
    "name": "ipython",
    "version": 3
   },
   "file_extension": ".py",
   "mimetype": "text/x-python",
   "name": "python",
   "nbconvert_exporter": "python",
   "pygments_lexer": "ipython3",
   "version": "3.8.5"
  },
  "orig_nbformat": 4
 },
 "nbformat": 4,
 "nbformat_minor": 2
}
