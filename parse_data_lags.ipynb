{
 "cells": [
  {
   "cell_type": "code",
   "execution_count": 55,
   "metadata": {},
   "outputs": [],
   "source": [
    "import pickle\n",
    "import numpy as np\n",
    "import pandas as pd\n",
    "import os\n",
    "import zipfile\n",
    "import shutil\n",
    "from datetime import datetime,timedelta\n",
    "from scipy.stats import iqr,skew,kurtosis\n",
    "from joblib import Parallel,delayed\n",
    "import pickle\n",
    "import numpy as np\n",
    "import pandas as pd\n",
    "import os\n",
    "import zipfile\n",
    "import shutil\n",
    "from datetime import datetime,timedelta\n",
    "from scipy.stats import iqr,skew,kurtosis\n",
    "from joblib import Parallel,delayed\n",
    "from sklearn.feature_selection import SelectKBest,f_classif\n",
    "from sklearn.decomposition import PCA\n",
    "from pprint import pprint\n",
    "from sklearn.metrics import f1_score,r2_score,classification_report\n",
    "from sklearn.model_selection import ParameterGrid\n",
    "from sklearn.ensemble import RandomForestClassifier,AdaBoostClassifier,RandomForestRegressor\n",
    "from sklearn.svm import SVC\n",
    "# print(m/(m+n),'baseline accuracy')\n",
    "from sklearn.pipeline import Pipeline\n",
    "from sklearn.decomposition import PCA\n",
    "from sklearn.metrics import confusion_matrix,f1_score,precision_score,recall_score,accuracy_score\n",
    "import itertools\n",
    "from sklearn.model_selection import ParameterGrid, cross_val_predict, GroupKFold,GridSearchCV,StratifiedKFold\n",
    "from sklearn import preprocessing\n",
    "from sklearn.tree import DecisionTreeClassifier\n",
    "from sklearn.linear_model import LogisticRegression\n",
    "import matplotlib.pyplot as plt"
   ]
  },
  {
   "cell_type": "code",
   "execution_count": 56,
   "metadata": {},
   "outputs": [],
   "source": [
    "file_directory = './data/parsed_data/'\n",
    "save_directory = './data/lagged_data/'"
   ]
  },
  {
   "cell_type": "code",
   "execution_count": 57,
   "metadata": {},
   "outputs": [
    {
     "data": {
      "text/plain": [
       "['.ipynb_checkpoints',\n",
       " 'with_non_lapsers_observation_10_prediction_60.p',\n",
       " 'with_non_lapsers_observation_20_prediction_60.p',\n",
       " 'with_non_lapsers_observation_30_prediction_60.p',\n",
       " 'with_non_lapsers_observation_45_prediction_60.p',\n",
       " 'with_non_lapsers_observation_60_prediction_60.p']"
      ]
     },
     "execution_count": 57,
     "metadata": {},
     "output_type": "execute_result"
    }
   ],
   "source": [
    "os.listdir(file_directory)"
   ]
  },
  {
   "cell_type": "code",
   "execution_count": 58,
   "metadata": {},
   "outputs": [
    {
     "name": "stdout",
     "output_type": "stream",
     "text": [
      "with_non_lapsers_observation_45_prediction_60.p\n",
      "done with_non_lapsers_observation_45_prediction_60.p\n",
      "with_non_lapsers_observation_60_prediction_60.p\n",
      "done with_non_lapsers_observation_60_prediction_60.p\n"
     ]
    }
   ],
   "source": [
    "def get_feature_sequence(df,K=5):\n",
    "    df  = df.sort_values('time').reset_index(drop=True)\n",
    "    df['feature_final'] = df['feature_final'].apply(lambda a:np.float64(a.reshape(-1)[2:].reshape(-1,1)))\n",
    "    time_of_day = df['Time of Day'].values[0]\n",
    "    age = df['Gender'].values[0]\n",
    "    user_id = df.user.values[0]\n",
    "    all_data = []\n",
    "    for i in range(K-1,df.shape[0],1):\n",
    "        row = df.iloc[i]\n",
    "        features = np.concatenate(list(df['feature_final'].iloc[i-K+1:i+1])).reshape(1,K,-1)\n",
    "        label = df['Label'].iloc[i]\n",
    "        day = df['day'].iloc[i]\n",
    "        time = df['time'].iloc[i]\n",
    "        start_time = df['start_time'].iloc[i-K+1]\n",
    "        end_time = df['end_time'].iloc[i]\n",
    "        all_data.append([features,user_id,label,day,time,time_of_day,age,start_time,end_time])\n",
    "    return pd.DataFrame(all_data,columns=['features','user','label','day','time','Time of Day','Gender','start_time','end_time'])\n",
    "Ks = np.arange(2,30,2)\n",
    "for f in os.listdir(file_directory):\n",
    "    if f[:3]=='lag' or f[0]=='.':\n",
    "        continue\n",
    "    obs = f.split('_')[4]\n",
    "    prediction = f.split('_')[-1].split('.')[0]\n",
    "    if os.path.isdir(save_directory+'obs_'+str(obs)+'_prediction_'+str(prediction)):\n",
    "        continue\n",
    "    if not os.path.isdir(save_directory+'obs_'+str(obs)+'_prediction_'+str(prediction)):\n",
    "        os.makedirs(save_directory+'obs_'+str(obs)+'_prediction_'+str(prediction))\n",
    "    print(f)\n",
    "    saving_directory = save_directory+'obs_'+str(obs)+'_prediction_'+str(prediction)+'/'\n",
    "    data = pickle.load(open(file_directory+f,'rb'))\n",
    "    for K in Ks:\n",
    "        df_seq = pd.concat([get_feature_sequence(df,K=K) for i,df in data.groupby('user',as_index=False)])\n",
    "        pickle.dump(df_seq,open(saving_directory+'lagged_'+str(K)+'.p','wb'))\n",
    "    print('done',f)"
   ]
  },
  {
   "cell_type": "code",
   "execution_count": 52,
   "metadata": {},
   "outputs": [
    {
     "data": {
      "text/plain": [
       "'./data/lagged_data/obs_30_prediction_60'"
      ]
     },
     "execution_count": 52,
     "metadata": {},
     "output_type": "execute_result"
    }
   ],
   "source": [
    "saving_directory"
   ]
  },
  {
   "cell_type": "code",
   "execution_count": 59,
   "metadata": {},
   "outputs": [],
   "source": [
    "data  = pickle.load(open('./data/lagged_data/obs_60_prediction_60/lagged_28.p','rb'))\n",
    "\n",
    "X = np.concatenate(list(data['features']))\n",
    "X1 = X.reshape(X.shape[0],-1)\n",
    "y = data['label'].values\n",
    "y = np.int64(np.array(y))\n",
    "y[y>0] = 1\n",
    "y[y<1] = -1\n",
    "groups = data['user'].values\n",
    "\n",
    "X_time = data['Time of Day'].values.reshape(-1,1)\n",
    "\n",
    "from sklearn import preprocessing\n",
    "X_time = preprocessing.OneHotEncoder().fit_transform(X_time).todense()\n",
    "\n",
    "X_gender = data.Gender.values.reshape(-1,1)\n",
    "\n",
    "X_gender = preprocessing.OneHotEncoder().fit_transform(X_gender).todense()\n",
    "\n",
    "X = np.concatenate([X_time,X_gender,X1],axis=1)\n",
    "\n",
    "X.shape,y.shape,groups.shape"
   ]
  },
  {
   "cell_type": "code",
   "execution_count": 94,
   "metadata": {},
   "outputs": [
    {
     "data": {
      "text/plain": [
       "16"
      ]
     },
     "execution_count": 94,
     "metadata": {},
     "output_type": "execute_result"
    }
   ],
   "source": [
    "1808-28*64"
   ]
  },
  {
   "cell_type": "code",
   "execution_count": 83,
   "metadata": {},
   "outputs": [],
   "source": []
  },
  {
   "cell_type": "code",
   "execution_count": 86,
   "metadata": {},
   "outputs": [],
   "source": [
    "def convert_to_lapsers_only(df):\n",
    "    def helper(df):\n",
    "        if df.Label.sum()==0:\n",
    "            return pd.DataFrame([],columns=list(df.columns))\n",
    "        return df\n",
    "    return df.groupby('user',as_index=False).apply(helper)"
   ]
  },
  {
   "cell_type": "code",
   "execution_count": 87,
   "metadata": {},
   "outputs": [],
   "source": [
    "data  = pickle.load(open('./data/parsed_data/with_non_lapsers_observation_60_prediction_60.p','rb'))\n",
    "data= convert_to_lapsers_only(data)"
   ]
  },
  {
   "cell_type": "code",
   "execution_count": 91,
   "metadata": {},
   "outputs": [
    {
     "data": {
      "text/plain": [
       "961"
      ]
     },
     "execution_count": 91,
     "metadata": {},
     "output_type": "execute_result"
    }
   ],
   "source": [
    "data.Label."
   ]
  },
  {
   "cell_type": "code",
   "execution_count": null,
   "metadata": {},
   "outputs": [],
   "source": []
  },
  {
   "cell_type": "code",
   "execution_count": null,
   "metadata": {},
   "outputs": [],
   "source": [
    "\n",
    "\n"
   ]
  }
 ],
 "metadata": {
  "kernelspec": {
   "display_name": "CC3.3",
   "language": "python",
   "name": "cc33"
  },
  "language_info": {
   "codemirror_mode": {
    "name": "ipython",
    "version": 3
   },
   "file_extension": ".py",
   "mimetype": "text/x-python",
   "name": "python",
   "nbconvert_exporter": "python",
   "pygments_lexer": "ipython3",
   "version": "3.6.8"
  }
 },
 "nbformat": 4,
 "nbformat_minor": 2
}
