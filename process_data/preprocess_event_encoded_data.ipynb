{
 "cells": [
  {
   "cell_type": "code",
   "execution_count": 6,
   "id": "ultimate-linux",
   "metadata": {},
   "outputs": [],
   "source": [
    "from datetime import datetime,timedelta\n",
    "from scipy.stats import iqr,skew,kurtosis,mode\n",
    "from joblib import Parallel,delayed\n",
    "import zipfile\n",
    "import shutil\n",
    "from sklearn.feature_selection import SelectKBest,f_classif\n",
    "from sklearn.decomposition import PCA\n",
    "from pprint import pprint\n",
    "from sklearn.metrics import f1_score,r2_score,classification_report\n",
    "from sklearn.model_selection import ParameterGrid\n",
    "from sklearn.ensemble import RandomForestClassifier,AdaBoostClassifier,RandomForestRegressor\n",
    "from sklearn.svm import SVC\n",
    "from sklearn.pipeline import Pipeline\n",
    "from sklearn.decomposition import PCA\n",
    "from sklearn.metrics import confusion_matrix,f1_score,precision_score,recall_score,accuracy_score\n",
    "import itertools\n",
    "from sklearn.model_selection import ParameterGrid, cross_val_predict, GroupKFold,GridSearchCV,StratifiedKFold\n",
    "from sklearn import preprocessing\n",
    "from sklearn.tree import DecisionTreeClassifier\n",
    "from sklearn.linear_model import LogisticRegression\n",
    "from collections import Counter\n",
    "from sklearn import preprocessing\n",
    "import tensorflow as tf\n",
    "import numpy as np\n",
    "seed = 100\n",
    "tf.random.set_seed(seed)\n",
    "np.random.seed(seed)\n",
    "import os\n",
    "import pandas as pd\n",
    "import pickle\n",
    "from tensorflow import keras\n",
    "from tensorflow.keras import backend as K\n",
    "import matplotlib.pyplot as plt\n",
    "from tensorflow.keras.callbacks import ModelCheckpoint,EarlyStopping\n",
    "from sklearn.model_selection import train_test_split,LeavePGroupsOut\n",
    "from tensorflow.keras.layers import Conv1D,BatchNormalization,Dropout,InputLayer,MaxPooling1D,Flatten,Dense,Input,Activation,GRU,Bidirectional,LSTM\n",
    "from tensorflow.keras.models import Model, Sequential\n",
    "from sklearn.metrics import accuracy_score\n",
    "import tensorflow_addons as tfa\n",
    "from collections import Counter\n",
    "from sklearn.preprocessing import LabelEncoder,OneHotEncoder,StandardScaler\n",
    "import warnings\n",
    "from sklearn.decomposition import PCA\n",
    "from sklearn.manifold import TSNE\n",
    "from sklearn.cluster import OPTICS,DBSCAN,KMeans\n",
    "from sklearn.metrics import silhouette_score\n",
    "warnings.filterwarnings('ignore')\n",
    "\n",
    "user_indices = ['3016','047dfad3-0807-37f0-bc90-7fd9dedb9bde','3002','1f879d60-3ccc-3b7a-b522-cbfbea277a9d',          '3003','0dd6b3c7-0314-3e6d-ac60-dde239068a6c','3100','7b6446b4-cfe0-3bf7-ae2f-c085363987db',          '3004','fd053cef-b5a5-3fe6-a158-b6702bce0665','3006','a8ca0b44-85fa-34f4-82d1-30612ac85961',          '3005','bc3e88a3-7bcf-3c61-9284-5886c604e029','3007','9d21b1fc-d2ea-301e-a7b2-ac8a1fd891e1',\n",
    "          '3008','f30bb859-43dd-37fb-b4ce-18ae832a5b55','3009','8ae05753-f5ed-3a3e-90a5-f96e991ffe38',          '3010','cb064c00-5517-3828-8309-a2bfe8310add','3011','f2e77c23-06ef-3ae0-909b-36c5e1a25b6e',          '3012','d06e1611-fdd0-30b9-a8ab-252e1d68472a','3013','da7f5eb4-0239-3303-ae48-b5e91d6dfdd9',          '3014','d2b0b3cd-3fbe-3c2e-9677-1af7de9309ff','3015','7d7b93e0-cf67-37b7-9df9-42ebac7dbb07',\n",
    "          '3017','1466e642-d0f4-368b-8998-2b5894d4b0f0',          '3018','7fab23f1-9c50-345c-837e-e020482d7e0d','3019','d1165f4c-ae82-308f-b0fe-66789c1d2d1b',          '3020','558d0012-7c68-38af-8194-bbd71bac5152','3022','b4bcc0ff-b0fa-3996-93c6-37ec7957321a',\n",
    "          '3023','7cd86bed-89d0-31f3-b230-16ae51614579','3024','9e34ce7f-a634-3614-88e2-659c5e5aa3ef',          '3025','4c6c5b43-21ec-3c74-9603-7d808574e487','3026','36156e40-77d1-3827-b6af-bafb5b2aeb19',          '3027','ca6b9b66-7af3-3b7e-b89e-1c2ce17cfd07','3028','daddce87-4f77-397f-8f26-0c4251d68080',          '3029','66b8a9a9-7db7-3fdc-b3b1-5ad52706a758','3030','df5ce7f6-d61f-33a6-b3bf-94e2f97ddc0c',\n",
    "          '3031','fe6a5545-ca7b-38e2-aa0d-021c5e675f15','3032','0c155e6b-410c-329e-8a06-66d01424ad53',          '3033','dd3e9707-8d11-35ff-8c4a-f7d62fafc6a3','3034','bdc04055-5495-3233-beed-de7b486888aa',          '3035','79a084d6-94c8-3041-8699-fe6d2a4be58c','3036','3467c5f3-6986-3421-a805-0473035df5cf',          '3037','a2dc45f9-ecc9-35b5-bdfd-0e282bd2fafe','3038','4a757428-0041-3310-89cf-29bcc95a3585',\n",
    "          '3039','ee1c54b3-ed15-3755-a53d-a381f62a305b','3040','3da2c05f-b2d2-3189-ab4a-42aaea76155e',          '3041','73469433-515d-3fbf-87a0-713716d271e9','3042','8917070a-fc51-394f-820e-b7d0331de03d',          '3043','ab5aa320-fb07-3e2d-a5dc-75b913a5f944','3044','65c8982a-97ab-37ca-bedf-db22e67aeedd',          '3045','58fe1dd7-e73f-359d-8b75-60048b6dda3f','3046','3bff28ff-eb12-3d3f-897d-564a2d4bb38d',\n",
    "          '3047','fdf6d51e-ad75-35d2-aaae-889cf4e4e0bc','3048','6c1a560d-85da-3c3b-b655-c46592e70406',          '3049','ac3db1e1-a0d7-3722-b674-cc51e42da6e3','3050','779db0c5-d56c-3cf9-8d2f-61ff39dec4bb',          '3051','ce905877-c2eb-3450-823f-626c658c8d7f','3052','a29eb24d-d576-3130-b646-187dc83bba42',          '3053','2e338495-136f-3d74-9891-1c7c3541fa28','3054','5ab7a1f0-532f-3404-96fc-5fb16803fca8',\n",
    "          '3055','07689307-0253-3d2a-a975-bdf3b442e2b0','3056','476efab6-7333-3246-8152-06e03cd10850',          '3057','3fd0db3c-ae87-351a-a343-402548a4b360','3058','f4e74737-697d-3635-855d-35d1375b704a',          '3059','9e515982-1fd1-3d1b-a735-2d79b4fd5352','3060','c443e037-70d0-3b09-a1df-12298c4875dc',          '3061','741f02af-3de7-355c-a699-1f22cec5e8bf','3062','00a0bf3a-b0d9-3b02-9ed3-8afbfb6e2730',\n",
    "          '3063','864d3e4f-c69f-3b32-a785-7a84a1d401ae','3064','719eeb3e-c78c-3e3a-898f-12f3cc4525d0',          '3065','ed34b7ed-98fd-33f1-ad8a-d5dd46e6dcb0','3066','659a345f-351c-3989-8174-8e2f0632e861',          '3067','d5672d19-ff58-3c95-980e-aa8d350ddbeb','3068','243ecad5-923a-3388-a99b-dc14c700cd29',          '3069','b09df1fe-acb7-3da3-ba73-c9ec8951052f','3070','a771acda-75a2-3d2c-a0a8-e153f821a792',\n",
    "          '3072','c8e60103-cc9b-3fee-bbce-778ed57afcec','3073','b116dc86-34e1-34b5-aa25-57b1cb7f0ea0',          '3074','071ece63-5dda-344a-8e52-1fc7ddf357bb','3075','aebdd8bb-c236-3931-a88b-f4e890f88c33',          '3076','4d2549d4-c6b2-3243-a8b6-9fe36dcb0a66','3077','8e387766-4b0a-3a04-807c-d0419b4a0497',          '3078','deee7031-3cf0-3e97-9728-4747104da59b','3079','0a54a64b-b788-3b75-8cbe-84c5cf15bb8e',\n",
    "          '3080','440b6766-44c3-358a-966f-293e5e1c66b3','3081','8ee395ae-3641-3542-bc82-c4e2125e3cc1',          '3082','c12398b1-7cb3-3e06-8b7d-4bb2aa87e875','3083','cd55ae15-ee0e-3527-b7f5-d5a4897d5b8e',          '3084','ee05a9e3-cef7-3b71-8960-cd493eb64708','3085','9c06cc8a-0603-3a46-907d-dd63a8f2bd99',          '3086','af642ecf-911b-31bb-8873-700ccc441680','3087','cdac2efd-c877-34cd-aa08-7470a464c40d',\n",
    "          '3089','c2e0dc7c-ff9c-3ee0-8f7f-442c4c3f6bb0','3088','082f7d1e-f7e1-3cbe-8dc7-c81a101380b7',          '3090','0cb209c9-886f-3358-91c6-b7625552b813','3091','6a551303-9f23-30c3-9fab-b549933923bd',          '3092','9df62dc7-bed0-3e3a-a662-de8dcda5c5e4','3093','8760670c-cb61-33ac-896e-4c83c58ed9a0',          '3094','2e1a66cc-9b47-3500-ae0c-862910d9595f','3095','2b783fcd-e6db-3dc1-b065-4e409d356716',\n",
    "          '3096','faa2df18-dad3-373e-a463-000fa352ea21','3097','a29bd5f3-0774-3072-b6f8-3e141d4ceab2',          '3098','b641d1c8-d3ab-3d9b-bb6b-ffb273b972cf','3099','5415885c-20f6-3fd9-8d6a-23914db7a633',          '3101','6e6d7a35-d031-3eb2-be41-97d176ff3552','3102','76e4a4a6-4025-3757-9886-3ef05c2a224f',          '3103','79fdf14f-d494-3036-953b-628eec84b8cb','3104','bdfe86ca-f760-32c9-93ff-6b611fa87b0f',\n",
    "          '3105','aca62619-56dc-3444-9bdb-beb77b7239b2','3106','151bafe0-483e-33d5-98aa-e666c19ae219',          '3107','7f0d43c5-a9cb-35ce-862a-39a475f15bf5','3109','0e996cd5-488d-3652-9c9a-dac934a5a8a7',          '3108','6d10fd72-39c8-3ff9-813f-058e924de0f3','3110','1a55c60f-0a68-3fff-bcf5-94dab5b8dd76',          '3111','2852e4e5-59f4-3873-aae8-b3a6a461cde2','3112','51009acd-9b5f-3dc6-805a-7435bc931a62',\n",
    "          '3113','a26bcfe4-4bdf-30b3-b592-6eb85bf33771','3114','550a38b3-d4b6-37ff-9597-cbe473631ed3',          '3115','513cdafb-5c26-39ba-ba24-33e597bea347','3116','88106351-980e-3b86-8b19-6f62956b48c8',          '3117','526ce985-4b5e-3b63-b44c-255a1931dc88','3118','8e8cbfd3-27d1-3483-89d0-141565906ba1',          '3119','bc210f41-d98b-370f-9c5c-dc12d5cb73e9','3121','ca9e0b25-477b-3bff-a4d4-a4395afd3e38',\n",
    "          '3120','131dfd9a-0816-370e-a1f7-44de0eace4fd','3122','24770270-32bf-3229-8343-08cdc7fa8246',          '3123','159a06ce-a78d-32a3-aee5-d0cc9619fc7a','3124','d788cd10-b6bb-3372-a781-74373e6e34f6',          '3125','db2d1c42-040a-3fc1-866d-12fe25d4a532','3126','946ac096-5c75-32b6-900f-3c66551ab94e',          '3127','e87fe51c-5d01-37dd-917a-ac91b80a2199','3128','0a967d9d-c5dd-3969-a50d-4428ffbad7d4',\n",
    "          '3129','d3c9d61c-1d46-3e0a-89a9-2aff362c09fb','3130','565b5348-ece9-3cd8-bd7e-1f6864a28289',          '3131','278c9be6-086c-3a29-b528-88b8a9238d25','3133','58e8e0af-5d3a-32d4-81b6-6c8d7ea91475',          '3134','e9c99c80-f79d-32d6-bfc8-54b9c8ce9605','3132','b21f3d4c-8429-397b-a773-c5e850705008',          '3135','4c530d1e-4997-37b5-9dec-c810836c78a4','3136','eb0ad6f3-143b-382d-8850-b938334d5dee',\n",
    "          '3137','7aeb3dfb-e659-3fd8-8cfd-aa6a114cee02','3138','8eaa7ae7-2f1b-3ec4-a2f2-8a21f622e550',          '3139','1f281d5e-d82d-31b6-938c-34e0129c138a','3140','8aa9a1af-e9e0-39b8-9dd0-0147fc3e095b',          '3141','be3a8e70-2722-302e-ad2a-69d74863d44b','3142','b5dccf0b-86f2-3c02-87a6-5f7834957b34',          '3143','b9da40a7-8ee6-32c4-a3a2-bdfc91b269ec','3144','e149328d-d4ae-37f4-8bf0-357fddad718d',\n",
    "          '3145','c52ce7ff-15bc-37c0-b5ce-c5c19ae552db','3146','40f4bb48-e0af-32f7-b48d-e4016f52d912',          '3147','0a589a7d-f4cd-3eb5-bea1-0bd42dd0f107',          '3148','2bc12753-c469-3121-ab01-cc224064b81f','3149','969cfa6c-c5bb-3ce8-970e-4bf2fd279d66',          '3150','68634b51-0c55-3d43-b0eb-6553140a6572','3151','bc1941e9-4ac9-358f-9c2c-ae09c7b2ddbd',\n",
    "          '3152','897337e9-5cc4-3e1d-b62e-6a5a696f7bbf','3153','40cf2f37-51f5-3066-b248-f32d1f6256b6',          '3154','85c582ce-ea47-3a0c-975e-1d4921a3ecae','3155','8d9a4db6-4769-382f-9acc-41a3f7916746',          '3156','4eb58fe4-452f-3c98-aa43-9b5384ca448a','3157','507931ad-e283-3ee2-a173-ce37a3b09877',          '3158','f4f201c1-8224-3b09-8884-be5ba9de7c13','3159','f85220b4-80b7-3482-a5c7-48a450691060',\n",
    "          '3160','2dc79999-bcdc-3545-b095-7189ab110aee','3161','a76a9573-dcc2-35a6-91a1-e3e8d7e26f59',          '3162','b9f69412-4451-3494-899f-1b4e391c5d30', '3163','fb6d63e0-c0e4-351b-b496-96d1d5ecf2ef',          '3164','6cc79dec-86b7-326f-8014-53d3dc64fad8','3165','2bab39b1-2833-3c21-a296-488d4e0e1c1f',          '3166','19e0f55c-a224-3a31-9a92-59de3574f8fb','3167','40d34ca7-cdf0-39d6-889a-f66fd41fda94',\n",
    "          '3168','2053bad6-739f-3ede-8f77-ccb51739d122','3169','8b6dcb23-fc7e-355d-b86d-6cf08a556706',          '3170','4e777422-0b3b-31ac-bb30-4f4764423c1a','3171','d5bd7686-2445-30d5-be50-609708d58612']\n",
    "\n",
    "def get_feature_sequence(df,K=5):\n",
    "    df  = df.sort_values('time').reset_index(drop=True)\n",
    "    user_id = df.user.values[0]\n",
    "    all_data = []\n",
    "    if df.shape[0]<=K:\n",
    "        return pd.DataFrame([],columns=['static_features','feature_final',\n",
    "                                        'stress_episode','quit_episode',\n",
    "                                        'activity_episode','smoking_episode',\n",
    "                                        'user','label','day','time','start_time',\n",
    "                                        'end_time','weekend_encoded'])\n",
    "    visit_data = pd.read_csv(data_directory+'SmokingSpotVisitationHistory/'+user_id+'_SmokingSpot_Visitation_History.csv')\n",
    "    visit_data['Duration_of_stay'] = visit_data['Duration_of_stay (minutes)'].apply(lambda a:a)\n",
    "    visit_data['Arrival_Time'] = visit_data['Arrival_UTimestamp'].apply(lambda a:datetime.fromtimestamp(a/1000))\n",
    "    visit_data['Departure_Time'] = visit_data['Departure_UTimestamp'].apply(lambda a:datetime.fromtimestamp(a/1000))    \n",
    "    smoking_visit_data = visit_data[(visit_data.Study_Day<=4)&(visit_data.Semantic.isin(['Alcohol','Smoke']))]\n",
    "    visit_freq = smoking_visit_data.shape[0]\n",
    "    visit_duration_mean = smoking_visit_data.Duration_of_stay.mean()\n",
    "    visit_duration_std = smoking_visit_data.Duration_of_stay.std()\n",
    "    stress_episode_data_user = stress_episode_data[(stress_episode_data.user==user_id)&(stress_episode_data.stress_episode_label=='STRESS')]\n",
    "    no_unique_days = len(stress_episode_data_user.day.unique())\n",
    "    stress_avg_density_per_day = stress_episode_data_user.stress_density.mean()\n",
    "    stress_avg_duration_per_day = stress_episode_data_user.stress_duration.mean()\n",
    "    stress_std_duration = stress_episode_data_user.stress_duration.std()\n",
    "    stress_std_density = stress_episode_data_user.stress_density.std()\n",
    "    stress_count_per_day = stress_episode_data_user.shape[0]/no_unique_days\n",
    "    activity_data_user = activity_data[(activity_data.user==user_id)&(activity_data.episode_label=='NON STATIONERY')]\n",
    "    no_unique_days = len(activity_data_user.day.unique())\n",
    "    activity_avg_duration_per_day = activity_data_user.episode_duration.mean()\n",
    "    activity_std_duration = activity_data_user.episode_duration.std()\n",
    "    activity_count_per_day = activity_data_user.shape[0]/no_unique_days\n",
    "    if np.isnan(visit_freq) or visit_freq==0:\n",
    "        visit_freq = 0\n",
    "        visit_duration_mean = 0\n",
    "    phenotyping_features = [visit_freq,\n",
    "                            visit_duration_mean,\n",
    "                            stress_avg_density_per_day,\n",
    "                            stress_avg_duration_per_day,\n",
    "                            stress_count_per_day,\n",
    "                            activity_avg_duration_per_day,\n",
    "                            activity_count_per_day]\n",
    "\n",
    "    for i in range(K-1,df.shape[0],1):\n",
    "        row = df.iloc[i]\n",
    "        feature_final = np.concatenate(list(df['feature_final'].iloc[i-K+1:i+1])).reshape(1,K,-1)\n",
    "        static_features = np.array(phenotyping_features+list(df['static_features'].iloc[i].reshape(-1))).reshape(1,-1)\n",
    "        stress_episode = df['stress_episode'].iloc[i]\n",
    "        quit_episode = df['quit_episode'].iloc[i]\n",
    "        activity_episode = df['activity_episode'].iloc[i]\n",
    "        smoking_episode = df['smoking_episode'].iloc[i]\n",
    "        label = df['Label'].iloc[i]\n",
    "        day = df['day'].iloc[i]\n",
    "        time = df['time'].iloc[i]\n",
    "        start_time = df['start_time'].iloc[i-K+1]\n",
    "        end_time = df['end_time'].iloc[i]\n",
    "        weekday_encoded = np.array(df['weekday_encoded'].iloc[i])\n",
    "        all_data.append([feature_final,static_features,\n",
    "                         stress_episode,quit_episode,\n",
    "                         activity_episode,smoking_episode,\n",
    "                         user_id,label,\n",
    "                         day,time,start_time,end_time,weekday_encoded])\n",
    "    return pd.DataFrame(all_data,\n",
    "                        columns=['feature_final',\n",
    "                                 'static_features',\n",
    "                                 'stress_episode','quit_episode',\n",
    "                                 'activity_episode','smoking_episode',\n",
    "                                 'user','label','day',\n",
    "                                 'time','start_time',\n",
    "                                 'end_time','weekday_encoded'])\n",
    "\n",
    "def standardize(data,features):\n",
    "    for c in features:\n",
    "        X_feature_final = np.concatenate(data[c].values)\n",
    "        y_user = data['user'].values\n",
    "        X_feature_final_standardized = X_feature_final.copy()\n",
    "        for u in np.unique(y_user):\n",
    "            index = np.where(y_user==u)[0]\n",
    "            X_feature_final_standardized[index] = StandardScaler().fit_transform(X_feature_final[index])\n",
    "        data[c] = [np.array(a).reshape(1,-1) for a in list(X_feature_final_standardized)]\n",
    "    return data\n",
    "\n",
    "def fix_timestamp(a):\n",
    "    start_daylight = pd.Timestamp(a.year,3,14,0,0,0)\n",
    "    end_daylight = pd.Timestamp(a.year,11,7,0,0,0)\n",
    "    if start_daylight<=a<=end_daylight:\n",
    "        return a+timedelta(hours=1)\n",
    "    return a"
   ]
  },
  {
   "cell_type": "code",
   "execution_count": 14,
   "id": "thousand-volume",
   "metadata": {},
   "outputs": [
    {
     "name": "stdout",
     "output_type": "stream",
     "text": [
      "No. of unique users (59,)\n",
      "ddhi feature shape (1, 68)\n"
     ]
    },
    {
     "name": "stderr",
     "output_type": "stream",
     "text": [
      "[Parallel(n_jobs=-1)]: Using backend LokyBackend with 24 concurrent workers.\n",
      "[Parallel(n_jobs=-1)]: Done  42 out of  59 | elapsed:    6.0s remaining:    2.4s\n",
      "[Parallel(n_jobs=-1)]: Done  59 out of  59 | elapsed:    8.9s finished\n"
     ]
    },
    {
     "name": "stdout",
     "output_type": "stream",
     "text": [
      "(58, 9)\n",
      "[0 1 2 3 4 6 8]\n",
      "Counter({0: 23, 2: 15, 1: 14, 3: 6})\n"
     ]
    },
    {
     "data": {
      "image/png": "[encoded data removed]",
      "text/plain": [
       "<Figure size 432x288 with 1 Axes>"
      ]
     },
     "metadata": {
      "needs_background": "light"
     },
     "output_type": "display_data"
    },
    {
     "name": "stdout",
     "output_type": "stream",
     "text": [
      "(1, 7)\n"
     ]
    }
   ],
   "source": [
    "obs = 30\n",
    "K = 15\n",
    "n_clusterss = [4]\n",
    "data_directory = '../data/mRisk/'\n",
    "model_name = 'ddhi' #'dres'\n",
    "data = pickle.load(open('../data/parsed_data/episode_encoded_{}_prediction_60_final.p'.format(obs),'rb'))\n",
    "data = data[data.stress_seen_so_far==1]\n",
    "print(\"No. of unique users\", data.user.unique().shape)\n",
    "data['time_of_day_encoded'] = list(np.array(OneHotEncoder().fit_transform(data['time_of_day'].values.reshape(-1,1)).todense()))\n",
    "data['time_of_day_encoded'] = data['time_of_day_encoded'].apply(lambda a:list(a))\n",
    "data['weekday'] = data['static_features'].apply(lambda a:a[0])\n",
    "data['weekday_encoded'] = list(np.array(OneHotEncoder().fit_transform(data['weekday'].values.reshape(-1,1)).todense()))\n",
    "data['weekday_encoded'] = data['weekday_encoded'].apply(lambda a:list(a))\n",
    "data['gender'] = data['static_features'].apply(lambda a:a[1])\n",
    "gender_clf = OneHotEncoder()\n",
    "gender_clf.fit(data['gender'].values.reshape(-1,1))\n",
    "data['gender_encoded'] = list(np.array(gender_clf.transform(data['gender'].values.reshape(-1,1)).todense()))\n",
    "data['gender_encoded'] = data['gender_encoded'].apply(lambda a:list(a))\n",
    "if model_name == 'dres':\n",
    "    data['feature_final'] = data.apply(lambda a:np.array(list(a['feature'])+list(a['daily'])+list(a['stress'])+list(a['activity'])+list(a['smoking_event_features'])+[a['gender_encoded'][0],a['static_features'][-1]]+\n",
    "                                                        list(a['location_features'])+list(a['time_of_day_encoded'])).reshape(1,-1),axis=1)\n",
    "else:\n",
    "    data['feature_final'] = data.apply(lambda a:np.array(list(a['feature'])+list(a['daily'])+\n",
    "                                                        list(a['location_features'])+list(a['time_of_day_encoded'])).reshape(1,-1),axis=1)\n",
    "data['static_features'] = data.apply(lambda a:np.array([\n",
    "                                                        a['static_features'][-1],a['gender_encoded'][0]\n",
    "                                                    ]).reshape(1,-1),\n",
    "                                    axis=1)\n",
    "print(model_name, 'feature shape',data['feature_final'].values[0].shape)\n",
    "data = standardize(data,['feature_final'])\n",
    "data['stress_episode'] = data['stress_episode'].apply(lambda a:a.reshape(1,*a.shape))\n",
    "data['quit_episode'] = data['quit_episode'].apply(lambda a:a.reshape(1,1,*a.shape))\n",
    "data['activity_episode'] = data['activity_episode'].apply(lambda a:a.reshape(1,*a.shape))\n",
    "data['smoking_episode'] = data['smoking_episode'].apply(lambda a:a.reshape(1,1,*a.shape))\n",
    "user_dict_reverse = {user_indices[i]:user_indices[i+1] for i in range(0,len(user_indices)-1,2)}\n",
    "user_dict = {user_indices[i+1]:user_indices[i] for i in range(0,len(user_indices)-1,2)}\n",
    "\n",
    "activity_data = pickle.load(open(data_directory+'/activity_episode/activity_episode_data_rice_1st_version_v1.p','rb'))\n",
    "activity_data['start'] = activity_data['start'].apply(lambda a:fix_timestamp(a))\n",
    "activity_data['end'] = activity_data['end'].apply(lambda a:fix_timestamp(a))\n",
    "activity_data['user'] = activity_data['user'].apply(lambda a:user_dict[a] if a in user_dict else a)\n",
    "\n",
    "stress_episode_data = pickle.load(open(data_directory+'stress_episode/stress_episode_rice_1st_version.p','rb'))\n",
    "stress_episode_data['start'] = stress_episode_data['start'].apply(lambda a:fix_timestamp(a))\n",
    "stress_episode_data['end'] = stress_episode_data['end'].apply(lambda a:fix_timestamp(a))\n",
    "stress_episode_data['user'] = stress_episode_data['user'].apply(lambda a:user_dict[a] if a in user_dict else a)\n",
    "\n",
    "for n_clusters in n_clusterss:\n",
    "    df_seq = pd.concat(Parallel(n_jobs=-1,verbose=2)(delayed(get_feature_sequence)(df,K=K) for i,df in data.groupby('user',as_index=False)))\n",
    "    features = []\n",
    "    users = []\n",
    "    for user in df_seq.user.unique():\n",
    "        features.append(df_seq[df_seq.user==user].static_features.values[0])\n",
    "        users.append(user)\n",
    "    phenotype_features = np.concatenate(features)\n",
    "    features_raw = phenotype_features.copy()\n",
    "    from sklearn.preprocessing import MinMaxScaler, RobustScaler, StandardScaler\n",
    "    phenotype_features = MinMaxScaler().fit_transform(phenotype_features)\n",
    "    print(phenotype_features.shape)\n",
    "    X = phenotype_features\n",
    "    from sklearn.cluster import AgglomerativeClustering\n",
    "    index = list(np.arange(X.shape[1]))\n",
    "    xx = []\n",
    "    yy = []\n",
    "    \n",
    "    while len(index)>1:\n",
    "        x = []\n",
    "        y = []\n",
    "        for i in index:\n",
    "            index_now = [j for j in index if j!=i]\n",
    "            cluseterer = AgglomerativeClustering(n_clusters=n_clusters).fit(X[:,np.array(index_now)])\n",
    "            try:\n",
    "                y.append(silhouette_score(X[:,np.array(index_now)],cluseterer.labels_))\n",
    "                x.append(i)\n",
    "            except:\n",
    "                y.append(0)\n",
    "                x.append(i)\n",
    "\n",
    "        i = x[np.argmax(y)]\n",
    "        # print(i,np.max(y))\n",
    "        xx.append(str(i))\n",
    "        yy.append(np.max(y))\n",
    "        index = [j for j in index if j!=i]\n",
    "    # plt.figure()\n",
    "    # plt.plot(xx,yy,'*')\n",
    "    # plt.show()\n",
    "    index_of_features_remove = []\n",
    "    for i,element in enumerate(yy):\n",
    "        if i>0 and element<yy[i-1]:\n",
    "            break\n",
    "        if (i>0 and element-yy[i-1]>.1):\n",
    "            index_of_features_remove.append(int(xx[i]))\n",
    "            break\n",
    "        elif element>.3:\n",
    "            index_of_features_remove.append(int(xx[i]))\n",
    "            break\n",
    "        index_of_features_remove.append(int(xx[i]))\n",
    "    index_of_features_kept= np.array([i for i in np.arange(X.shape[1]) if i not in index_of_features_remove])\n",
    "    print(index_of_features_kept)\n",
    "    cluseterer = AgglomerativeClustering(n_clusters=n_clusters).fit(PCA(n_components=2).fit_transform(phenotype_features[:,index_of_features_kept]))\n",
    "        # phenotype_features[:,index_of_features_kept])\n",
    "    y = cluseterer.labels_\n",
    "    print(Counter(y))\n",
    "    xx = phenotype_features[y>-1]\n",
    "    pca = PCA(n_components=2).fit_transform(xx[:,index_of_features_kept])\n",
    "    plt.figure()\n",
    "    plt.scatter(pca[:,0],pca[:,1],c=y[y>-1])\n",
    "    plt.xlabel('PCA 1st component')\n",
    "    plt.ylabel('PCA 2nd component')\n",
    "#     plt.colorbar()\n",
    "    plt.show()\n",
    "    cluster_dict = {a:y[i] for i,a in enumerate(users)}\n",
    "    xxx = xx[:,index_of_features_kept]\n",
    "    features_raw = features_raw[:,index_of_features_kept]\n",
    "    cluster_features = {a:list(xxx[y==y[i],:].mean(axis=0)) for i,a in enumerate(users)}\n",
    "    df_seq['cluster_label'] = df_seq['user'].apply(lambda a:cluster_dict[a])\n",
    "    df_seq['static_features'] = df_seq.apply(lambda a:\n",
    "                                            np.array(list(cluster_features[a['user']])).reshape(1,-1),\n",
    "                                            axis=1)\n",
    "    print(df_seq.static_features.iloc[0].shape)\n",
    "    feature_names = ['visit_freq',\n",
    "                'visit_duration_mean',\n",
    "                'stress_avg_density_per_day',\n",
    "                'stress_avg_duration_per_day',\n",
    "                'stress_count_per_day',\n",
    "                'activity_avg_duration_per_day',\n",
    "                'activity_count_per_day',\n",
    "                'age',\n",
    "                'Gender']\n",
    "    feature_names_final = [[feature_names[i] for i in index_of_features_kept]]*df_seq.shape[0]\n",
    "    df_seq['feature_names'] = feature_names_final\n",
    "    if model_name=='dres':\n",
    "        pickle.dump(df_seq,open('../data/episode_encoded_lagged_data_without_episode/episode_encoded_'+'lagged_'+str(K)+'_obs_{}'.format(obs)+'_windows_cluster_{}'.format(n_clusters),'wb'))\n",
    "    else:\n",
    "        pickle.dump(df_seq,open('../data/episode_encoded_lagged_data_with_episode/episode_encoded_'+'lagged_'+str(K)+'_obs_{}'.format(obs)+'_windows_cluster_{}'.format(n_clusters),'wb'))"
   ]
  },
  {
   "cell_type": "code",
   "execution_count": 8,
   "id": "692e41d5",
   "metadata": {},
   "outputs": [
    {
     "data": {
      "text/plain": [
       "(59,)"
      ]
     },
     "execution_count": 8,
     "metadata": {},
     "output_type": "execute_result"
    }
   ],
   "source": [
    "# df_seq.groupby('user').count().sort_values('feature_final')\n",
    "data.user.unique().shape"
   ]
  },
  {
   "cell_type": "code",
   "execution_count": null,
   "id": "0957ace9",
   "metadata": {},
   "outputs": [],
   "source": [
    "import matplotlib as mpl\n",
    "mpl.rcParams.update(mpl.rcParamsDefault)\n",
    "plt.rcParams.update({'font.size':15})\n",
    "plt.figure()\n",
    "plt.scatter(pca[:,0],pca[:,1],c=y[y>-1])\n",
    "plt.xlabel('PCA Component \\n1st')\n",
    "plt.ylabel('PCA Component \\n2nd')\n",
    "ax = plt.gca()\n",
    "ax.spines['right'].set_visible(False)\n",
    "ax.spines['top'].set_visible(False)\n",
    "# plt.xticks([],[])\n",
    "# plt.yticks([],[])\n",
    "#     plt.colorbar()\n",
    "plt.tight_layout()\n",
    "plt.savefig('./data/images/cluster_pic_2_clusters.png')\n",
    "plt.show()"
   ]
  },
  {
   "cell_type": "code",
   "execution_count": null,
   "id": "2de7e445",
   "metadata": {},
   "outputs": [],
   "source": [
    "# xxx.shape,len(index_of_features_kept),\n",
    "\n",
    "df = pd.DataFrame(features_raw,columns=[feature_names[i] for i in index_of_features_kept])\n",
    "# df_seq.user.unique().shape\n",
    "#\n",
    "df['label'] = y\n",
    "\n",
    "\n",
    "# df.groupby('label').apply()\n",
    "\n",
    "df_seq.user.unique().shape\n",
    "\n",
    "df"
   ]
  },
  {
   "cell_type": "code",
   "execution_count": null,
   "id": "894650d4",
   "metadata": {},
   "outputs": [],
   "source": [
    "df_seq.head()"
   ]
  },
  {
   "cell_type": "code",
   "execution_count": null,
   "id": "646791ad",
   "metadata": {},
   "outputs": [],
   "source": [
    "\n",
    "\n",
    "# change = {3:3,2:1,1:2,0:0}\n",
    "# df['label'] = df['label'].apply(lambda a:change[a])\n",
    "df_seq[['label','user']].groupby(['user']).sum().values.reshape(-1)\n",
    "import matplotlib.pyplot as plt\n",
    "import seaborn as sns\n",
    "f_names = [feature_names[i] for i in index_of_features_kept]\n",
    "for f in f_names:\n",
    "    plt.figure(figsize=(10,5))\n",
    "    sns.boxplot(x='label',y=f,data=df,showfliers=False)\n",
    "    plt.title(f.capitalize())\n",
    "    plt.xlabel('Cluster')\n",
    "    plt.show()"
   ]
  },
  {
   "cell_type": "code",
   "execution_count": null,
   "id": "analyzed-stone",
   "metadata": {},
   "outputs": [],
   "source": [
    "from sklearn.ensemble import RandomForestClassifier\n",
    "from sklearn.tree import DecisionTreeClassifier"
   ]
  },
  {
   "cell_type": "code",
   "execution_count": null,
   "id": "62d46b00",
   "metadata": {},
   "outputs": [],
   "source": [
    "\n",
    "from sklearn.metrics import pairwise_distances\n",
    "# xxx = StandardScaler().fit_transform(xxx)"
   ]
  },
  {
   "cell_type": "code",
   "execution_count": null,
   "id": "5815a244",
   "metadata": {},
   "outputs": [],
   "source": [
    "data = []\n",
    "for c in np.arange(4):\n",
    "    r = pairwise_distances(xxx[y==c]).reshape(-1)\n",
    "    data.append(r[r>0])"
   ]
  },
  {
   "cell_type": "code",
   "execution_count": null,
   "id": "a897c446",
   "metadata": {},
   "outputs": [],
   "source": [
    "plt.rcParams.update({'font.size':20})\n",
    "plt.figure(figsize=(10,5))\n",
    "plt.boxplot(data)\n",
    "plt.ylabel('Pairwise Distance of \\ndatapoints within each cluster')\n",
    "plt.xticks(np.arange(1,5),['Cluster '+str(a) for a in np.arange(4)])\n",
    "plt.tight_layout()\n",
    "plt.savefig('./data/images/subtype_pairwise.png')\n",
    "plt.show()\n",
    "\n",
    "# data/"
   ]
  },
  {
   "cell_type": "code",
   "execution_count": null,
   "id": "9087eece",
   "metadata": {},
   "outputs": [],
   "source": [
    "# \n",
    "import shap\n",
    "clf = RandomForestClassifier()\n",
    "clf.fit(xxx,y)\n",
    "explainer = shap.TreeExplainer(clf)\n",
    "shap_values = explainer.shap_values(xxx)"
   ]
  },
  {
   "cell_type": "code",
   "execution_count": null,
   "id": "4777ee7b",
   "metadata": {},
   "outputs": [],
   "source": [
    "len(shap_values)"
   ]
  },
  {
   "cell_type": "code",
   "execution_count": null,
   "id": "26d38df5",
   "metadata": {},
   "outputs": [],
   "source": [
    "shap.summary_plot(shap_values, xxx, plot_type=\"bar\", class_names= ['Cluster - '+str(a) for a in range(4)], \n",
    "                  feature_names = [feature_names[i] for i in index_of_features_kept])"
   ]
  },
  {
   "cell_type": "code",
   "execution_count": null,
   "id": "c655b5ca",
   "metadata": {},
   "outputs": [],
   "source": [
    "# from catboost import CatBoostClassifier\n",
    "plt.rcParams.update({'font.size':20})\n",
    "plt.figure(figsize=(20,10))\n",
    "plt.bar(f_names,clf.feature_importances_)\n",
    "plt.xticks(rotation=60)\n",
    "plt.ylabel('Random Forest Feature Importance')\n",
    "plt.show()"
   ]
  },
  {
   "cell_type": "code",
   "execution_count": null,
   "id": "d44623bc",
   "metadata": {},
   "outputs": [],
   "source": [
    "df.groupby('label').mean()"
   ]
  },
  {
   "cell_type": "code",
   "execution_count": null,
   "id": "54df7277",
   "metadata": {},
   "outputs": [],
   "source": [
    "model.fit(xxx,y)"
   ]
  },
  {
   "cell_type": "code",
   "execution_count": null,
   "id": "56f5d9f0",
   "metadata": {},
   "outputs": [],
   "source": [
    "import catboost\n",
    "abc = model.get_feature_importance(type=catboost.EFstrType.ShapInteractionValues, prettified=True, thread_count=-1, verbose=False)"
   ]
  },
  {
   "cell_type": "code",
   "execution_count": null,
   "id": "d0c5439d",
   "metadata": {},
   "outputs": [],
   "source": [
    "abc"
   ]
  },
  {
   "cell_type": "code",
   "execution_count": null,
   "id": "6154cd12",
   "metadata": {},
   "outputs": [],
   "source": [
    "for label in np.unique(y):\n",
    "    clf = RandomForestClassifier()\n",
    "    y1 = np.array([0]*y.shape[0])\n",
    "    y1[y==label] = 1\n",
    "    clf.fit(xxx,y1)\n",
    "    plt.figure(figsize=(20,10))\n",
    "    plt.bar([feature_names[i] for i in index_of_features_kept],clf.feature_importances_)\n",
    "    plt.title(label)\n",
    "    plt.show()\n"
   ]
  },
  {
   "cell_type": "code",
   "execution_count": null,
   "id": "40005a2d",
   "metadata": {},
   "outputs": [],
   "source": [
    "[feature_names[i] for i in index_of_features_kept],index_of_features_kept"
   ]
  },
  {
   "cell_type": "code",
   "execution_count": null,
   "id": "tribal-avenue",
   "metadata": {},
   "outputs": [],
   "source": [
    "features = []\n",
    "for user in df_seq.user.unique():\n",
    "#     print(df_seq[df_seq.user==user].static_features.values[10])\n",
    "    features.append(df_seq[df_seq.user==user].static_features.values[0])\n",
    "#     np.concatenate(df_seq.static_features.values)\n",
    "phenotype_features = np.concatenate(features)\n",
    "from sklearn.decomposition import PCA\n",
    "from sklearn.manifold import TSNE\n",
    "from sklearn.cluster import OPTICS,DBSCAN,KMeans\n",
    "from sklearn.metrics import silhouette_score"
   ]
  },
  {
   "cell_type": "code",
   "execution_count": null,
   "id": "viral-continuity",
   "metadata": {},
   "outputs": [],
   "source": [
    "X = phenotype_features\n",
    "index = list(np.arange(X.shape[1]))\n",
    "xx = []\n",
    "yy = []\n",
    "while len(index)>1:\n",
    "    x = []\n",
    "    y = []\n",
    "    for i in index:\n",
    "        index_now = [j for j in index if j!=i]\n",
    "    #     x_pca = PCA(n_components=2).fit_transform(X[:,np.array(index_now)])\n",
    "        cluseterer = OPTICS(min_samples=3).fit(X[:,np.array(index_now)])\n",
    "#         cluseterer = KMeans(n_clusters=5).fit(X[:,np.array(index_now)])\n",
    "        try:\n",
    "            y.append(silhouette_score(X[:,np.array(index_now)],cluseterer.labels_))\n",
    "            x.append(i)\n",
    "        except:\n",
    "            y.append(0)\n",
    "            x.append(i)\n",
    "        \n",
    "    i = x[np.argmax(y)]\n",
    "    print(i,np.max(y))\n",
    "    xx.append(str(i))\n",
    "    yy.append(np.max(y))\n",
    "    index = [j for j in index if j!=i]\n",
    "#     plt.figure(figsize=(20,10))\n",
    "#     plt.scatter(x_pca[:,0],x_pca[:,1])\n",
    "#     plt.show()\n",
    "plt.figure()\n",
    "plt.plot(xx,yy,'*')\n",
    "plt.show()\n",
    "index_of_features_remove = []\n",
    "for i,element in enumerate(yy):\n",
    "    if i>0 and element<yy[i-1]:\n",
    "        break\n",
    "    if (i>0 and element-yy[i-1]>.1):\n",
    "        index_of_features_remove.append(int(xx[i]))\n",
    "        break\n",
    "    elif element>.3:\n",
    "        index_of_features_remove.append(int(xx[i]))\n",
    "        break\n",
    "    index_of_features_remove.append(int(xx[i]))\n",
    "index_of_features_kept= np.array([i for i in np.arange(X.shape[1]) if i not in index_of_features_remove])\n",
    "print(index_of_features_kept)\n",
    "# cluseterer = OPTICS(min_samples=4).fit(phenotype_features[:,index_of_features_kept])\n",
    "cluseterer = AgglomerativeClustering(n_clusters=5).fit(phenotype_features[:,index_of_features_kept])\n",
    "y = cluseterer.labels_\n",
    "xx = phenotype_features[y>-1]\n",
    "pca = TSNE(n_components=2,perplexity=5).fit_transform(xx[:,index_of_features_kept])\n",
    "plt.scatter(pca[:,0],pca[:,1],c=y[y>-1])\n",
    "plt.colorbar()\n",
    "plt.show()\n",
    "Counter(cluseterer.labels_)"
   ]
  },
  {
   "cell_type": "code",
   "execution_count": null,
   "id": "nonprofit-accident",
   "metadata": {},
   "outputs": [],
   "source": [
    "pickle.dump(df,open('./data/saved_result/cluster.p','wb'))\n"
   ]
  },
  {
   "cell_type": "code",
   "execution_count": null,
   "id": "exact-alexander",
   "metadata": {},
   "outputs": [],
   "source": []
  },
  {
   "cell_type": "code",
   "execution_count": null,
   "id": "fourth-parish",
   "metadata": {},
   "outputs": [],
   "source": []
  },
  {
   "cell_type": "code",
   "execution_count": null,
   "id": "personalized-radical",
   "metadata": {},
   "outputs": [],
   "source": []
  },
  {
   "cell_type": "code",
   "execution_count": null,
   "id": "seven-model",
   "metadata": {},
   "outputs": [],
   "source": []
  },
  {
   "cell_type": "code",
   "execution_count": null,
   "id": "systematic-object",
   "metadata": {},
   "outputs": [],
   "source": [
    "# data = pickle.load(open('./data/episode_encoded_lagged_data/episode_encoded_lagged_10_windows_standardized.p','rb'))\n",
    "# data = pickle.load(open('./data/parsed_data/episode_encoded_30_prediction_60_new.p','rb'))"
   ]
  },
  {
   "cell_type": "code",
   "execution_count": null,
   "id": "killing-hawaiian",
   "metadata": {},
   "outputs": [],
   "source": [
    "# data.columns"
   ]
  },
  {
   "cell_type": "code",
   "execution_count": null,
   "id": "seventh-cancellation",
   "metadata": {},
   "outputs": [],
   "source": [
    "stress_episode_data.head()"
   ]
  },
  {
   "cell_type": "code",
   "execution_count": null,
   "id": "legitimate-philadelphia",
   "metadata": {},
   "outputs": [],
   "source": [
    "%config Completer.use_jedi = False"
   ]
  },
  {
   "cell_type": "code",
   "execution_count": null,
   "id": "skilled-robin",
   "metadata": {},
   "outputs": [],
   "source": []
  }
 ],
 "metadata": {
  "interpreter": {
   "hash": "51b244ab9aca612e739a0539ae1af887c58db9e180d786deb0ab1761def69c1f"
  },
  "kernelspec": {
   "display_name": "Python 3.8.5 64-bit ('test1': conda)",
   "name": "python3"
  },
  "language_info": {
   "codemirror_mode": {
    "name": "ipython",
    "version": 3
   },
   "file_extension": ".py",
   "mimetype": "text/x-python",
   "name": "python",
   "nbconvert_exporter": "python",
   "pygments_lexer": "ipython3",
   "version": "3.8.5"
  }
 },
 "nbformat": 4,
 "nbformat_minor": 5
}
