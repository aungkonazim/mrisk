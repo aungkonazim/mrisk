{
 "cells": [
  {
   "cell_type": "code",
   "execution_count": 24,
   "metadata": {},
   "outputs": [
    {
     "name": "stdout",
     "output_type": "stream",
     "text": [
      "4 Physical GPUs, 1 Logical GPU\n"
     ]
    }
   ],
   "source": [
    "from datetime import datetime,timedelta\n",
    "from scipy.stats import iqr,skew,kurtosis,mode\n",
    "from joblib import Parallel,delayed\n",
    "import zipfile\n",
    "import shutil\n",
    "from sklearn.feature_selection import SelectKBest,f_classif\n",
    "from sklearn.decomposition import PCA\n",
    "from pprint import pprint\n",
    "from sklearn.metrics import f1_score,r2_score,classification_report\n",
    "from sklearn.model_selection import ParameterGrid\n",
    "from sklearn.ensemble import RandomForestClassifier,AdaBoostClassifier,RandomForestRegressor\n",
    "from sklearn.svm import SVC\n",
    "from sklearn.pipeline import Pipeline\n",
    "from sklearn.decomposition import PCA\n",
    "from sklearn.metrics import confusion_matrix,f1_score,precision_score,recall_score,accuracy_score\n",
    "import itertools\n",
    "from sklearn.model_selection import ParameterGrid, cross_val_predict, GroupKFold,GridSearchCV,StratifiedKFold\n",
    "from sklearn import preprocessing\n",
    "from sklearn.tree import DecisionTreeClassifier\n",
    "from sklearn.linear_model import LogisticRegression\n",
    "from collections import Counter\n",
    "from sklearn import preprocessing\n",
    "import tensorflow as tf\n",
    "import numpy as np\n",
    "seed = 100\n",
    "tf.random.set_seed(seed)\n",
    "np.random.seed(seed)\n",
    "import os\n",
    "import pandas as pd\n",
    "import pickle\n",
    "from tensorflow import keras\n",
    "from tensorflow.keras import backend as K\n",
    "import matplotlib.pyplot as plt\n",
    "from tensorflow.keras.callbacks import ModelCheckpoint,EarlyStopping\n",
    "from sklearn.model_selection import train_test_split,LeavePGroupsOut\n",
    "from keras.backend import expand_dims, repeat_elements\n",
    "from keras.layers import Lambda\n",
    "from tensorflow.keras.layers import Conv1D,BatchNormalization,Dropout,InputLayer,MaxPooling1D,Flatten,RepeatVector,Dense,Input,Activation,GRU,Bidirectional,LSTM\n",
    "from tensorflow.keras.models import Model, Sequential\n",
    "from sklearn.metrics import accuracy_score\n",
    "import tensorflow_addons as tfa\n",
    "import warnings\n",
    "warnings.filterwarnings('ignore')\n",
    "gpus = tf.config.experimental.list_physical_devices('GPU')\n",
    "if gpus:\n",
    "  # Restrict TensorFlow to only use the first GPU\n",
    "    try:\n",
    "        tf.config.experimental.set_visible_devices(gpus[2], 'GPU')\n",
    "        logical_gpus = tf.config.experimental.list_logical_devices('GPU')\n",
    "        print(len(gpus), \"Physical GPUs,\", len(logical_gpus), \"Logical GPU\")\n",
    "    except RuntimeError as e:\n",
    "        # Visible devices must be set before GPUs have been initialized\n",
    "        print(e)"
   ]
  },
  {
   "cell_type": "code",
   "execution_count": null,
   "metadata": {},
   "outputs": [],
   "source": []
  },
  {
   "cell_type": "code",
   "execution_count": 4,
   "metadata": {},
   "outputs": [],
   "source": [
    "def get_X_y_groups(n_lag=10):\n",
    "    data = pickle.load(open('./data/episode_encoded_lagged_data/episode_encoded_lagged_'+str(n_lag)+'_windows_standardized_phenotype.p','rb'))\n",
    "\n",
    "    X_feature = np.concatenate(data.feature_final.values)\n",
    "    X_static =  np.concatenate(data.static_features.values)\n",
    "\n",
    "    X_stress_episode = np.concatenate(data.stress_episode.values)\n",
    "    X_quit_episode = np.concatenate(data.quit_episode.values)\n",
    "    X_activity_episode = np.concatenate(data.activity_episode.values)\n",
    "    X_smoking_episode = np.concatenate(data.smoking_episode.values)\n",
    "\n",
    "    y_time = data['time'].values\n",
    "    y = data['label'].values\n",
    "    groups = data['user'].values\n",
    "    \n",
    "    return X_feature,X_static,X_stress_episode,X_quit_episode,X_activity_episode,X_smoking_episode,y_time,y,groups\n",
    "\n",
    "\n",
    "def get_train_test_indexes(groups,n_groups_split = 10,n_val_groups = 10):\n",
    "    groups_unique = np.unique(groups)\n",
    "    groups_split = np.array_split(groups_unique,n_groups_split)\n",
    "    indexes = []\n",
    "    for this_groups in groups_split:\n",
    "        train_groups = np.array([a for a in groups_unique if a not in this_groups])\n",
    "        val_groups = np.random.choice(train_groups,n_val_groups)\n",
    "        train_groups = np.array([a for a in groups_unique if a not in list(this_groups)+list(val_groups)])\n",
    "        test_groups = this_groups\n",
    "        train_index,test_index = np.array([i for i,a in enumerate(groups) \n",
    "                                           if a in train_groups]),np.array([i for i,a in enumerate(groups) \n",
    "                                                                               if a in test_groups])\n",
    "        val_index = np.array([i for i,a in enumerate(groups) \n",
    "                                           if a in val_groups])\n",
    "        indexes.append([train_index,test_index,val_index])\n",
    "    return indexes\n",
    "\n",
    "\n",
    "from sklearn import metrics\n",
    "def f1Bias_scorer_CV(probs, y, ret_bias=True):\n",
    "    precision, recall, thresholds = metrics.precision_recall_curve(y, probs)\n",
    "\n",
    "    f1,bias = 0.0,.5\n",
    "    min_recall = .7\n",
    "    for i in range(0, len(thresholds)):\n",
    "        if not (precision[i] == 0 and recall[i] == 0) and recall[i]>min_recall:\n",
    "            f = 2 * (precision[i] * recall[i]) / (precision[i] + recall[i])\n",
    "            if f > f1:\n",
    "                f1 = f\n",
    "                bias = thresholds[i]\n",
    "\n",
    "    if ret_bias:\n",
    "        return f1, bias\n",
    "    else:\n",
    "        return f1\n",
    "\n",
    "\n",
    "def get_model():\n",
    "    n_t,n_f = train_feature.shape[1],train_feature.shape[2]\n",
    "    print(n_t,n_f)\n",
    "    x_input = Input(shape=(n_t,n_f))\n",
    "    x_feature = Conv1D(100,1,activation='linear')(x_input)\n",
    "    x_feature = Conv1D(100,1,activation='tanh')(x_feature)\n",
    "    x_feature = Dropout(.2)(x_feature)\n",
    "    x_feature = LSTM(20,activation='tanh',return_sequences=False)(x_feature)\n",
    "    x_feature = Dropout(.3)(x_feature)\n",
    "    x_feature = Flatten()(x_feature)\n",
    "    x_feature = Dense(10,activation='relu')(x_feature)\n",
    "    # x_final = Dense(1,activation='sigmoid')(x_feature)\n",
    "\n",
    "    n_sf = train_static.shape[1]\n",
    "    x_input_static = Input(shape=(n_sf))\n",
    "    x_static = Dense(10,activation='relu')(x_input_static)\n",
    "    x_static = Dense(10,activation='relu')(x_static)\n",
    "    n_timesteps = train_stress.shape[-2]\n",
    "    n_episodes_stress,n_episodes_quit,n_episodes_activity,n_episodes_smoking = train_stress.shape[1],train_quit.shape[1],train_activity.shape[1],train_smoking.shape[1]\n",
    "    x_alpha_stress = Dense(1,activation='sigmoid',name='alpha_stress')(x_static)\n",
    "    x_alpha_stress = RepeatVector(n_timesteps)(x_alpha_stress)\n",
    "    x_alpha_stress = Lambda(lambda x: repeat_elements(expand_dims(x, axis=1), n_episodes_stress, 1))(x_alpha_stress)\n",
    "    x_alpha_quit = Dense(1,activation='sigmoid',name='alpha_quit')(x_static)\n",
    "    x_alpha_quit = RepeatVector(n_timesteps)(x_alpha_quit)\n",
    "    x_alpha_quit = Lambda(lambda x: repeat_elements(expand_dims(x, axis=1), n_episodes_quit, 1))(x_alpha_quit)\n",
    "    x_alpha_activity = Dense(1,activation='sigmoid',name='alpha_activity')(x_static)\n",
    "    x_alpha_activity = RepeatVector(n_timesteps)(x_alpha_activity)\n",
    "    x_alpha_activity = Lambda(lambda x: repeat_elements(expand_dims(x, axis=1), n_episodes_activity, 1))(x_alpha_activity)\n",
    "    x_alpha_smoking = Dense(1,activation='sigmoid',name='alpha_smoking')(x_static)\n",
    "    x_alpha_smoking = RepeatVector(n_timesteps)(x_alpha_smoking)\n",
    "    x_alpha_smoking = Lambda(lambda x: repeat_elements(expand_dims(x, axis=1), n_episodes_smoking, 1))(x_alpha_smoking)\n",
    "\n",
    "    n_dim = 3\n",
    "    x_stress = Input(shape=(n_episodes_stress,n_timesteps,n_dim))\n",
    "    stress_alpha_time = tf.math.multiply(x_alpha_stress[:,:,:,0]*-1,x_stress[:,:,:,0])\n",
    "    stress_alpha_time_exp = tf.math.exp(stress_alpha_time)\n",
    "\n",
    "    x_stress_amplitude = x_stress[:,:,:,1]\n",
    "    stress_amplitude_coeff = Dense(1,activation='sigmoid',name='amplitude_stress')(x_static)\n",
    "    stress_amplitude_coeff = Lambda(lambda x: expand_dims(x, axis=2))(stress_amplitude_coeff)\n",
    "    print(stress_amplitude_coeff.shape,'coeff',x_stress_amplitude.shape,'amplitude')\n",
    "    x_stress_amplitude = tf.math.multiply(x_stress_amplitude,stress_amplitude_coeff)\n",
    "#     print(x_stress_amplitude.shape,'final')\n",
    "    \n",
    "    x_stress_duration = x_stress[:,:,:,2]\n",
    "    stress_duration_coeff = Dense(1,activation='sigmoid',name='duration_stress')(x_static)\n",
    "    stress_duration_coeff = Lambda(lambda x: expand_dims(x, axis=2))(stress_duration_coeff)\n",
    "    x_stress_duration = tf.math.multiply(x_stress_duration,stress_duration_coeff)\n",
    "    \n",
    "    x_stress_all = tf.math.add(x_stress_amplitude,x_stress_duration)\n",
    "    \n",
    "#     print(x_stress_all.shape,stress_alpha_time_exp.shape)\n",
    "    stress_alpha_time_exp_amplitude = tf.math.multiply(stress_alpha_time_exp,x_stress_all)\n",
    "    \n",
    "#     print(stress_alpha_time_exp_amplitude.shape)\n",
    "    stress_final = tf.math.reduce_sum(stress_alpha_time_exp_amplitude,axis=1)\n",
    "#     print(stress_final.shape)\n",
    "    stress_final = Lambda(lambda x: expand_dims(x, axis=2))(stress_final)\n",
    "#     print(stress_final.shape)\n",
    "    # stress_final = LSTM(10,activation='tanh',return_sequences=True)(stress_final)\n",
    "    \n",
    "    \n",
    "    \n",
    "    x_quit = Input(shape=(n_episodes_quit,n_timesteps,n_dim))\n",
    "#     quit_alpha_time = tf.math.multiply(x_alpha_quit[:,:,:,0]*-1,x_quit[:,:,:,0])\n",
    "#     quit_alpha_time_exp = tf.math.exp(quit_alpha_time)\n",
    "#     quit_alpha_time_exp_amplitude = tf.math.multiply(quit_alpha_time_exp,x_quit[:,:,:,1])\n",
    "#     quit_final = tf.math.reduce_sum(quit_alpha_time_exp_amplitude,axis=1)\n",
    "#     quit_final = Lambda(lambda x: expand_dims(x, axis=2))(quit_final)\n",
    "#     quit_final = LSTM(5,activation='tanh',return_sequences=True)(quit_final)\n",
    "\n",
    "    \n",
    "    \n",
    "    x_smoking = Input(shape=(n_episodes_smoking,n_timesteps,n_dim))\n",
    "    smoking_alpha_time = tf.math.multiply(x_alpha_smoking[:,:,:,0]*-1,x_smoking[:,:,:,0])\n",
    "    smoking_alpha_time_exp = tf.math.exp(smoking_alpha_time)\n",
    "    \n",
    "    x_smoking_amplitude = x_smoking[:,:,:,1]\n",
    "    smoking_amplitude_coeff = Dense(1,activation='relu',name='amplitude_smoking')(x_static)\n",
    "    smoking_amplitude_coeff = Lambda(lambda x: expand_dims(x, axis=2))(smoking_amplitude_coeff)\n",
    "    x_smoking_amplitude = tf.math.multiply(x_smoking_amplitude,smoking_amplitude_coeff)\n",
    "    \n",
    "    x_smoking_duration = x_smoking[:,:,:,2]\n",
    "    smoking_duration_coeff = Dense(1,activation='sigmoid',name='duration_smoking')(x_static)\n",
    "    smoking_duration_coeff = Lambda(lambda x: expand_dims(x, axis=2))(smoking_duration_coeff)\n",
    "    x_smoking_duration = tf.math.multiply(x_smoking_duration,smoking_duration_coeff)\n",
    "    \n",
    "    x_smoking_all = tf.math.add(x_smoking_amplitude,x_smoking_duration)\n",
    "    smoking_alpha_time_exp_amplitude = tf.math.multiply(smoking_alpha_time_exp,x_smoking_all)\n",
    "    smoking_final = tf.math.reduce_sum(smoking_alpha_time_exp_amplitude,axis=1)\n",
    "    smoking_final = Lambda(lambda x: expand_dims(x, axis=2))(smoking_final)\n",
    "    # smoking_final = LSTM(10,activation='tanh',return_sequences=True)(smoking_final)\n",
    "\n",
    "    \n",
    "    \n",
    "    x_activity = Input(shape=(n_episodes_activity,n_timesteps,n_dim))\n",
    "    activity_alpha_time = tf.math.multiply(x_alpha_activity[:,:,:,0]*-1,x_activity[:,:,:,0])\n",
    "    activity_alpha_time_exp = tf.math.exp(activity_alpha_time)\n",
    "    \n",
    "    x_activity_amplitude = x_activity[:,:,:,1]\n",
    "    activity_amplitude_coeff = Dense(1,activation='sigmoid',name='amplitude_activity')(x_static)\n",
    "    activity_amplitude_coeff = Lambda(lambda x: expand_dims(x, axis=2))(activity_amplitude_coeff)\n",
    "    x_activity_amplitude = tf.math.multiply(x_activity_amplitude,activity_amplitude_coeff)\n",
    "    \n",
    "    x_activity_duration = x_activity[:,:,:,2]\n",
    "    activity_duration_coeff = Dense(1,activation='sigmoid',name='duration_activity')(x_static)\n",
    "    activity_duration_coeff = Lambda(lambda x: expand_dims(x, axis=2))(activity_duration_coeff)\n",
    "#     print(activity_duration_coeff)\n",
    "    x_activity_duration = tf.math.multiply(x_activity_duration,activity_duration_coeff)\n",
    "    \n",
    "    x_activity_all = tf.math.add(x_activity_amplitude,x_activity_duration)\n",
    "    activity_alpha_time_exp_amplitude = tf.math.multiply(activity_alpha_time_exp,x_activity_all)\n",
    "    activity_final = tf.math.reduce_sum(activity_alpha_time_exp_amplitude,axis=1)\n",
    "    activity_final = Lambda(lambda x: expand_dims(x, axis=2))(activity_final)\n",
    "    # activity_final = LSTM(10,activation='tanh',return_sequences=True)(activity_final)\n",
    "    \n",
    "    \n",
    "    x_episode = tf.concat([activity_final, stress_final, smoking_final],2)\n",
    "    x_episode = Conv1D(100,10,activation='relu')(x_episode)\n",
    "    # x_episode = Conv1D(100,10,activation='tanh')(x_episode)\n",
    "    # x_episode = LSTM(100,activation='tanh',return_sequences=True)(x_episode)\n",
    "    x_episode = LSTM(20,activation='tanh',return_sequences=False)(x_episode)\n",
    "    x_episode = Dropout(.3)(x_episode)\n",
    "    x_episode = Flatten()(x_episode)\n",
    "    x_episode = Dense(10,activation='relu')(x_episode)\n",
    "\n",
    "    merged = tf.concat([x_feature,x_episode],1)\n",
    "    # merged = x_feature\n",
    "    merged = Dense(10,activation='relu')(merged)\n",
    "    # merged = Dense(10,activation='relu')(merged)\n",
    "    output = Dense(1,activation='sigmoid')(merged)\n",
    "#     output = Activation('softmax',name='softmax')(output)\n",
    "    model = Model(inputs=[x_input,x_input_static,x_stress,x_activity,x_smoking,x_quit], outputs=[output])\n",
    "    model.compile(loss=tfa.losses.SigmoidFocalCrossEntropy(),metrics=['acc'])\n",
    "    return model\n",
    "# tf.keras.losses.SparseCategoricalCrossentropy()\n",
    "def myloss(alpha=.2):\n",
    "    \n",
    "    def custom_loss(true,pred):\n",
    "        m = tf.keras.losses.BinaryCrossentropy()\n",
    "        return f1_weighted(true,pred)+m(true,pred)*alpha\n",
    "    \n",
    "    \n",
    "    def f1_weighted(true, pred): #shapes (batch, 4)\n",
    "\n",
    "        #for metrics include these two lines, for loss, don't include them\n",
    "        #these are meant to round 'pred' to exactly zeros and ones\n",
    "        #predLabels = K.argmax(pred, axis=-1)\n",
    "        #pred = K.one_hot(predLabels, 4) \n",
    "\n",
    "\n",
    "        ground_positives = K.sum(true, axis=0) + K.epsilon()       # = TP + FN\n",
    "        pred_positives = K.sum(pred, axis=0) + K.epsilon()         # = TP + FP\n",
    "        true_positives = K.sum(true * pred, axis=0) + K.epsilon()  # = TP\n",
    "            #all with shape (4,)\n",
    "\n",
    "        precision = true_positives / pred_positives \n",
    "        recall = true_positives / ground_positives\n",
    "            #both = 1 if ground_positives == 0 or pred_positives == 0\n",
    "            #shape (4,)\n",
    "\n",
    "        f1 = 2 * (precision * recall) / (precision + recall + K.epsilon())\n",
    "            #still with shape (4,)\n",
    "\n",
    "        weighted_f1 = f1 * ground_positives / K.sum(ground_positives) \n",
    "        weighted_f1 = K.sum(weighted_f1)\n",
    "\n",
    "\n",
    "        return 1 - weighted_f1\n",
    "    return custom_loss\n"
   ]
  },
  {
   "cell_type": "code",
   "execution_count": 5,
   "metadata": {},
   "outputs": [
    {
     "name": "stdout",
     "output_type": "stream",
     "text": [
      "15 67\n",
      "(None, 1, 1) coeff (None, 10, 30) amplitude\n",
      "Epoch 00063: early stopping\n",
      "15 67\n",
      "(None, 1, 1) coeff (None, 10, 30) amplitude\n",
      "Epoch 00072: early stopping\n",
      "15 67\n",
      "(None, 1, 1) coeff (None, 10, 30) amplitude\n",
      "Epoch 00085: early stopping\n",
      "15 67\n",
      "(None, 1, 1) coeff (None, 10, 30) amplitude\n",
      "Epoch 00086: early stopping\n",
      "15 67\n",
      "(None, 1, 1) coeff (None, 10, 30) amplitude\n",
      "Epoch 00123: early stopping\n",
      "15 67\n",
      "(None, 1, 1) coeff (None, 10, 30) amplitude\n",
      "Epoch 00056: early stopping\n",
      "15 67\n",
      "(None, 1, 1) coeff (None, 10, 30) amplitude\n",
      "Epoch 00054: early stopping\n",
      "15 67\n",
      "(None, 1, 1) coeff (None, 10, 30) amplitude\n",
      "Epoch 00101: early stopping\n",
      "15 67\n",
      "(None, 1, 1) coeff (None, 10, 30) amplitude\n",
      "Epoch 00058: early stopping\n",
      "15 67\n",
      "(None, 1, 1) coeff (None, 10, 30) amplitude\n",
      "Epoch 00115: early stopping\n",
      "15 67\n",
      "(None, 1, 1) coeff (None, 10, 30) amplitude\n",
      "Epoch 00068: early stopping\n",
      "15 67\n",
      "(None, 1, 1) coeff (None, 10, 30) amplitude\n",
      "Epoch 00073: early stopping\n",
      "15 67\n",
      "(None, 1, 1) coeff (None, 10, 30) amplitude\n",
      "Epoch 00060: early stopping\n",
      "15 67\n",
      "(None, 1, 1) coeff (None, 10, 30) amplitude\n",
      "Epoch 00089: early stopping\n",
      "15 67\n",
      "(None, 1, 1) coeff (None, 10, 30) amplitude\n",
      "Epoch 00060: early stopping\n",
      "15 67\n",
      "(None, 1, 1) coeff (None, 10, 30) amplitude\n",
      "Epoch 00065: early stopping\n",
      "15 67\n",
      "(None, 1, 1) coeff (None, 10, 30) amplitude\n",
      "Epoch 00094: early stopping\n",
      "15 67\n",
      "(None, 1, 1) coeff (None, 10, 30) amplitude\n",
      "Epoch 00085: early stopping\n",
      "15 67\n",
      "(None, 1, 1) coeff (None, 10, 30) amplitude\n",
      "Epoch 00109: early stopping\n",
      "15 67\n",
      "(None, 1, 1) coeff (None, 10, 30) amplitude\n",
      "Epoch 00066: early stopping\n",
      "15 67\n",
      "(None, 1, 1) coeff (None, 10, 30) amplitude\n",
      "Epoch 00074: early stopping\n",
      "15 67\n",
      "(None, 1, 1) coeff (None, 10, 30) amplitude\n",
      "Epoch 00068: early stopping\n",
      "15 67\n",
      "(None, 1, 1) coeff (None, 10, 30) amplitude\n",
      "Epoch 00071: early stopping\n",
      "15 67\n",
      "(None, 1, 1) coeff (None, 10, 30) amplitude\n",
      "Epoch 00053: early stopping\n",
      "15 67\n",
      "(None, 1, 1) coeff (None, 10, 30) amplitude\n",
      "Epoch 00085: early stopping\n",
      "15 67\n",
      "(None, 1, 1) coeff (None, 10, 30) amplitude\n",
      "Epoch 00069: early stopping\n",
      "15 67\n",
      "(None, 1, 1) coeff (None, 10, 30) amplitude\n",
      "Epoch 00070: early stopping\n",
      "15 67\n",
      "(None, 1, 1) coeff (None, 10, 30) amplitude\n",
      "Epoch 00094: early stopping\n",
      "15 67\n",
      "(None, 1, 1) coeff (None, 10, 30) amplitude\n",
      "Epoch 00069: early stopping\n",
      "15 67\n",
      "(None, 1, 1) coeff (None, 10, 30) amplitude\n",
      "Epoch 00084: early stopping\n",
      "15 67\n",
      "(None, 1, 1) coeff (None, 10, 30) amplitude\n",
      "Epoch 00069: early stopping\n",
      "15 67\n",
      "(None, 1, 1) coeff (None, 10, 30) amplitude\n",
      "Epoch 00063: early stopping\n",
      "15 67\n",
      "(None, 1, 1) coeff (None, 10, 30) amplitude\n",
      "Epoch 00124: early stopping\n",
      "15 67\n",
      "(None, 1, 1) coeff (None, 10, 30) amplitude\n",
      "Epoch 00084: early stopping\n",
      "15 67\n",
      "(None, 1, 1) coeff (None, 10, 30) amplitude\n",
      "Epoch 00068: early stopping\n",
      "15 67\n",
      "(None, 1, 1) coeff (None, 10, 30) amplitude\n",
      "Epoch 00097: early stopping\n",
      "15 67\n",
      "(None, 1, 1) coeff (None, 10, 30) amplitude\n",
      "Epoch 00115: early stopping\n",
      "15 67\n",
      "(None, 1, 1) coeff (None, 10, 30) amplitude\n",
      "Epoch 00071: early stopping\n",
      "15 67\n",
      "(None, 1, 1) coeff (None, 10, 30) amplitude\n",
      "Epoch 00190: early stopping\n",
      "15 67\n",
      "(None, 1, 1) coeff (None, 10, 30) amplitude\n",
      "Epoch 00068: early stopping\n",
      "15 67\n",
      "(None, 1, 1) coeff (None, 10, 30) amplitude\n",
      "Epoch 00053: early stopping\n",
      "15 67\n",
      "(None, 1, 1) coeff (None, 10, 30) amplitude\n",
      "Epoch 00085: early stopping\n",
      "15 67\n",
      "(None, 1, 1) coeff (None, 10, 30) amplitude\n",
      "Epoch 00052: early stopping\n",
      "15 67\n",
      "(None, 1, 1) coeff (None, 10, 30) amplitude\n",
      "Epoch 00114: early stopping\n",
      "15 67\n",
      "(None, 1, 1) coeff (None, 10, 30) amplitude\n",
      "Epoch 00066: early stopping\n",
      "15 67\n",
      "(None, 1, 1) coeff (None, 10, 30) amplitude\n",
      "Epoch 00075: early stopping\n",
      "15 67\n",
      "(None, 1, 1) coeff (None, 10, 30) amplitude\n",
      "Epoch 00119: early stopping\n",
      "15 67\n",
      "(None, 1, 1) coeff (None, 10, 30) amplitude\n",
      "Epoch 00093: early stopping\n",
      "15 67\n",
      "(None, 1, 1) coeff (None, 10, 30) amplitude\n",
      "Epoch 00063: early stopping\n",
      "15 67\n",
      "(None, 1, 1) coeff (None, 10, 30) amplitude\n",
      "Epoch 00089: early stopping\n"
     ]
    }
   ],
   "source": [
    "from sklearn.metrics import roc_auc_score\n",
    "use_standardization = True\n",
    "for n_lag in [15]:\n",
    "    all_data = []\n",
    "    columns = ['alpha_stress','alpha_smoking','alpha_activity']\n",
    "    amplitude_duration_data = []\n",
    "    amplitude_duration_columns = ['amplitude_stress','duration_stress'] \n",
    "    data_cluster = pickle.load(open('./data/episode_encoded_lagged_data/episode_encoded_lagged_'+str(n_lag)+'_windows_standardized_phenotype.p','rb'))\n",
    "    temp = data_cluster.groupby(['user','cluster_label']).count().index.values\n",
    "    users = np.array([a[0] for a in temp])\n",
    "    labels = np.array([a[1] for a in temp])\n",
    "    cluster_dict = {}\n",
    "    for i,a in enumerate(users):\n",
    "        cluster_dict[a] = labels[i]\n",
    "    n_groups = 10\n",
    "    X_feature,X_static,X_stress_episode,X_quit_episode,X_activity_episode,X_smoking_episode,y_time,y,groups = get_X_y_groups(n_lag)\n",
    "    y[y<0] = 0\n",
    "    y = np.float32(y)\n",
    "    indexes = get_train_test_indexes(groups,n_groups_split = n_groups,n_val_groups=5)\n",
    "    final_y_time = []\n",
    "    final_probs = []\n",
    "    final_y = []\n",
    "    final_groups = []\n",
    "    bias_dict = {}\n",
    "    val_results = {}\n",
    "    for kk,yyyy in enumerate(indexes):\n",
    "        train_index,test_index,val_index = yyyy\n",
    "        \n",
    "        X_feature_train,X_feature_test = X_feature[train_index],X_feature[test_index]\n",
    "        X_static_train,X_static_test = X_static[train_index],X_static[test_index]\n",
    "        X_stress_episode_train,X_stress_episode_test = X_stress_episode[train_index], X_stress_episode[test_index]\n",
    "        X_quit_episode_train,X_quit_episode_test = X_quit_episode[train_index], X_quit_episode[test_index]\n",
    "        X_activity_episode_train,X_activity_episode_test = X_activity_episode[train_index], X_activity_episode[test_index]\n",
    "        X_smoking_episode_train,X_smoking_episode_test = X_smoking_episode[train_index], X_smoking_episode[test_index]\n",
    "        y_train,y_test,groups_train,groups_test,time_train,time_test = y[train_index],y[test_index],groups[train_index],groups[test_index],y_time[train_index],y_time[test_index]\n",
    "        \n",
    "        X_feature_val,X_static_val,X_stress_episode_val,X_quit_episode_val,\\\n",
    "        X_activity_episode_val,X_smoking_episode_val,y_val,groups_val,time_val = X_feature[val_index],X_static[val_index],X_stress_episode[val_index],X_quit_episode[val_index],\\\n",
    "                                                                                X_activity_episode[val_index],X_smoking_episode[val_index],y[val_index],groups[val_index],y_time[val_index]\n",
    "        \n",
    "        positive_train_index = np.where(y_train==1)[0]\n",
    "        negative_train_index = np.where(y_train==0)[0]\n",
    "        len_positive = len(positive_train_index)\n",
    "        n_iters = 5\n",
    "        test_preds = []\n",
    "        bias_pred = []\n",
    "        for i,n_iter in enumerate(range(n_iters)):\n",
    "            # np.random.seed(np.random.randint(109))\n",
    "            indexes_sampled = np.array(list(positive_train_index)*2+list(np.random.choice(negative_train_index,len_positive*3)))\n",
    "            train_feature = X_feature_train[indexes_sampled]\n",
    "            train_static = X_static_train[indexes_sampled]\n",
    "            train_stress = X_stress_episode_train[indexes_sampled]\n",
    "            train_quit = X_quit_episode_train[indexes_sampled]\n",
    "            train_activity = X_activity_episode_train[indexes_sampled]\n",
    "            train_smoking = X_smoking_episode_train[indexes_sampled]\n",
    "            train_y = y_train[indexes_sampled]\n",
    "            \n",
    "            model = get_model()\n",
    "            # model.summary()\n",
    "            filepath = './models/lag_'+str(n_lag)+'_iter_'+str(n_iter)+'_split_'+str(kk)+'_episode_model_v9_new_validation_set_include_smoking_focal_loss_static_coeff_phenotype_lower_model_v3.hdf5'\n",
    "            checkpoint = ModelCheckpoint(filepath, monitor='val_loss', verbose=0, save_best_only=True, mode='min',save_weights_only=False)\n",
    "            es = EarlyStopping(monitor='val_loss', mode='min', verbose=1,patience=40)\n",
    "            callbacks_list = [es,checkpoint]\n",
    "            train_feature,val_feature,train_static,val_static,train_stress,val_stress, \\\n",
    "            train_smoking,val_smoking,train_quit,val_quit,train_activity,val_activity, \\\n",
    "            train_y,val_y = train_test_split(train_feature,\n",
    "                                            train_static,\n",
    "                                            train_stress,\n",
    "                                            train_smoking,\n",
    "                                            train_quit,\n",
    "                                            train_activity,\n",
    "                                            train_y,\n",
    "                                            test_size=.2,stratify=train_y)\n",
    "            model.fit([train_feature,train_static,train_stress,train_activity,train_smoking,train_quit],train_y,\n",
    "            validation_data=([val_feature,val_static,val_stress,val_activity,val_smoking,val_quit],val_y), epochs=200, batch_size=100,\n",
    "                        verbose=0,callbacks=callbacks_list,shuffle=True)\n",
    "            model.load_weights(filepath)\n",
    "            temp_model = Model(model.input[1],[model.get_layer(c).output for c in columns+amplitude_duration_columns])\n",
    "            X_static_test_new = np.hstack((X_static_test, np.zeros((X_static_test.shape[0], 3), dtype=X_static_test.dtype)))\n",
    "            X_static_test_new[:,-3] = np.mean(X_stress_episode_test[:,:,0,1],axis=1)\n",
    "            X_static_test_new[:,-2] = np.mean(X_stress_episode_test[:,:,0,2],axis=1)\n",
    "            X_static_test_new[:,-1] = [cluster_dict[a] for a in groups_test]\n",
    "            X_static_test_new = np.unique(X_static_test_new,axis=0)\n",
    "            pred_list = list(zip(*[list(a.reshape(-1)) for a in temp_model.predict(X_static_test_new[:,:-3])]))\n",
    "            for ii,a in enumerate(pred_list):\n",
    "                for jj,c_name in enumerate(columns+amplitude_duration_columns):\n",
    "                    all_data.append([a[jj],\n",
    "                                    c_name,\n",
    "                                    X_static_test_new[ii][-1],\n",
    "                                    a[-2]*X_static_test_new[ii][-3],\n",
    "                                    a[-1]*X_static_test_new[ii][-2],\n",
    "                                    n_lag,\n",
    "                                    kk,\n",
    "                                    i])\n",
    "    #         for c_name in columns:\n",
    "    #             temp_model = tf.keras.Model(model.input,model.get_layer(c_name).output)\n",
    "    #             alpha_stress = temp_model.predict([X_feature_test,X_static_test,X_stress_episode_test,\n",
    "    #                                                 X_activity_episode_test,X_smoking_episode_test,X_quit_episode_test])\n",
    "    #             cluster_done = [False]*len(cluster_dict)\n",
    "    #             for ii,a in enumerate(groups_test):\n",
    "    #                 if cluster_done[int(cluster_dict[a])]:\n",
    "    #                     continue\n",
    "    #                 all_data.append([alpha_stress[i][0]*-1,c_name,cluster_dict[a],n_lag,kk,i])\n",
    "    #                 cluster_done[int(cluster_dict[a])] = True\n",
    "    #         temp_model = tf.keras.Model(model.input,[model.get_layer(amplitude_duration_columns[0]).output,model.get_layer(amplitude_duration_columns[1]).output])\n",
    "    #         alpha_stress = temp_model.predict([X_feature_test,X_static_test,X_stress_episode_test,\n",
    "    #                                     X_activity_episode_test,X_smoking_episode_test,X_quit_episode_test])\n",
    "    #         cluster_done = [False]*len(cluster_dict)\n",
    "    #         for ii,a in enumerate(groups_test):\n",
    "    #             if cluster_done[int(cluster_dict[a])]:\n",
    "    #                 continue\n",
    "    #             amplitude_duration_data.append([alpha_stress[0][i][0]*-1,alpha_stress[1][i][0]*-1,cluster_dict[a],n_lag,kk,i])\n",
    "    #             cluster_done[int(cluster_dict[a])] = True\n",
    "\n",
    "            test_preds.append(model.predict([X_feature_test,X_static_test,X_stress_episode_test,\n",
    "                                        X_activity_episode_test,X_smoking_episode_test,X_quit_episode_test]))\n",
    "            bias_pred.append(model.predict([X_feature_val,X_static_val,X_stress_episode_val,X_activity_episode_val,\n",
    "                                            X_smoking_episode_val,X_quit_episode_val]))\n",
    "            \n",
    "        from sklearn.preprocessing import MinMaxScaler\n",
    "        y_test_pred = np.concatenate([MinMaxScaler().fit_transform(a.reshape(-1,1)) for a in test_preds],axis=1)\n",
    "        bias_pred = np.concatenate([MinMaxScaler().fit_transform(a.reshape(-1,1)) for a in bias_pred],axis=1)\n",
    "        # print(roc_auc_score(y_test,y_test_pred))\n",
    "        final_y_time.extend(list(time_test))\n",
    "        final_probs.extend(list(y_test_pred))\n",
    "        final_y.extend(list(y_test))\n",
    "        final_groups.extend(list(groups_test))\n",
    "        for group_b in np.unique(groups_test):\n",
    "            bias_dict[group_b] = kk\n",
    "        val_results[kk] = [time_val,bias_pred,y_val,groups_val]\n",
    "    #     print(len(np.unique(final_groups)))\n",
    "    #     print(bias_dict)\n",
    "    final_y_time,final_probs,final_y,final_groups = np.array(final_y_time),np.array(final_probs),np.array(final_y),np.array(final_groups)\n",
    "    pickle.dump([final_y_time,final_probs,final_y,final_groups,bias_dict,val_results],open('./data/output/episode_encoded_lag_'+str(n_lag)+'_episode_model_v9_new_validation_set_include_smoking_focal_loss_static_coeff_phenotype_lower_model_v3.p','wb'))"
   ]
  },
  {
   "cell_type": "code",
   "execution_count": 6,
   "metadata": {},
   "outputs": [],
   "source": [
    "pickle.dump(all_data,open('./data/saved_result/coeffs3.p','wb'))"
   ]
  },
  {
   "cell_type": "code",
   "execution_count": 8,
   "metadata": {},
   "outputs": [],
   "source": [
    "import pandas as pd\n",
    "df = pd.DataFrame(all_data,columns=['value','name','cluster','amplitude','duration','lag','split','iteration'])"
   ]
  },
  {
   "cell_type": "code",
   "execution_count": 12,
   "metadata": {},
   "outputs": [
    {
     "data": {
      "text/html": [
       "<div>\n",
       "<style scoped>\n",
       "    .dataframe tbody tr th:only-of-type {\n",
       "        vertical-align: middle;\n",
       "    }\n",
       "\n",
       "    .dataframe tbody tr th {\n",
       "        vertical-align: top;\n",
       "    }\n",
       "\n",
       "    .dataframe thead th {\n",
       "        text-align: right;\n",
       "    }\n",
       "</style>\n",
       "<table border=\"1\" class=\"dataframe\">\n",
       "  <thead>\n",
       "    <tr style=\"text-align: right;\">\n",
       "      <th></th>\n",
       "      <th>value</th>\n",
       "      <th>name</th>\n",
       "      <th>cluster</th>\n",
       "      <th>amplitude</th>\n",
       "      <th>duration</th>\n",
       "      <th>lag</th>\n",
       "      <th>split</th>\n",
       "      <th>iteration</th>\n",
       "    </tr>\n",
       "  </thead>\n",
       "  <tbody>\n",
       "    <tr>\n",
       "      <th>0</th>\n",
       "      <td>0.999459</td>\n",
       "      <td>alpha_stress</td>\n",
       "      <td>1.0</td>\n",
       "      <td>0.000478</td>\n",
       "      <td>4.329489</td>\n",
       "      <td>15</td>\n",
       "      <td>0</td>\n",
       "      <td>0</td>\n",
       "    </tr>\n",
       "    <tr>\n",
       "      <th>1</th>\n",
       "      <td>0.228008</td>\n",
       "      <td>alpha_smoking</td>\n",
       "      <td>1.0</td>\n",
       "      <td>0.000478</td>\n",
       "      <td>4.329489</td>\n",
       "      <td>15</td>\n",
       "      <td>0</td>\n",
       "      <td>0</td>\n",
       "    </tr>\n",
       "    <tr>\n",
       "      <th>2</th>\n",
       "      <td>0.097826</td>\n",
       "      <td>alpha_activity</td>\n",
       "      <td>1.0</td>\n",
       "      <td>0.000478</td>\n",
       "      <td>4.329489</td>\n",
       "      <td>15</td>\n",
       "      <td>0</td>\n",
       "      <td>0</td>\n",
       "    </tr>\n",
       "    <tr>\n",
       "      <th>3</th>\n",
       "      <td>0.002337</td>\n",
       "      <td>amplitude_stress</td>\n",
       "      <td>1.0</td>\n",
       "      <td>0.000478</td>\n",
       "      <td>4.329489</td>\n",
       "      <td>15</td>\n",
       "      <td>0</td>\n",
       "      <td>0</td>\n",
       "    </tr>\n",
       "    <tr>\n",
       "      <th>4</th>\n",
       "      <td>0.994825</td>\n",
       "      <td>duration_stress</td>\n",
       "      <td>1.0</td>\n",
       "      <td>0.000478</td>\n",
       "      <td>4.329489</td>\n",
       "      <td>15</td>\n",
       "      <td>0</td>\n",
       "      <td>0</td>\n",
       "    </tr>\n",
       "  </tbody>\n",
       "</table>\n",
       "</div>"
      ],
      "text/plain": [
       "      value              name  cluster  amplitude  duration  lag  split  \\\n",
       "0  0.999459      alpha_stress      1.0   0.000478  4.329489   15      0   \n",
       "1  0.228008     alpha_smoking      1.0   0.000478  4.329489   15      0   \n",
       "2  0.097826    alpha_activity      1.0   0.000478  4.329489   15      0   \n",
       "3  0.002337  amplitude_stress      1.0   0.000478  4.329489   15      0   \n",
       "4  0.994825   duration_stress      1.0   0.000478  4.329489   15      0   \n",
       "\n",
       "   iteration  \n",
       "0          0  \n",
       "1          0  \n",
       "2          0  \n",
       "3          0  \n",
       "4          0  "
      ]
     },
     "execution_count": 12,
     "metadata": {},
     "output_type": "execute_result"
    }
   ],
   "source": [
    "import seaborn as sns\n",
    "df.head()"
   ]
  },
  {
   "cell_type": "code",
   "execution_count": 23,
   "metadata": {},
   "outputs": [
    {
     "data": {
      "text/plain": [
       "<AxesSubplot:xlabel='name', ylabel='value'>"
      ]
     },
     "execution_count": 23,
     "metadata": {},
     "output_type": "execute_result"
    },
    {
     "data": {
      "image/png": "[encoded data removed]",
      "text/plain": [
       "<Figure size 1440x720 with 1 Axes>"
      ]
     },
     "metadata": {
      "needs_background": "light"
     },
     "output_type": "display_data"
    }
   ],
   "source": [
    "plt.figure(figsize=(20,10))\n",
    "sns.barplot(x='name',y='value',data=df)"
   ]
  },
  {
   "cell_type": "code",
   "execution_count": 22,
   "metadata": {},
   "outputs": [
    {
     "data": {
      "text/plain": [
       "<matplotlib.collections.PathCollection at 0x7f26b8079e20>"
      ]
     },
     "execution_count": 22,
     "metadata": {},
     "output_type": "execute_result"
    },
    {
     "data": {
      "image/png": "[encoded data removed]",
      "text/plain": [
       "<Figure size 432x288 with 1 Axes>"
      ]
     },
     "metadata": {
      "needs_background": "light"
     },
     "output_type": "display_data"
    }
   ],
   "source": [
    "# plt.scatter(df['duration'],df['amplitude'])\n",
    "# plt.hist(df['duration'])\n",
    "# sns.jointplot(x='amplitude',y='duration',data=df,kind='hex')"
   ]
  },
  {
   "cell_type": "code",
   "execution_count": 184,
   "metadata": {},
   "outputs": [],
   "source": [
    "df = pd.DataFrame(all_data,columns=['value','name','cluster','lag','split','iteration'])"
   ]
  },
  {
   "cell_type": "code",
   "execution_count": 185,
   "metadata": {},
   "outputs": [],
   "source": [
    "df_amplitude_duration = pd.DataFrame(amplitude_duration_data,columns=['amplitude','duration','cluster','lag','split','iteration'])"
   ]
  },
  {
   "cell_type": "code",
   "execution_count": 186,
   "metadata": {},
   "outputs": [],
   "source": [
    "pickle.dump([df,df_amplitude_duration],open('./data/saved_result/coeffs1.p','wb'))"
   ]
  },
  {
   "cell_type": "code",
   "execution_count": 188,
   "metadata": {},
   "outputs": [],
   "source": [
    "import seaborn as sns\n",
    "df,df_amplitude_duration = pickle.load(open('./data/saved_result/coeffs1.p','rb'))\n",
    "df['value'] = df['value']*-1\n",
    "df_amplitude_duration['amplitude'] = df_amplitude_duration['amplitude']*-1\n",
    "df_amplitude_duration['duration'] = df_amplitude_duration['duration']*-1\n"
   ]
  },
  {
   "cell_type": "code",
   "execution_count": 189,
   "metadata": {},
   "outputs": [
    {
     "data": {
      "text/plain": [
       "<Figure size 720x432 with 0 Axes>"
      ]
     },
     "metadata": {},
     "output_type": "display_data"
    },
    {
     "data": {
      "image/png": "[encoded data removed]",
      "text/plain": [
       "<Figure size 432x432 with 3 Axes>"
      ]
     },
     "metadata": {
      "needs_background": "light"
     },
     "output_type": "display_data"
    },
    {
     "name": "stdout",
     "output_type": "stream",
     "text": [
      "\u001b[0;31mSignature:\u001b[0m\n",
      "\u001b[0msns\u001b[0m\u001b[0;34m.\u001b[0m\u001b[0mjointplot\u001b[0m\u001b[0;34m(\u001b[0m\u001b[0;34m\u001b[0m\n",
      "\u001b[0;34m\u001b[0m    \u001b[0;34m*\u001b[0m\u001b[0;34m,\u001b[0m\u001b[0;34m\u001b[0m\n",
      "\u001b[0;34m\u001b[0m    \u001b[0mx\u001b[0m\u001b[0;34m=\u001b[0m\u001b[0;32mNone\u001b[0m\u001b[0;34m,\u001b[0m\u001b[0;34m\u001b[0m\n",
      "\u001b[0;34m\u001b[0m    \u001b[0my\u001b[0m\u001b[0;34m=\u001b[0m\u001b[0;32mNone\u001b[0m\u001b[0;34m,\u001b[0m\u001b[0;34m\u001b[0m\n",
      "\u001b[0;34m\u001b[0m    \u001b[0mdata\u001b[0m\u001b[0;34m=\u001b[0m\u001b[0;32mNone\u001b[0m\u001b[0;34m,\u001b[0m\u001b[0;34m\u001b[0m\n",
      "\u001b[0;34m\u001b[0m    \u001b[0mkind\u001b[0m\u001b[0;34m=\u001b[0m\u001b[0;34m'scatter'\u001b[0m\u001b[0;34m,\u001b[0m\u001b[0;34m\u001b[0m\n",
      "\u001b[0;34m\u001b[0m    \u001b[0mcolor\u001b[0m\u001b[0;34m=\u001b[0m\u001b[0;32mNone\u001b[0m\u001b[0;34m,\u001b[0m\u001b[0;34m\u001b[0m\n",
      "\u001b[0;34m\u001b[0m    \u001b[0mheight\u001b[0m\u001b[0;34m=\u001b[0m\u001b[0;36m6\u001b[0m\u001b[0;34m,\u001b[0m\u001b[0;34m\u001b[0m\n",
      "\u001b[0;34m\u001b[0m    \u001b[0mratio\u001b[0m\u001b[0;34m=\u001b[0m\u001b[0;36m5\u001b[0m\u001b[0;34m,\u001b[0m\u001b[0;34m\u001b[0m\n",
      "\u001b[0;34m\u001b[0m    \u001b[0mspace\u001b[0m\u001b[0;34m=\u001b[0m\u001b[0;36m0.2\u001b[0m\u001b[0;34m,\u001b[0m\u001b[0;34m\u001b[0m\n",
      "\u001b[0;34m\u001b[0m    \u001b[0mdropna\u001b[0m\u001b[0;34m=\u001b[0m\u001b[0;32mFalse\u001b[0m\u001b[0;34m,\u001b[0m\u001b[0;34m\u001b[0m\n",
      "\u001b[0;34m\u001b[0m    \u001b[0mxlim\u001b[0m\u001b[0;34m=\u001b[0m\u001b[0;32mNone\u001b[0m\u001b[0;34m,\u001b[0m\u001b[0;34m\u001b[0m\n",
      "\u001b[0;34m\u001b[0m    \u001b[0mylim\u001b[0m\u001b[0;34m=\u001b[0m\u001b[0;32mNone\u001b[0m\u001b[0;34m,\u001b[0m\u001b[0;34m\u001b[0m\n",
      "\u001b[0;34m\u001b[0m    \u001b[0mmarginal_ticks\u001b[0m\u001b[0;34m=\u001b[0m\u001b[0;32mFalse\u001b[0m\u001b[0;34m,\u001b[0m\u001b[0;34m\u001b[0m\n",
      "\u001b[0;34m\u001b[0m    \u001b[0mjoint_kws\u001b[0m\u001b[0;34m=\u001b[0m\u001b[0;32mNone\u001b[0m\u001b[0;34m,\u001b[0m\u001b[0;34m\u001b[0m\n",
      "\u001b[0;34m\u001b[0m    \u001b[0mmarginal_kws\u001b[0m\u001b[0;34m=\u001b[0m\u001b[0;32mNone\u001b[0m\u001b[0;34m,\u001b[0m\u001b[0;34m\u001b[0m\n",
      "\u001b[0;34m\u001b[0m    \u001b[0mhue\u001b[0m\u001b[0;34m=\u001b[0m\u001b[0;32mNone\u001b[0m\u001b[0;34m,\u001b[0m\u001b[0;34m\u001b[0m\n",
      "\u001b[0;34m\u001b[0m    \u001b[0mpalette\u001b[0m\u001b[0;34m=\u001b[0m\u001b[0;32mNone\u001b[0m\u001b[0;34m,\u001b[0m\u001b[0;34m\u001b[0m\n",
      "\u001b[0;34m\u001b[0m    \u001b[0mhue_order\u001b[0m\u001b[0;34m=\u001b[0m\u001b[0;32mNone\u001b[0m\u001b[0;34m,\u001b[0m\u001b[0;34m\u001b[0m\n",
      "\u001b[0;34m\u001b[0m    \u001b[0mhue_norm\u001b[0m\u001b[0;34m=\u001b[0m\u001b[0;32mNone\u001b[0m\u001b[0;34m,\u001b[0m\u001b[0;34m\u001b[0m\n",
      "\u001b[0;34m\u001b[0m    \u001b[0;34m**\u001b[0m\u001b[0mkwargs\u001b[0m\u001b[0;34m,\u001b[0m\u001b[0;34m\u001b[0m\n",
      "\u001b[0;34m\u001b[0m\u001b[0;34m)\u001b[0m\u001b[0;34m\u001b[0m\u001b[0;34m\u001b[0m\u001b[0m\n",
      "\u001b[0;31mDocstring:\u001b[0m\n",
      "Draw a plot of two variables with bivariate and univariate graphs.\n",
      "\n",
      "This function provides a convenient interface to the :class:`JointGrid`\n",
      "class, with several canned plot kinds. This is intended to be a fairly\n",
      "lightweight wrapper; if you need more flexibility, you should use\n",
      ":class:`JointGrid` directly.\n",
      "\n",
      "Parameters\n",
      "----------\n",
      "x, y : vectors or keys in ``data``\n",
      "    Variables that specify positions on the x and y axes.\n",
      "data : :class:`pandas.DataFrame`, :class:`numpy.ndarray`, mapping, or sequence\n",
      "    Input data structure. Either a long-form collection of vectors that can be\n",
      "    assigned to named variables or a wide-form dataset that will be internally\n",
      "    reshaped.\n",
      "kind : { \"scatter\" | \"kde\" | \"hist\" | \"hex\" | \"reg\" | \"resid\" }\n",
      "    Kind of plot to draw. See the examples for references to the underlying functions.\n",
      "color : :mod:`matplotlib color <matplotlib.colors>`\n",
      "    Single color specification for when hue mapping is not used. Otherwise, the\n",
      "    plot will try to hook into the matplotlib property cycle.\n",
      "height : numeric\n",
      "    Size of the figure (it will be square).\n",
      "ratio : numeric\n",
      "    Ratio of joint axes height to marginal axes height.\n",
      "space : numeric\n",
      "    Space between the joint and marginal axes\n",
      "dropna : bool\n",
      "    If True, remove observations that are missing from ``x`` and ``y``.\n",
      "{x, y}lim : pairs of numbers\n",
      "    Axis limits to set before plotting.\n",
      "marginal_ticks : bool\n",
      "    If False, suppress ticks on the count/density axis of the marginal plots.\n",
      "{joint, marginal}_kws : dicts\n",
      "    Additional keyword arguments for the plot components.\n",
      "hue : vector or key in ``data``\n",
      "    Semantic variable that is mapped to determine the color of plot elements.\n",
      "    Semantic variable that is mapped to determine the color of plot elements.\n",
      "palette : string, list, dict, or :class:`matplotlib.colors.Colormap`\n",
      "    Method for choosing the colors to use when mapping the ``hue`` semantic.\n",
      "    String values are passed to :func:`color_palette`. List or dict values\n",
      "    imply categorical mapping, while a colormap object implies numeric mapping.\n",
      "hue_order : vector of strings\n",
      "    Specify the order of processing and plotting for categorical levels of the\n",
      "    ``hue`` semantic.\n",
      "hue_norm : tuple or :class:`matplotlib.colors.Normalize`\n",
      "    Either a pair of values that set the normalization range in data units\n",
      "    or an object that will map from data units into a [0, 1] interval. Usage\n",
      "    implies numeric mapping.\n",
      "kwargs\n",
      "    Additional keyword arguments are passed to the function used to\n",
      "    draw the plot on the joint Axes, superseding items in the\n",
      "    ``joint_kws`` dictionary.\n",
      "\n",
      "Returns\n",
      "-------\n",
      ":class:`JointGrid`\n",
      "    An object managing multiple subplots that correspond to joint and marginal axes\n",
      "    for plotting a bivariate relationship or distribution.\n",
      "\n",
      "See Also\n",
      "--------\n",
      "JointGrid : Set up a figure with joint and marginal views on bivariate data.\n",
      "PairGrid : Set up a figure with joint and marginal views on multiple variables.\n",
      "jointplot : Draw multiple bivariate plots with univariate marginal distributions.\n",
      "\n",
      "Examples\n",
      "--------\n",
      "\n",
      ".. include:: ../docstrings/jointplot.rst\n",
      "\u001b[0;31mFile:\u001b[0m      ~/miniconda3/envs/test1/lib/python3.8/site-packages/seaborn/axisgrid.py\n",
      "\u001b[0;31mType:\u001b[0m      function\n"
     ]
    }
   ],
   "source": [
    "plt.figure(figsize=(10,6))\n",
    "sns.jointplot(x='amplitude',y='duration',data=df_amplitude_duration,kind='hex')\n",
    "plt.tight_layout()\n",
    "plt.savefig('./data/images/amp_dur.png')\n",
    "plt.show()\n",
    "# sns.kdeplot(x='amplitude',hue='cluster',data=df_amplitude_duration)\n",
    "# plt.hist(df_amplitude_duration['amplitude'])\n",
    "# df_amplitude_duration['ratio'] = df_amplitude_duration.apply(lambda a:a['amplitude']/a['duration'],axis=1)\n",
    "?sns.jointplot"
   ]
  },
  {
   "cell_type": "code",
   "execution_count": 160,
   "metadata": {},
   "outputs": [
    {
     "data": {
      "text/plain": [
       "(0.0, 30.0)"
      ]
     },
     "execution_count": 160,
     "metadata": {},
     "output_type": "execute_result"
    },
    {
     "data": {
      "image/png": "[encoded data removed]",
      "text/plain": [
       "<Figure size 432x288 with 1 Axes>"
      ]
     },
     "metadata": {
      "needs_background": "light"
     },
     "output_type": "display_data"
    }
   ],
   "source": [
    "# sns.boxenplot(x='cluster',y='ratio',data=df_amplitude_duration)\n",
    "# plt.ylim([0,30])"
   ]
  },
  {
   "cell_type": "code",
   "execution_count": 137,
   "metadata": {},
   "outputs": [],
   "source": [
    "# df = df.groupby(['split','name','cluster'],as_index=False).mean()"
   ]
  },
  {
   "cell_type": "code",
   "execution_count": 191,
   "metadata": {},
   "outputs": [
    {
     "data": {
      "image/png": "[encoded data removed]",
      "text/plain": [
       "<Figure size 1440x720 with 1 Axes>"
      ]
     },
     "metadata": {
      "needs_background": "light"
     },
     "output_type": "display_data"
    }
   ],
   "source": [
    "plt.rcParams.update({'font.size':25})\n",
    "plt.figure(figsize=(20,10))\n",
    "sns.boxplot(x='name',y='value',hue='cluster',data=df)\n",
    "plt.xticks([0,1,2],[r'$\\alpha_{stress}$',r'$\\alpha_{smoking}$',r'$\\alpha_{activity}$'])\n",
    "plt.xlabel('Decay Parameters')\n",
    "plt.ylabel('Value')\n",
    "plt.tight_layout()\n",
    "plt.savefig('./data/images/coeff_barplot.png')\n",
    "plt.show()"
   ]
  },
  {
   "cell_type": "code",
   "execution_count": 109,
   "metadata": {},
   "outputs": [
    {
     "data": {
      "text/plain": [
       "(array([8., 0., 0., 1., 0., 0., 0., 0., 0., 1.]),\n",
       " array([2.51239527e-14, 9.37145412e-02, 1.87429082e-01, 2.81143624e-01,\n",
       "        3.74858165e-01, 4.68572706e-01, 5.62287247e-01, 6.56001788e-01,\n",
       "        7.49716330e-01, 8.43430871e-01, 9.37145412e-01]),\n",
       " <BarContainer object of 10 artists>)"
      ]
     },
     "execution_count": 109,
     "metadata": {},
     "output_type": "execute_result"
    },
    {
     "data": {
      "image/png": "[encoded data removed]",
      "text/plain": [
       "<Figure size 432x288 with 1 Axes>"
      ]
     },
     "metadata": {
      "needs_background": "light"
     },
     "output_type": "display_data"
    }
   ],
   "source": [
    "plt.hist(df[(df.name=='alpha_stress')&(df.cluster==3)]['value'])"
   ]
  },
  {
   "cell_type": "code",
   "execution_count": 77,
   "metadata": {},
   "outputs": [],
   "source": []
  },
  {
   "cell_type": "code",
   "execution_count": 78,
   "metadata": {},
   "outputs": [
    {
     "data": {
      "text/plain": [
       "[[-0.0702369287610054, -0.004655786324292421, 1],\n",
       " [-2.1683848899556324e-05, -0.9047526717185974, 3],\n",
       " [-0.14543135464191437, -0.00011286290100542828, 2]]"
      ]
     },
     "execution_count": 78,
     "metadata": {},
     "output_type": "execute_result"
    }
   ],
   "source": [
    "amplitude_duration_data"
   ]
  },
  {
   "cell_type": "code",
   "execution_count": 52,
   "metadata": {},
   "outputs": [],
   "source": [
    "alpha_stress = temp_model.predict([X_feature_test,X_static_test,X_stress_episode_test,\n",
    "                                        X_activity_episode_test,X_smoking_episode_test,X_quit_episode_test])"
   ]
  },
  {
   "cell_type": "code",
   "execution_count": 53,
   "metadata": {},
   "outputs": [
    {
     "data": {
      "text/plain": [
       "(3, 3)"
      ]
     },
     "execution_count": 53,
     "metadata": {},
     "output_type": "execute_result"
    }
   ],
   "source": [
    "# plt.bar(np.arange(3),np.unique(alpha_stress))\n",
    "# np.unique(alpha_stress)\n",
    "len(np.unique([cluster_dict[a] for a in groups_test])),len(np.unique(alpha_stress))"
   ]
  },
  {
   "cell_type": "code",
   "execution_count": 54,
   "metadata": {},
   "outputs": [
    {
     "data": {
      "text/plain": [
       "array([0.7747153 , 0.94893855, 0.9957665 ], dtype=float32)"
      ]
     },
     "execution_count": 54,
     "metadata": {},
     "output_type": "execute_result"
    }
   ],
   "source": [
    "# np.unique(X_static_test,axis=0)\n",
    "np.unique(alpha_stress)\n"
   ]
  },
  {
   "cell_type": "code",
   "execution_count": null,
   "metadata": {},
   "outputs": [],
   "source": [
    "model1 = Model(model.input,model.get_layer('dense_552').output)"
   ]
  },
  {
   "cell_type": "code",
   "execution_count": null,
   "metadata": {},
   "outputs": [],
   "source": [
    "model1.predict([X_feature_test,X_static_test,X_stress_episode_test,\n",
    "                                       X_activity_episode_test,X_smoking_episode_test,X_quit_episode_test])"
   ]
  },
  {
   "cell_type": "code",
   "execution_count": null,
   "metadata": {},
   "outputs": [],
   "source": [
    "X_static_test[0],X_static_test[-1]"
   ]
  },
  {
   "cell_type": "code",
   "execution_count": null,
   "metadata": {},
   "outputs": [],
   "source": [
    "filepath = './models/episode_model.hdf5'\n",
    "checkpoint = ModelCheckpoint(filepath, monitor='val_loss', verbose=0, save_best_only=True, mode='min',save_weights_only=False)\n",
    "es = EarlyStopping(monitor='val_loss', mode='min', verbose=0,patience=40)\n",
    "callbacks_list = [es,checkpoint]\n",
    "train_feature,val_feature,train_static,val_static,train_stress,val_stress, \\\n",
    "train_smoking,val_smoking,train_quit,val_quit,train_activity,val_activity, \\\n",
    "train_y,val_y = train_test_split(train_feature,\n",
    "                                 train_static,\n",
    "                                 train_stress,\n",
    "                                 train_smoking,\n",
    "                                 train_quit,\n",
    "                                 train_activity,\n",
    "                                 train_y,\n",
    "                                 test_size=.1,stratify=train_y)\n",
    "# train_y = tf.cast(train_y, tf.float32)\n",
    "# train_x = tf.cast(train_x, tf.float32)\n",
    "# val_y = tf.cast(val_y, tf.float32)\n",
    "# val_x = tf.cast(val_x, tf.float32)\n",
    "# history = model.fit(train_x,train_y,validation_data=(val_x,val_y), epochs=200, batch_size=30,\n",
    "#                     verbose=0,callbacks=callbacks_list,shuffle=True)"
   ]
  },
  {
   "cell_type": "code",
   "execution_count": null,
   "metadata": {},
   "outputs": [],
   "source": [
    "model.fit([train_feature,train_static,train_stress,train_activity,train_smoking,train_quit],train_y,\n",
    "          validation_data=([val_feature,val_static,val_stress,val_activity,val_smoking,val_quit],val_y), epochs=200, batch_size=30,\n",
    "                    verbose=1,callbacks=callbacks_list,shuffle=True)"
   ]
  },
  {
   "cell_type": "code",
   "execution_count": null,
   "metadata": {},
   "outputs": [],
   "source": [
    "accuracy_score(y_test,\n",
    "               np.round())"
   ]
  },
  {
   "cell_type": "code",
   "execution_count": null,
   "metadata": {},
   "outputs": [],
   "source": [
    "train_feature.shape[2]"
   ]
  },
  {
   "cell_type": "code",
   "execution_count": null,
   "metadata": {},
   "outputs": [],
   "source": []
  },
  {
   "cell_type": "code",
   "execution_count": null,
   "metadata": {},
   "outputs": [],
   "source": [
    "len(np.unique(final_groups))"
   ]
  },
  {
   "cell_type": "code",
   "execution_count": null,
   "metadata": {},
   "outputs": [],
   "source": [
    "model = get_model(X_train)"
   ]
  },
  {
   "cell_type": "code",
   "execution_count": null,
   "metadata": {},
   "outputs": [],
   "source": [
    "model.summary()"
   ]
  },
  {
   "cell_type": "code",
   "execution_count": null,
   "metadata": {},
   "outputs": [],
   "source": [
    "import uuid\n",
    "filepath = './models/'+'-'.join([str(n_lag),str(n_groups)])+'-'+str(uuid.uuid4())+'.hdf5'\n",
    "checkpoint = ModelCheckpoint(filepath, monitor='val_loss', verbose=1, save_best_only=True, mode='min',save_weights_only=False)\n",
    "es = EarlyStopping(monitor='val_loss', mode='min', verbose=0,patience=40)\n",
    "callbacks_list = [es,checkpoint]\n",
    "train_x,val_x,train_y,val_y = train_test_split(X_train,y_train,test_size=.2,stratify=y_train)\n",
    "history = model.fit(train_x,train_y,validation_data=(val_x,val_y), epochs=100, batch_size=100,verbose=1,callbacks=callbacks_list,shuffle=True)"
   ]
  },
  {
   "cell_type": "code",
   "execution_count": null,
   "metadata": {},
   "outputs": [],
   "source": [
    "model.load_weights(filepath)"
   ]
  },
  {
   "cell_type": "code",
   "execution_count": null,
   "metadata": {},
   "outputs": [],
   "source": [
    "y_pred = model.predict(X_test)"
   ]
  },
  {
   "cell_type": "code",
   "execution_count": null,
   "metadata": {},
   "outputs": [],
   "source": [
    "from sklearn.metrics import auc,roc_auc_score,f1_score\n",
    "roc_auc_score(y_test,y_pred)"
   ]
  },
  {
   "cell_type": "code",
   "execution_count": null,
   "metadata": {},
   "outputs": [],
   "source": [
    "len(np.unique(groups))"
   ]
  },
  {
   "cell_type": "code",
   "execution_count": null,
   "metadata": {},
   "outputs": [],
   "source": [
    "y_train"
   ]
  },
  {
   "cell_type": "code",
   "execution_count": 179,
   "metadata": {},
   "outputs": [],
   "source": [
    "import shutil"
   ]
  },
  {
   "cell_type": "code",
   "execution_count": null,
   "metadata": {},
   "outputs": [],
   "source": [
    "\n"
   ]
  },
  {
   "cell_type": "code",
   "execution_count": null,
   "metadata": {},
   "outputs": [],
   "source": []
  },
  {
   "cell_type": "code",
   "execution_count": null,
   "metadata": {},
   "outputs": [],
   "source": []
  },
  {
   "cell_type": "code",
   "execution_count": null,
   "metadata": {},
   "outputs": [],
   "source": []
  },
  {
   "cell_type": "code",
   "execution_count": null,
   "metadata": {},
   "outputs": [],
   "source": []
  },
  {
   "cell_type": "code",
   "execution_count": null,
   "metadata": {},
   "outputs": [],
   "source": []
  },
  {
   "cell_type": "code",
   "execution_count": null,
   "metadata": {},
   "outputs": [],
   "source": []
  },
  {
   "cell_type": "code",
   "execution_count": null,
   "metadata": {},
   "outputs": [],
   "source": []
  },
  {
   "cell_type": "code",
   "execution_count": null,
   "metadata": {},
   "outputs": [],
   "source": []
  },
  {
   "cell_type": "code",
   "execution_count": null,
   "metadata": {},
   "outputs": [],
   "source": []
  },
  {
   "cell_type": "code",
   "execution_count": null,
   "metadata": {},
   "outputs": [],
   "source": []
  },
  {
   "cell_type": "code",
   "execution_count": null,
   "metadata": {},
   "outputs": [],
   "source": []
  },
  {
   "cell_type": "code",
   "execution_count": null,
   "metadata": {},
   "outputs": [],
   "source": []
  },
  {
   "cell_type": "code",
   "execution_count": null,
   "metadata": {},
   "outputs": [],
   "source": []
  },
  {
   "cell_type": "code",
   "execution_count": null,
   "metadata": {},
   "outputs": [],
   "source": [
    "len"
   ]
  },
  {
   "cell_type": "code",
   "execution_count": null,
   "metadata": {},
   "outputs": [],
   "source": []
  },
  {
   "cell_type": "code",
   "execution_count": null,
   "metadata": {},
   "outputs": [],
   "source": []
  },
  {
   "cell_type": "code",
   "execution_count": null,
   "metadata": {},
   "outputs": [],
   "source": []
  }
 ],
 "metadata": {
  "interpreter": {
   "hash": "51b244ab9aca612e739a0539ae1af887c58db9e180d786deb0ab1761def69c1f"
  },
  "kernelspec": {
   "display_name": "Python 3.8.5 64-bit ('test1': conda)",
   "name": "python3"
  },
  "language_info": {
   "codemirror_mode": {
    "name": "ipython",
    "version": 3
   },
   "file_extension": ".py",
   "mimetype": "text/x-python",
   "name": "python",
   "nbconvert_exporter": "python",
   "pygments_lexer": "ipython3",
   "version": "3.8.5"
  }
 },
 "nbformat": 4,
 "nbformat_minor": 4
}
